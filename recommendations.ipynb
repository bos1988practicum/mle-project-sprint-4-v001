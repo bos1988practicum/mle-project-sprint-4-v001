{
 "cells": [
  {
   "cell_type": "markdown",
   "id": "f4095ae4-7294-4b28-853e-88d235002c97",
   "metadata": {},
   "source": [
    "# Инициализация"
   ]
  },
  {
   "cell_type": "markdown",
   "id": "2f2318d2-9df8-4911-915e-15b725c44f8a",
   "metadata": {},
   "source": [
    "Загружаем библиотеки необходимые для выполнения кода ноутбука."
   ]
  },
  {
   "cell_type": "code",
   "execution_count": 1,
   "id": "05f8c60a",
   "metadata": {},
   "outputs": [],
   "source": [
    "import gc"
   ]
  },
  {
   "cell_type": "code",
   "execution_count": 2,
   "id": "8dcb654b",
   "metadata": {},
   "outputs": [],
   "source": [
    "import boto3\n",
    "import os"
   ]
  },
  {
   "cell_type": "code",
   "execution_count": 3,
   "id": "662d04e7-1b0b-4e4a-9ddf-4526d7fef119",
   "metadata": {},
   "outputs": [],
   "source": [
    "import numpy as np\n",
    "import pandas as pd\n",
    "import scipy"
   ]
  },
  {
   "cell_type": "code",
   "execution_count": 4,
   "id": "da4f417a",
   "metadata": {},
   "outputs": [],
   "source": [
    "import matplotlib.pyplot as plt"
   ]
  },
  {
   "cell_type": "code",
   "execution_count": 5,
   "id": "ec82f083",
   "metadata": {},
   "outputs": [
    {
     "name": "stderr",
     "output_type": "stream",
     "text": [
      "/home/mle-user/mle_projects_final/mle-project-sprint-4-v001/.env_recsys_start/lib/python3.10/site-packages/tqdm/auto.py:21: TqdmWarning: IProgress not found. Please update jupyter and ipywidgets. See https://ipywidgets.readthedocs.io/en/stable/user_install.html\n",
      "  from .autonotebook import tqdm as notebook_tqdm\n"
     ]
    }
   ],
   "source": [
    "from sklearn.preprocessing import LabelEncoder, normalize\n",
    "\n",
    "from implicit.als import AlternatingLeastSquares"
   ]
  },
  {
   "cell_type": "code",
   "execution_count": 6,
   "id": "b7f83a48",
   "metadata": {},
   "outputs": [
    {
     "data": {
      "text/plain": [
       "True"
      ]
     },
     "execution_count": 6,
     "metadata": {},
     "output_type": "execute_result"
    }
   ],
   "source": [
    "from dotenv import load_dotenv\n",
    "load_dotenv()"
   ]
  },
  {
   "cell_type": "markdown",
   "id": "f7b2c37d",
   "metadata": {},
   "source": [
    "Самописные утилиты"
   ]
  },
  {
   "cell_type": "code",
   "execution_count": 7,
   "id": "d291f804",
   "metadata": {},
   "outputs": [],
   "source": [
    "def show_dtypes(df: pd.DataFrame, samples:int = 3) -> pd.DataFrame:\n",
    "    return pd.merge(\n",
    "        df.dtypes.astype(str).to_frame(name=\"type\").reset_index().sort_values(\"type\"),\n",
    "        df.isna().sum().to_frame(name=\"isna\").reset_index()\n",
    "    ).merge(\n",
    "        df.head(samples).T.reset_index()\n",
    "    )"
   ]
  },
  {
   "cell_type": "markdown",
   "id": "d90ff6a8",
   "metadata": {},
   "source": [
    "---"
   ]
  },
  {
   "cell_type": "markdown",
   "id": "f2a4d75d",
   "metadata": {},
   "source": [
    "Отсюда можно выполнить код:\n",
    "- последовательно Этап 1 и Этап 2\n",
    "- сразу перейти к Этап 3"
   ]
  },
  {
   "cell_type": "markdown",
   "id": "9f40e4d8",
   "metadata": {},
   "source": [
    "---"
   ]
  },
  {
   "cell_type": "markdown",
   "id": "bf80fbc5-b660-4fac-8fbb-a5cae77313b3",
   "metadata": {},
   "source": [
    "# === ЭТАП 1 ==="
   ]
  },
  {
   "cell_type": "markdown",
   "id": "5263a8b3-fe99-4204-8a2e-105182792c11",
   "metadata": {},
   "source": [
    "## Загрузка первичных данных"
   ]
  },
  {
   "cell_type": "markdown",
   "id": "1b54a6a5-1656-4e3c-99d1-49dc39451d33",
   "metadata": {},
   "source": [
    "Загружаем первичные данные из файлов:\n",
    "- tracks.parquet\n",
    "- catalog_names.parquet\n",
    "- interactions.parquet"
   ]
  },
  {
   "cell_type": "code",
   "execution_count": 8,
   "id": "5d4b8961-3f35-4e58-9d6b-3e2dbd2c4224",
   "metadata": {},
   "outputs": [
    {
     "name": "stdout",
     "output_type": "stream",
     "text": [
      "'tracks.parquet' loaded\n",
      "'catalog_names.parquet' loaded\n",
      "'interactions.parquet' loaded\n"
     ]
    }
   ],
   "source": [
    "# 30 sec\n",
    "\n",
    "df_tracks = pd.read_parquet(\"tracks.parquet\")\n",
    "print(\"'tracks.parquet' loaded\")\n",
    "df_catalog = pd.read_parquet(\"catalog_names.parquet\")\n",
    "print(\"'catalog_names.parquet' loaded\")\n",
    "df_events = pd.read_parquet(\"interactions.parquet\")\n",
    "print(\"'interactions.parquet' loaded\")"
   ]
  },
  {
   "cell_type": "markdown",
   "id": "e8f2a1f7-a05f-4f39-af90-5f4018aa6f9d",
   "metadata": {},
   "source": [
    "## Обзор данных"
   ]
  },
  {
   "cell_type": "markdown",
   "id": "46a85307-896c-4fac-9fcf-f0dffa90889e",
   "metadata": {},
   "source": [
    "Проверяем данные, есть ли с ними явные проблемы."
   ]
  },
  {
   "cell_type": "markdown",
   "id": "8ab9b9ca",
   "metadata": {},
   "source": [
    "### Данные о треках"
   ]
  },
  {
   "cell_type": "code",
   "execution_count": 9,
   "id": "40ffc594",
   "metadata": {},
   "outputs": [
    {
     "data": {
      "text/plain": [
       "(1000000, 4)"
      ]
     },
     "execution_count": 9,
     "metadata": {},
     "output_type": "execute_result"
    }
   ],
   "source": [
    "# Размер таблицы\n",
    "# (1000000, 4)\n",
    "\n",
    "df_tracks.shape"
   ]
  },
  {
   "cell_type": "code",
   "execution_count": 10,
   "id": "d449c7a8",
   "metadata": {},
   "outputs": [
    {
     "data": {
      "text/html": [
       "<div>\n",
       "<style scoped>\n",
       "    .dataframe tbody tr th:only-of-type {\n",
       "        vertical-align: middle;\n",
       "    }\n",
       "\n",
       "    .dataframe tbody tr th {\n",
       "        vertical-align: top;\n",
       "    }\n",
       "\n",
       "    .dataframe thead th {\n",
       "        text-align: right;\n",
       "    }\n",
       "</style>\n",
       "<table border=\"1\" class=\"dataframe\">\n",
       "  <thead>\n",
       "    <tr style=\"text-align: right;\">\n",
       "      <th></th>\n",
       "      <th>index</th>\n",
       "      <th>type</th>\n",
       "      <th>isna</th>\n",
       "      <th>0</th>\n",
       "      <th>1</th>\n",
       "      <th>2</th>\n",
       "      <th>3</th>\n",
       "      <th>4</th>\n",
       "    </tr>\n",
       "  </thead>\n",
       "  <tbody>\n",
       "    <tr>\n",
       "      <th>0</th>\n",
       "      <td>track_id</td>\n",
       "      <td>int64</td>\n",
       "      <td>0</td>\n",
       "      <td>26</td>\n",
       "      <td>38</td>\n",
       "      <td>135</td>\n",
       "      <td>136</td>\n",
       "      <td>138</td>\n",
       "    </tr>\n",
       "    <tr>\n",
       "      <th>1</th>\n",
       "      <td>albums</td>\n",
       "      <td>object</td>\n",
       "      <td>0</td>\n",
       "      <td>[3, 2490753]</td>\n",
       "      <td>[3, 2490753]</td>\n",
       "      <td>[12, 214, 2490809]</td>\n",
       "      <td>[12, 214, 2490809]</td>\n",
       "      <td>[12, 214, 322, 72275, 72292, 91199, 213505, 24...</td>\n",
       "    </tr>\n",
       "    <tr>\n",
       "      <th>2</th>\n",
       "      <td>artists</td>\n",
       "      <td>object</td>\n",
       "      <td>0</td>\n",
       "      <td>[16]</td>\n",
       "      <td>[16]</td>\n",
       "      <td>[84]</td>\n",
       "      <td>[84]</td>\n",
       "      <td>[84]</td>\n",
       "    </tr>\n",
       "    <tr>\n",
       "      <th>3</th>\n",
       "      <td>genres</td>\n",
       "      <td>object</td>\n",
       "      <td>0</td>\n",
       "      <td>[11, 21]</td>\n",
       "      <td>[11, 21]</td>\n",
       "      <td>[11]</td>\n",
       "      <td>[11]</td>\n",
       "      <td>[11]</td>\n",
       "    </tr>\n",
       "  </tbody>\n",
       "</table>\n",
       "</div>"
      ],
      "text/plain": [
       "      index    type  isna             0             1                   2  \\\n",
       "0  track_id   int64     0            26            38                 135   \n",
       "1    albums  object     0  [3, 2490753]  [3, 2490753]  [12, 214, 2490809]   \n",
       "2   artists  object     0          [16]          [16]                [84]   \n",
       "3    genres  object     0      [11, 21]      [11, 21]                [11]   \n",
       "\n",
       "                    3                                                  4  \n",
       "0                 136                                                138  \n",
       "1  [12, 214, 2490809]  [12, 214, 322, 72275, 72292, 91199, 213505, 24...  \n",
       "2                [84]                                               [84]  \n",
       "3                [11]                                               [11]  "
      ]
     },
     "execution_count": 10,
     "metadata": {},
     "output_type": "execute_result"
    }
   ],
   "source": [
    "# Пропуски, Типы, Примеры данных\n",
    "\n",
    "show_dtypes(df_tracks, 5)"
   ]
  },
  {
   "cell_type": "code",
   "execution_count": 11,
   "id": "90d0af57",
   "metadata": {},
   "outputs": [
    {
     "data": {
      "text/plain": [
       "1000000"
      ]
     },
     "execution_count": 11,
     "metadata": {},
     "output_type": "execute_result"
    }
   ],
   "source": [
    "# Кол-во уникальных треков\n",
    "# 1000000\n",
    "\n",
    "df_tracks[\"track_id\"].nunique()"
   ]
  },
  {
   "cell_type": "code",
   "execution_count": 12,
   "id": "c9f8f17e-9b56-4f5a-a463-f694a993effb",
   "metadata": {},
   "outputs": [
    {
     "data": {
      "text/plain": [
       "(True, 26, 101521819)"
      ]
     },
     "execution_count": 12,
     "metadata": {},
     "output_type": "execute_result"
    }
   ],
   "source": [
    "# Индексы треков\n",
    "# (True, 26, 101521819)\n",
    "\n",
    "df_tracks[\"track_id\"].is_monotonic_increasing, df_tracks[\"track_id\"].min(), df_tracks[\"track_id\"].max()"
   ]
  },
  {
   "cell_type": "code",
   "execution_count": 13,
   "id": "c7ef5134",
   "metadata": {},
   "outputs": [
    {
     "data": {
      "text/plain": [
       "0"
      ]
     },
     "execution_count": 13,
     "metadata": {},
     "output_type": "execute_result"
    }
   ],
   "source": [
    "# 2 min !\n",
    "# Дубликаты\n",
    "# 0\n",
    "\n",
    "df_tracks.astype(str).duplicated().sum()"
   ]
  },
  {
   "cell_type": "markdown",
   "id": "ee4b54e1",
   "metadata": {},
   "source": [
    "### Имена исполнителей, названия альбомов, треков и жанров"
   ]
  },
  {
   "cell_type": "code",
   "execution_count": 14,
   "id": "0f70cc38",
   "metadata": {},
   "outputs": [
    {
     "data": {
      "text/plain": [
       "(1812471, 3)"
      ]
     },
     "execution_count": 14,
     "metadata": {},
     "output_type": "execute_result"
    }
   ],
   "source": [
    "# Размер таблицы\n",
    "# (1812471, 3)\n",
    "\n",
    "df_catalog.shape"
   ]
  },
  {
   "cell_type": "code",
   "execution_count": 15,
   "id": "248a7fa6",
   "metadata": {},
   "outputs": [
    {
     "data": {
      "text/html": [
       "<div>\n",
       "<style scoped>\n",
       "    .dataframe tbody tr th:only-of-type {\n",
       "        vertical-align: middle;\n",
       "    }\n",
       "\n",
       "    .dataframe tbody tr th {\n",
       "        vertical-align: top;\n",
       "    }\n",
       "\n",
       "    .dataframe thead th {\n",
       "        text-align: right;\n",
       "    }\n",
       "</style>\n",
       "<table border=\"1\" class=\"dataframe\">\n",
       "  <thead>\n",
       "    <tr style=\"text-align: right;\">\n",
       "      <th></th>\n",
       "      <th>index</th>\n",
       "      <th>type</th>\n",
       "      <th>isna</th>\n",
       "      <th>0</th>\n",
       "      <th>1</th>\n",
       "      <th>2</th>\n",
       "      <th>3</th>\n",
       "      <th>4</th>\n",
       "    </tr>\n",
       "  </thead>\n",
       "  <tbody>\n",
       "    <tr>\n",
       "      <th>0</th>\n",
       "      <td>id</td>\n",
       "      <td>int64</td>\n",
       "      <td>0</td>\n",
       "      <td>3</td>\n",
       "      <td>12</td>\n",
       "      <td>13</td>\n",
       "      <td>17</td>\n",
       "      <td>26</td>\n",
       "    </tr>\n",
       "    <tr>\n",
       "      <th>1</th>\n",
       "      <td>type</td>\n",
       "      <td>object</td>\n",
       "      <td>0</td>\n",
       "      <td>album</td>\n",
       "      <td>album</td>\n",
       "      <td>album</td>\n",
       "      <td>album</td>\n",
       "      <td>album</td>\n",
       "    </tr>\n",
       "    <tr>\n",
       "      <th>2</th>\n",
       "      <td>name</td>\n",
       "      <td>object</td>\n",
       "      <td>0</td>\n",
       "      <td>Taller Children</td>\n",
       "      <td>Wild Young Hearts</td>\n",
       "      <td>Lonesome Crow</td>\n",
       "      <td>Graffiti Soul</td>\n",
       "      <td>Blues Six Pack</td>\n",
       "    </tr>\n",
       "  </tbody>\n",
       "</table>\n",
       "</div>"
      ],
      "text/plain": [
       "  index    type  isna                0                  1              2  \\\n",
       "0    id   int64     0                3                 12             13   \n",
       "1  type  object     0            album              album          album   \n",
       "2  name  object     0  Taller Children  Wild Young Hearts  Lonesome Crow   \n",
       "\n",
       "               3               4  \n",
       "0             17              26  \n",
       "1          album           album  \n",
       "2  Graffiti Soul  Blues Six Pack  "
      ]
     },
     "execution_count": 15,
     "metadata": {},
     "output_type": "execute_result"
    }
   ],
   "source": [
    "# Пропуски, Типы, Примеры данных\n",
    "\n",
    "show_dtypes(df_catalog, 5)"
   ]
  },
  {
   "cell_type": "code",
   "execution_count": 16,
   "id": "e7c2e938",
   "metadata": {},
   "outputs": [
    {
     "data": {
      "text/plain": [
       "id      1776697\n",
       "type          4\n",
       "name     945118\n",
       "dtype: int64"
      ]
     },
     "execution_count": 16,
     "metadata": {},
     "output_type": "execute_result"
    }
   ],
   "source": [
    "# Кол-во уникальных значений\n",
    "# id      1776697\n",
    "# type          4\n",
    "# name     945118\n",
    "\n",
    "df_catalog.nunique()"
   ]
  },
  {
   "cell_type": "code",
   "execution_count": 17,
   "id": "dfc35dd4",
   "metadata": {},
   "outputs": [
    {
     "data": {
      "text/plain": [
       "array(['album', 'artist', 'genre', 'track'], dtype=object)"
      ]
     },
     "execution_count": 17,
     "metadata": {},
     "output_type": "execute_result"
    }
   ],
   "source": [
    "# Типы\n",
    "# ['album', 'artist', 'genre', 'track']\n",
    "\n",
    "df_catalog[\"type\"].unique()"
   ]
  },
  {
   "cell_type": "code",
   "execution_count": 18,
   "id": "57c4a634",
   "metadata": {},
   "outputs": [
    {
     "data": {
      "text/plain": [
       "0"
      ]
     },
     "execution_count": 18,
     "metadata": {},
     "output_type": "execute_result"
    }
   ],
   "source": [
    "# Дубликаты\n",
    "# 0\n",
    "\n",
    "df_catalog.duplicated().sum()"
   ]
  },
  {
   "cell_type": "markdown",
   "id": "07f82de0",
   "metadata": {},
   "source": [
    "### Данные о том, какие пользователи прослушали тот или иной трек"
   ]
  },
  {
   "cell_type": "code",
   "execution_count": 19,
   "id": "2b46a167",
   "metadata": {},
   "outputs": [
    {
     "data": {
      "text/plain": [
       "(222629898, 4)"
      ]
     },
     "execution_count": 19,
     "metadata": {},
     "output_type": "execute_result"
    }
   ],
   "source": [
    "# Размер таблицы\n",
    "# (222629898, 4)\n",
    "\n",
    "df_events.shape"
   ]
  },
  {
   "cell_type": "code",
   "execution_count": 20,
   "id": "8ae4e481",
   "metadata": {},
   "outputs": [
    {
     "data": {
      "text/html": [
       "<div>\n",
       "<style scoped>\n",
       "    .dataframe tbody tr th:only-of-type {\n",
       "        vertical-align: middle;\n",
       "    }\n",
       "\n",
       "    .dataframe tbody tr th {\n",
       "        vertical-align: top;\n",
       "    }\n",
       "\n",
       "    .dataframe thead th {\n",
       "        text-align: right;\n",
       "    }\n",
       "</style>\n",
       "<table border=\"1\" class=\"dataframe\">\n",
       "  <thead>\n",
       "    <tr style=\"text-align: right;\">\n",
       "      <th></th>\n",
       "      <th>index</th>\n",
       "      <th>type</th>\n",
       "      <th>isna</th>\n",
       "      <th>0</th>\n",
       "      <th>1</th>\n",
       "      <th>2</th>\n",
       "      <th>3</th>\n",
       "      <th>4</th>\n",
       "    </tr>\n",
       "  </thead>\n",
       "  <tbody>\n",
       "    <tr>\n",
       "      <th>0</th>\n",
       "      <td>started_at</td>\n",
       "      <td>datetime64[ns]</td>\n",
       "      <td>0</td>\n",
       "      <td>2022-07-17 00:00:00</td>\n",
       "      <td>2022-07-19 00:00:00</td>\n",
       "      <td>2022-07-21 00:00:00</td>\n",
       "      <td>2022-07-22 00:00:00</td>\n",
       "      <td>2022-07-22 00:00:00</td>\n",
       "    </tr>\n",
       "    <tr>\n",
       "      <th>1</th>\n",
       "      <td>track_seq</td>\n",
       "      <td>int16</td>\n",
       "      <td>0</td>\n",
       "      <td>1</td>\n",
       "      <td>2</td>\n",
       "      <td>3</td>\n",
       "      <td>4</td>\n",
       "      <td>5</td>\n",
       "    </tr>\n",
       "    <tr>\n",
       "      <th>2</th>\n",
       "      <td>user_id</td>\n",
       "      <td>int32</td>\n",
       "      <td>0</td>\n",
       "      <td>0</td>\n",
       "      <td>0</td>\n",
       "      <td>0</td>\n",
       "      <td>0</td>\n",
       "      <td>0</td>\n",
       "    </tr>\n",
       "    <tr>\n",
       "      <th>3</th>\n",
       "      <td>track_id</td>\n",
       "      <td>int32</td>\n",
       "      <td>0</td>\n",
       "      <td>99262</td>\n",
       "      <td>589498</td>\n",
       "      <td>590262</td>\n",
       "      <td>590303</td>\n",
       "      <td>590692</td>\n",
       "    </tr>\n",
       "  </tbody>\n",
       "</table>\n",
       "</div>"
      ],
      "text/plain": [
       "        index            type  isna                    0                    1  \\\n",
       "0  started_at  datetime64[ns]     0  2022-07-17 00:00:00  2022-07-19 00:00:00   \n",
       "1   track_seq           int16     0                    1                    2   \n",
       "2     user_id           int32     0                    0                    0   \n",
       "3    track_id           int32     0                99262               589498   \n",
       "\n",
       "                     2                    3                    4  \n",
       "0  2022-07-21 00:00:00  2022-07-22 00:00:00  2022-07-22 00:00:00  \n",
       "1                    3                    4                    5  \n",
       "2                    0                    0                    0  \n",
       "3               590262               590303               590692  "
      ]
     },
     "execution_count": 20,
     "metadata": {},
     "output_type": "execute_result"
    }
   ],
   "source": [
    "# Пропуски, Типы, Примеры данных\n",
    "\n",
    "show_dtypes(df_events, 5)"
   ]
  },
  {
   "cell_type": "code",
   "execution_count": 21,
   "id": "cbb13ce9",
   "metadata": {},
   "outputs": [
    {
     "data": {
      "text/plain": [
       "user_id       1373221\n",
       "track_id      1000000\n",
       "track_seq       16637\n",
       "started_at        365\n",
       "dtype: int64"
      ]
     },
     "execution_count": 21,
     "metadata": {},
     "output_type": "execute_result"
    },
    {
     "ename": "",
     "evalue": "",
     "output_type": "error",
     "traceback": [
      "\u001b[1;31mThe Kernel crashed while executing code in the current cell or a previous cell. \n",
      "\u001b[1;31mPlease review the code in the cell(s) to identify a possible cause of the failure. \n",
      "\u001b[1;31mClick <a href='https://aka.ms/vscodeJupyterKernelCrash'>here</a> for more info. \n",
      "\u001b[1;31mView Jupyter <a href='command:jupyter.viewOutput'>log</a> for further details."
     ]
    }
   ],
   "source": [
    "# Кол-во уникальных значений\n",
    "# user_id       1373221\n",
    "# track_id      1000000\n",
    "# track_seq       16637\n",
    "# started_at        365\n",
    "\n",
    "df_events.nunique()"
   ]
  },
  {
   "cell_type": "code",
   "execution_count": 22,
   "id": "6e366d6e",
   "metadata": {},
   "outputs": [],
   "source": [
    "# 2 min !\n",
    "# Дубликаты\n",
    "# 0\n",
    "\n",
    "df_events.duplicated().sum()"
   ]
  },
  {
   "cell_type": "markdown",
   "id": "318b573a-9e2d-4808-95db-60cfb8bbdb73",
   "metadata": {
    "editable": true,
    "slideshow": {
     "slide_type": ""
    },
    "tags": []
   },
   "source": [
    "## Выводы"
   ]
  },
  {
   "cell_type": "markdown",
   "id": "1030e1b5",
   "metadata": {},
   "source": [
    "\n",
    "- Пропуски в данных отсутствуют\n",
    "- Дубликаты отсутствуют\n",
    "- Типы данных соответствуют\n",
    "- Полный размер матрицы взаимодействий:\n",
    "  - **1 373 221** пользователей\n",
    "  - **1 000 000** треков\n",
    "- При подготовке данных переименовать `track_id` в общепринятое обозначение объектов взаимодействия `item_id`"
   ]
  },
  {
   "cell_type": "markdown",
   "id": "7bc3296b-eba6-4333-a78d-b9304aa87e3d",
   "metadata": {},
   "source": [
    "# === ЭТАП 2 ==="
   ]
  },
  {
   "cell_type": "markdown",
   "id": "68e73960-fd38-4e15-8db0-9a25c35dfd25",
   "metadata": {},
   "source": [
    "## EDA"
   ]
  },
  {
   "cell_type": "markdown",
   "id": "6ada4014",
   "metadata": {},
   "source": [
    "Информация по названиям треков и исполнителям"
   ]
  },
  {
   "cell_type": "code",
   "execution_count": null,
   "id": "f93fc892",
   "metadata": {},
   "outputs": [],
   "source": [
    "# 2 min !\n",
    "\n",
    "df_track_info = (\n",
    "    df_tracks\n",
    "    .merge(\n",
    "        df_catalog.loc[df_catalog[\"type\"]==\"track\", [\"id\", \"name\"]].rename(columns={\"id\": \"track_id\", \"name\": \"track_name\"}),\n",
    "        on=\"track_id\",\n",
    "        how=\"left\",\n",
    "    )\n",
    "    .merge(\n",
    "        (\n",
    "            df_tracks[[\"track_id\", \"artists\"]]\n",
    "            .explode(\"artists\")\n",
    "            .merge(\n",
    "                df_catalog.loc[df_catalog[\"type\"]==\"artist\", [\"id\", \"name\"]].rename(columns={\"id\": \"artists\", \"name\": \"artist_names\"}),\n",
    "                on=\"artists\",\n",
    "                how=\"left\"\n",
    "            )\n",
    "            .groupby(\"track_id\", as_index=False)[\"artist_names\"].apply(lambda x: '; '.join(x.astype(str)))\n",
    "        ),\n",
    "        on=\"track_id\",\n",
    "        how=\"left\",\n",
    "    )\n",
    "    [[\"track_id\", \"track_name\", \"artist_names\"]]\n",
    ")"
   ]
  },
  {
   "cell_type": "code",
   "execution_count": null,
   "id": "eaf910d7",
   "metadata": {},
   "outputs": [
    {
     "data": {
      "text/plain": [
       "(1000000, 3)"
      ]
     },
     "execution_count": 24,
     "metadata": {},
     "output_type": "execute_result"
    }
   ],
   "source": [
    "# (1000000, 3)\n",
    "df_track_info.shape"
   ]
  },
  {
   "cell_type": "code",
   "execution_count": null,
   "id": "79dd1d91",
   "metadata": {},
   "outputs": [
    {
     "data": {
      "text/html": [
       "<div>\n",
       "<style scoped>\n",
       "    .dataframe tbody tr th:only-of-type {\n",
       "        vertical-align: middle;\n",
       "    }\n",
       "\n",
       "    .dataframe tbody tr th {\n",
       "        vertical-align: top;\n",
       "    }\n",
       "\n",
       "    .dataframe thead th {\n",
       "        text-align: right;\n",
       "    }\n",
       "</style>\n",
       "<table border=\"1\" class=\"dataframe\">\n",
       "  <thead>\n",
       "    <tr style=\"text-align: right;\">\n",
       "      <th></th>\n",
       "      <th>track_id</th>\n",
       "      <th>track_name</th>\n",
       "      <th>artist_names</th>\n",
       "    </tr>\n",
       "  </thead>\n",
       "  <tbody>\n",
       "    <tr>\n",
       "      <th>0</th>\n",
       "      <td>26</td>\n",
       "      <td>Complimentary Me</td>\n",
       "      <td>Elizabeth &amp; the Catapult</td>\n",
       "    </tr>\n",
       "    <tr>\n",
       "      <th>1</th>\n",
       "      <td>38</td>\n",
       "      <td>Momma's Boy</td>\n",
       "      <td>Elizabeth &amp; the Catapult</td>\n",
       "    </tr>\n",
       "    <tr>\n",
       "      <th>2</th>\n",
       "      <td>135</td>\n",
       "      <td>Atticus</td>\n",
       "      <td>Noisettes</td>\n",
       "    </tr>\n",
       "    <tr>\n",
       "      <th>3</th>\n",
       "      <td>136</td>\n",
       "      <td>24 Hours</td>\n",
       "      <td>Noisettes</td>\n",
       "    </tr>\n",
       "    <tr>\n",
       "      <th>4</th>\n",
       "      <td>138</td>\n",
       "      <td>Don't Upset The Rhythm (Go Baby Go)</td>\n",
       "      <td>Noisettes</td>\n",
       "    </tr>\n",
       "  </tbody>\n",
       "</table>\n",
       "</div>"
      ],
      "text/plain": [
       "   track_id                           track_name              artist_names\n",
       "0        26                     Complimentary Me  Elizabeth & the Catapult\n",
       "1        38                          Momma's Boy  Elizabeth & the Catapult\n",
       "2       135                              Atticus                 Noisettes\n",
       "3       136                             24 Hours                 Noisettes\n",
       "4       138  Don't Upset The Rhythm (Go Baby Go)                 Noisettes"
      ]
     },
     "execution_count": 25,
     "metadata": {},
     "output_type": "execute_result"
    }
   ],
   "source": [
    "df_track_info.head()"
   ]
  },
  {
   "cell_type": "markdown",
   "id": "47ed91a5",
   "metadata": {},
   "source": [
    "### Каталог"
   ]
  },
  {
   "cell_type": "code",
   "execution_count": null,
   "id": "0fc3bd83",
   "metadata": {},
   "outputs": [
    {
     "data": {
      "text/plain": [
       "type\n",
       "album      658724\n",
       "artist     153581\n",
       "genre         166\n",
       "track     1000000\n",
       "Name: id, dtype: int64"
      ]
     },
     "execution_count": 26,
     "metadata": {},
     "output_type": "execute_result"
    }
   ],
   "source": [
    "# album      658724\n",
    "# artist     153581\n",
    "# genre         166\n",
    "# track     1000000\n",
    "\n",
    "df_catalog.groupby(\"type\")[\"id\"].nunique()"
   ]
  },
  {
   "cell_type": "code",
   "execution_count": null,
   "id": "500164a9",
   "metadata": {},
   "outputs": [
    {
     "data": {
      "text/plain": [
       "658724"
      ]
     },
     "execution_count": 27,
     "metadata": {},
     "output_type": "execute_result"
    }
   ],
   "source": [
    "# 658724\n",
    "\n",
    "df_tracks[\"albums\"].explode().nunique()"
   ]
  },
  {
   "cell_type": "code",
   "execution_count": null,
   "id": "4e5ce105",
   "metadata": {},
   "outputs": [
    {
     "data": {
      "text/plain": [
       "153581"
      ]
     },
     "execution_count": 28,
     "metadata": {},
     "output_type": "execute_result"
    }
   ],
   "source": [
    "# 153581\n",
    "\n",
    "df_tracks[\"artists\"].explode().nunique()"
   ]
  },
  {
   "cell_type": "code",
   "execution_count": null,
   "id": "16f43efe",
   "metadata": {},
   "outputs": [
    {
     "data": {
      "text/plain": [
       "173"
      ]
     },
     "execution_count": 29,
     "metadata": {},
     "output_type": "execute_result"
    }
   ],
   "source": [
    "# 173\n",
    "\n",
    "df_tracks[\"genres\"].explode().nunique()"
   ]
  },
  {
   "cell_type": "code",
   "execution_count": null,
   "id": "4fd98cc2",
   "metadata": {},
   "outputs": [
    {
     "data": {
      "text/plain": [
       "set()"
      ]
     },
     "execution_count": 30,
     "metadata": {},
     "output_type": "execute_result"
    }
   ],
   "source": [
    "set(df_tracks[\"track_id\"].explode()) ^ set(df_catalog.loc[df_catalog[\"type\"]==\"track\", \"id\"])"
   ]
  },
  {
   "cell_type": "code",
   "execution_count": null,
   "id": "b353f252",
   "metadata": {},
   "outputs": [
    {
     "data": {
      "text/plain": [
       "{nan,\n",
       " nan,\n",
       " nan,\n",
       " nan,\n",
       " nan,\n",
       " nan,\n",
       " nan,\n",
       " nan,\n",
       " nan,\n",
       " nan,\n",
       " nan,\n",
       " nan,\n",
       " nan,\n",
       " nan,\n",
       " nan,\n",
       " nan,\n",
       " nan,\n",
       " nan}"
      ]
     },
     "execution_count": 31,
     "metadata": {},
     "output_type": "execute_result"
    }
   ],
   "source": [
    "set(df_tracks[\"albums\"].explode()) ^ set(df_catalog.loc[df_catalog[\"type\"]==\"album\", \"id\"])"
   ]
  },
  {
   "cell_type": "code",
   "execution_count": null,
   "id": "01114652",
   "metadata": {},
   "outputs": [
    {
     "data": {
      "text/plain": [
       "18"
      ]
     },
     "execution_count": 32,
     "metadata": {},
     "output_type": "execute_result"
    }
   ],
   "source": [
    "(df_tracks[\"albums\"].apply(len) == 0).sum()"
   ]
  },
  {
   "cell_type": "code",
   "execution_count": null,
   "id": "82a8a6fa",
   "metadata": {},
   "outputs": [
    {
     "data": {
      "text/plain": [
       "{nan,\n",
       " nan,\n",
       " nan,\n",
       " nan,\n",
       " nan,\n",
       " nan,\n",
       " nan,\n",
       " nan,\n",
       " nan,\n",
       " nan,\n",
       " nan,\n",
       " nan,\n",
       " nan,\n",
       " nan,\n",
       " nan,\n",
       " nan,\n",
       " nan,\n",
       " nan,\n",
       " nan,\n",
       " nan,\n",
       " nan,\n",
       " nan,\n",
       " nan,\n",
       " nan,\n",
       " nan,\n",
       " nan,\n",
       " nan,\n",
       " nan,\n",
       " nan,\n",
       " nan,\n",
       " nan,\n",
       " nan,\n",
       " nan,\n",
       " nan,\n",
       " nan,\n",
       " nan,\n",
       " nan,\n",
       " nan,\n",
       " nan,\n",
       " nan,\n",
       " nan,\n",
       " nan,\n",
       " nan,\n",
       " nan,\n",
       " nan,\n",
       " nan,\n",
       " nan,\n",
       " nan,\n",
       " nan,\n",
       " nan,\n",
       " nan,\n",
       " nan,\n",
       " nan,\n",
       " nan,\n",
       " nan,\n",
       " nan,\n",
       " nan,\n",
       " nan,\n",
       " nan,\n",
       " nan,\n",
       " nan,\n",
       " nan,\n",
       " nan,\n",
       " nan,\n",
       " nan,\n",
       " nan,\n",
       " nan,\n",
       " nan,\n",
       " nan,\n",
       " nan,\n",
       " nan,\n",
       " nan,\n",
       " nan,\n",
       " nan,\n",
       " nan,\n",
       " nan,\n",
       " nan,\n",
       " nan,\n",
       " nan,\n",
       " nan,\n",
       " nan,\n",
       " nan,\n",
       " nan,\n",
       " nan,\n",
       " nan,\n",
       " nan,\n",
       " nan,\n",
       " nan,\n",
       " nan,\n",
       " nan,\n",
       " nan,\n",
       " nan,\n",
       " nan,\n",
       " nan,\n",
       " nan,\n",
       " nan,\n",
       " nan,\n",
       " nan,\n",
       " nan,\n",
       " nan,\n",
       " nan,\n",
       " nan,\n",
       " nan,\n",
       " nan,\n",
       " nan,\n",
       " nan,\n",
       " nan,\n",
       " nan,\n",
       " nan,\n",
       " nan,\n",
       " nan,\n",
       " nan,\n",
       " nan,\n",
       " nan,\n",
       " nan,\n",
       " nan,\n",
       " nan,\n",
       " nan,\n",
       " nan,\n",
       " nan,\n",
       " nan,\n",
       " nan,\n",
       " nan,\n",
       " nan,\n",
       " nan,\n",
       " nan,\n",
       " nan,\n",
       " nan,\n",
       " nan,\n",
       " nan,\n",
       " nan,\n",
       " nan,\n",
       " nan,\n",
       " nan,\n",
       " nan,\n",
       " nan,\n",
       " nan,\n",
       " nan,\n",
       " nan,\n",
       " nan,\n",
       " nan,\n",
       " nan,\n",
       " nan,\n",
       " nan,\n",
       " nan,\n",
       " nan,\n",
       " nan,\n",
       " nan,\n",
       " nan,\n",
       " nan,\n",
       " nan,\n",
       " nan,\n",
       " nan,\n",
       " nan,\n",
       " nan,\n",
       " nan,\n",
       " nan,\n",
       " nan,\n",
       " nan,\n",
       " nan,\n",
       " nan,\n",
       " nan,\n",
       " nan,\n",
       " nan,\n",
       " nan,\n",
       " nan,\n",
       " nan,\n",
       " nan,\n",
       " nan,\n",
       " nan,\n",
       " nan,\n",
       " nan,\n",
       " nan,\n",
       " nan,\n",
       " nan,\n",
       " nan,\n",
       " nan,\n",
       " nan,\n",
       " nan,\n",
       " nan,\n",
       " nan,\n",
       " nan,\n",
       " nan,\n",
       " nan,\n",
       " nan,\n",
       " nan,\n",
       " nan,\n",
       " nan,\n",
       " nan,\n",
       " nan,\n",
       " nan,\n",
       " nan,\n",
       " nan,\n",
       " nan,\n",
       " nan,\n",
       " nan,\n",
       " nan,\n",
       " nan,\n",
       " nan,\n",
       " nan,\n",
       " nan,\n",
       " nan,\n",
       " nan,\n",
       " nan,\n",
       " nan,\n",
       " nan,\n",
       " nan,\n",
       " nan,\n",
       " nan,\n",
       " nan,\n",
       " nan,\n",
       " nan,\n",
       " nan,\n",
       " nan,\n",
       " nan,\n",
       " nan,\n",
       " nan,\n",
       " nan,\n",
       " nan,\n",
       " nan,\n",
       " nan,\n",
       " nan,\n",
       " nan,\n",
       " nan,\n",
       " nan,\n",
       " nan,\n",
       " nan,\n",
       " nan,\n",
       " nan,\n",
       " nan,\n",
       " nan,\n",
       " nan,\n",
       " nan,\n",
       " nan,\n",
       " nan,\n",
       " nan,\n",
       " nan,\n",
       " nan,\n",
       " nan,\n",
       " nan,\n",
       " nan,\n",
       " nan,\n",
       " nan,\n",
       " nan,\n",
       " nan,\n",
       " nan,\n",
       " nan,\n",
       " nan,\n",
       " nan,\n",
       " nan,\n",
       " nan,\n",
       " nan,\n",
       " nan,\n",
       " nan,\n",
       " nan,\n",
       " nan,\n",
       " nan,\n",
       " nan,\n",
       " nan,\n",
       " nan,\n",
       " nan,\n",
       " nan,\n",
       " nan,\n",
       " nan,\n",
       " nan,\n",
       " nan,\n",
       " nan,\n",
       " nan,\n",
       " nan,\n",
       " nan,\n",
       " nan,\n",
       " nan,\n",
       " nan,\n",
       " nan,\n",
       " nan,\n",
       " nan,\n",
       " nan,\n",
       " nan,\n",
       " nan,\n",
       " nan,\n",
       " nan,\n",
       " nan,\n",
       " nan,\n",
       " nan,\n",
       " nan,\n",
       " nan,\n",
       " nan,\n",
       " nan,\n",
       " nan,\n",
       " nan,\n",
       " nan,\n",
       " nan,\n",
       " nan,\n",
       " nan,\n",
       " nan,\n",
       " nan,\n",
       " nan,\n",
       " nan,\n",
       " nan,\n",
       " nan,\n",
       " nan,\n",
       " nan,\n",
       " nan,\n",
       " nan,\n",
       " nan,\n",
       " nan,\n",
       " nan,\n",
       " nan,\n",
       " nan,\n",
       " nan,\n",
       " nan,\n",
       " nan,\n",
       " nan,\n",
       " nan,\n",
       " nan,\n",
       " nan,\n",
       " nan,\n",
       " nan,\n",
       " nan,\n",
       " nan,\n",
       " nan,\n",
       " nan,\n",
       " nan,\n",
       " nan,\n",
       " nan,\n",
       " nan,\n",
       " nan,\n",
       " nan,\n",
       " nan,\n",
       " nan,\n",
       " nan,\n",
       " nan,\n",
       " nan,\n",
       " nan,\n",
       " nan,\n",
       " nan,\n",
       " nan,\n",
       " nan,\n",
       " nan,\n",
       " nan,\n",
       " nan,\n",
       " nan,\n",
       " nan,\n",
       " nan,\n",
       " nan,\n",
       " nan,\n",
       " nan,\n",
       " nan,\n",
       " nan,\n",
       " nan,\n",
       " nan,\n",
       " nan,\n",
       " nan,\n",
       " nan,\n",
       " nan,\n",
       " nan,\n",
       " nan,\n",
       " nan,\n",
       " nan,\n",
       " nan,\n",
       " nan,\n",
       " nan,\n",
       " nan,\n",
       " nan,\n",
       " nan,\n",
       " nan,\n",
       " nan,\n",
       " nan,\n",
       " nan,\n",
       " nan,\n",
       " nan,\n",
       " nan,\n",
       " nan,\n",
       " nan,\n",
       " nan,\n",
       " nan,\n",
       " nan,\n",
       " nan,\n",
       " nan,\n",
       " nan,\n",
       " nan,\n",
       " nan,\n",
       " nan,\n",
       " nan,\n",
       " nan,\n",
       " nan,\n",
       " nan,\n",
       " nan,\n",
       " nan,\n",
       " nan,\n",
       " nan,\n",
       " nan,\n",
       " nan,\n",
       " nan,\n",
       " nan,\n",
       " nan,\n",
       " nan,\n",
       " nan,\n",
       " nan,\n",
       " nan,\n",
       " nan,\n",
       " nan,\n",
       " nan,\n",
       " nan,\n",
       " nan,\n",
       " nan,\n",
       " nan,\n",
       " nan,\n",
       " nan,\n",
       " nan,\n",
       " nan,\n",
       " nan,\n",
       " nan,\n",
       " nan,\n",
       " nan,\n",
       " nan,\n",
       " nan,\n",
       " nan,\n",
       " nan,\n",
       " nan,\n",
       " nan,\n",
       " nan,\n",
       " nan,\n",
       " nan,\n",
       " nan,\n",
       " nan,\n",
       " nan,\n",
       " nan,\n",
       " nan,\n",
       " nan,\n",
       " nan,\n",
       " nan,\n",
       " nan,\n",
       " nan,\n",
       " nan,\n",
       " nan,\n",
       " nan,\n",
       " nan,\n",
       " nan,\n",
       " nan,\n",
       " nan,\n",
       " nan,\n",
       " nan,\n",
       " nan,\n",
       " nan,\n",
       " nan,\n",
       " nan,\n",
       " nan,\n",
       " nan,\n",
       " nan,\n",
       " nan,\n",
       " nan,\n",
       " nan,\n",
       " nan,\n",
       " nan,\n",
       " nan,\n",
       " nan,\n",
       " nan,\n",
       " nan,\n",
       " nan,\n",
       " nan,\n",
       " nan,\n",
       " nan,\n",
       " nan,\n",
       " nan,\n",
       " nan,\n",
       " nan,\n",
       " nan,\n",
       " nan,\n",
       " nan,\n",
       " nan,\n",
       " nan,\n",
       " nan,\n",
       " nan,\n",
       " nan,\n",
       " nan,\n",
       " nan,\n",
       " nan,\n",
       " nan,\n",
       " nan,\n",
       " nan,\n",
       " nan,\n",
       " nan,\n",
       " nan,\n",
       " nan,\n",
       " nan,\n",
       " nan,\n",
       " nan,\n",
       " nan,\n",
       " nan,\n",
       " nan,\n",
       " nan,\n",
       " nan,\n",
       " nan,\n",
       " nan,\n",
       " nan,\n",
       " nan,\n",
       " nan,\n",
       " nan,\n",
       " nan,\n",
       " nan,\n",
       " nan,\n",
       " nan,\n",
       " nan,\n",
       " nan,\n",
       " nan,\n",
       " nan,\n",
       " nan,\n",
       " nan,\n",
       " nan,\n",
       " nan,\n",
       " nan,\n",
       " nan,\n",
       " nan,\n",
       " nan,\n",
       " nan,\n",
       " nan,\n",
       " nan,\n",
       " nan,\n",
       " nan,\n",
       " nan,\n",
       " nan,\n",
       " nan,\n",
       " nan,\n",
       " nan,\n",
       " nan,\n",
       " nan,\n",
       " nan,\n",
       " nan,\n",
       " nan,\n",
       " nan,\n",
       " nan,\n",
       " nan,\n",
       " nan,\n",
       " nan,\n",
       " nan,\n",
       " nan,\n",
       " nan,\n",
       " nan,\n",
       " nan,\n",
       " nan,\n",
       " nan,\n",
       " nan,\n",
       " nan,\n",
       " nan,\n",
       " nan,\n",
       " nan,\n",
       " nan,\n",
       " nan,\n",
       " nan,\n",
       " nan,\n",
       " nan,\n",
       " nan,\n",
       " nan,\n",
       " nan,\n",
       " nan,\n",
       " nan,\n",
       " nan,\n",
       " nan,\n",
       " nan,\n",
       " nan,\n",
       " nan,\n",
       " nan,\n",
       " nan,\n",
       " nan,\n",
       " nan,\n",
       " nan,\n",
       " nan,\n",
       " nan,\n",
       " nan,\n",
       " nan,\n",
       " nan,\n",
       " nan,\n",
       " nan,\n",
       " nan,\n",
       " nan,\n",
       " nan,\n",
       " nan,\n",
       " nan,\n",
       " nan,\n",
       " nan,\n",
       " nan,\n",
       " nan,\n",
       " nan,\n",
       " nan,\n",
       " nan,\n",
       " nan,\n",
       " nan,\n",
       " nan,\n",
       " nan,\n",
       " nan,\n",
       " nan,\n",
       " nan,\n",
       " nan,\n",
       " nan,\n",
       " nan,\n",
       " nan,\n",
       " nan,\n",
       " nan,\n",
       " nan,\n",
       " nan,\n",
       " nan,\n",
       " nan,\n",
       " nan,\n",
       " nan,\n",
       " nan,\n",
       " nan,\n",
       " nan,\n",
       " nan,\n",
       " nan,\n",
       " nan,\n",
       " nan,\n",
       " nan,\n",
       " nan,\n",
       " nan,\n",
       " nan,\n",
       " nan,\n",
       " nan,\n",
       " nan,\n",
       " nan,\n",
       " nan,\n",
       " nan,\n",
       " nan,\n",
       " nan,\n",
       " nan,\n",
       " nan,\n",
       " nan,\n",
       " nan,\n",
       " nan,\n",
       " nan,\n",
       " nan,\n",
       " nan,\n",
       " nan,\n",
       " nan,\n",
       " nan,\n",
       " nan,\n",
       " nan,\n",
       " nan,\n",
       " nan,\n",
       " nan,\n",
       " nan,\n",
       " nan,\n",
       " nan,\n",
       " nan,\n",
       " nan,\n",
       " nan,\n",
       " nan,\n",
       " nan,\n",
       " nan,\n",
       " nan,\n",
       " nan,\n",
       " nan,\n",
       " nan,\n",
       " nan,\n",
       " nan,\n",
       " nan,\n",
       " nan,\n",
       " nan,\n",
       " nan,\n",
       " nan,\n",
       " nan,\n",
       " nan,\n",
       " nan,\n",
       " nan,\n",
       " nan,\n",
       " nan,\n",
       " nan,\n",
       " nan,\n",
       " nan,\n",
       " nan,\n",
       " nan,\n",
       " nan,\n",
       " nan,\n",
       " nan,\n",
       " nan,\n",
       " nan,\n",
       " nan,\n",
       " nan,\n",
       " nan,\n",
       " nan,\n",
       " nan,\n",
       " nan,\n",
       " nan,\n",
       " nan,\n",
       " nan,\n",
       " nan,\n",
       " nan,\n",
       " nan,\n",
       " nan,\n",
       " nan,\n",
       " nan,\n",
       " nan,\n",
       " nan,\n",
       " nan,\n",
       " nan,\n",
       " nan,\n",
       " nan,\n",
       " nan,\n",
       " nan,\n",
       " nan,\n",
       " nan,\n",
       " nan,\n",
       " nan,\n",
       " nan,\n",
       " nan,\n",
       " nan,\n",
       " nan,\n",
       " nan,\n",
       " nan,\n",
       " nan,\n",
       " nan,\n",
       " nan,\n",
       " nan,\n",
       " nan,\n",
       " nan,\n",
       " nan,\n",
       " nan,\n",
       " nan,\n",
       " nan,\n",
       " nan,\n",
       " nan,\n",
       " nan,\n",
       " nan,\n",
       " nan,\n",
       " nan,\n",
       " nan,\n",
       " nan,\n",
       " nan,\n",
       " nan,\n",
       " nan,\n",
       " nan,\n",
       " nan,\n",
       " nan,\n",
       " nan,\n",
       " nan,\n",
       " nan,\n",
       " nan,\n",
       " nan,\n",
       " nan,\n",
       " nan,\n",
       " nan,\n",
       " nan,\n",
       " nan,\n",
       " nan,\n",
       " nan,\n",
       " nan,\n",
       " nan,\n",
       " nan,\n",
       " nan,\n",
       " nan,\n",
       " nan,\n",
       " nan,\n",
       " nan,\n",
       " nan,\n",
       " nan,\n",
       " nan,\n",
       " nan,\n",
       " nan,\n",
       " nan,\n",
       " nan,\n",
       " nan,\n",
       " nan,\n",
       " nan,\n",
       " nan,\n",
       " nan,\n",
       " nan,\n",
       " nan,\n",
       " nan,\n",
       " nan,\n",
       " nan,\n",
       " nan,\n",
       " nan,\n",
       " nan,\n",
       " nan,\n",
       " nan,\n",
       " nan,\n",
       " nan,\n",
       " nan,\n",
       " nan,\n",
       " nan,\n",
       " nan,\n",
       " nan,\n",
       " nan,\n",
       " nan,\n",
       " nan,\n",
       " nan,\n",
       " nan,\n",
       " nan,\n",
       " nan,\n",
       " nan,\n",
       " nan,\n",
       " nan,\n",
       " nan,\n",
       " nan,\n",
       " nan,\n",
       " nan,\n",
       " nan,\n",
       " nan,\n",
       " nan,\n",
       " nan,\n",
       " nan,\n",
       " nan,\n",
       " nan,\n",
       " nan,\n",
       " nan,\n",
       " nan,\n",
       " nan,\n",
       " nan,\n",
       " nan,\n",
       " nan,\n",
       " nan,\n",
       " nan,\n",
       " nan,\n",
       " nan,\n",
       " nan,\n",
       " nan,\n",
       " nan,\n",
       " nan,\n",
       " nan,\n",
       " nan,\n",
       " nan,\n",
       " nan,\n",
       " nan,\n",
       " nan,\n",
       " nan,\n",
       " nan,\n",
       " nan,\n",
       " nan,\n",
       " nan,\n",
       " nan,\n",
       " nan,\n",
       " nan,\n",
       " nan,\n",
       " nan,\n",
       " nan,\n",
       " nan,\n",
       " nan,\n",
       " nan,\n",
       " nan,\n",
       " nan,\n",
       " nan,\n",
       " nan,\n",
       " nan,\n",
       " nan,\n",
       " nan,\n",
       " nan,\n",
       " nan,\n",
       " nan,\n",
       " nan,\n",
       " nan,\n",
       " nan,\n",
       " nan,\n",
       " nan,\n",
       " nan,\n",
       " nan,\n",
       " nan,\n",
       " nan,\n",
       " nan,\n",
       " nan,\n",
       " nan,\n",
       " nan,\n",
       " nan,\n",
       " nan,\n",
       " nan,\n",
       " nan,\n",
       " nan,\n",
       " nan,\n",
       " nan,\n",
       " nan,\n",
       " nan,\n",
       " nan,\n",
       " nan,\n",
       " nan,\n",
       " nan,\n",
       " nan,\n",
       " nan,\n",
       " nan,\n",
       " nan,\n",
       " nan,\n",
       " nan,\n",
       " nan,\n",
       " nan,\n",
       " nan,\n",
       " nan,\n",
       " nan,\n",
       " nan,\n",
       " nan,\n",
       " nan,\n",
       " nan,\n",
       " nan,\n",
       " nan,\n",
       " nan,\n",
       " nan,\n",
       " nan,\n",
       " nan,\n",
       " nan,\n",
       " nan,\n",
       " nan,\n",
       " nan,\n",
       " nan,\n",
       " nan,\n",
       " nan,\n",
       " nan,\n",
       " nan,\n",
       " nan,\n",
       " nan,\n",
       " nan,\n",
       " nan,\n",
       " nan,\n",
       " nan,\n",
       " nan,\n",
       " nan,\n",
       " nan,\n",
       " nan,\n",
       " nan,\n",
       " nan,\n",
       " nan,\n",
       " nan,\n",
       " nan,\n",
       " nan,\n",
       " nan,\n",
       " nan,\n",
       " nan,\n",
       " nan,\n",
       " nan,\n",
       " nan,\n",
       " nan,\n",
       " nan,\n",
       " nan,\n",
       " nan,\n",
       " nan,\n",
       " nan,\n",
       " nan,\n",
       " nan,\n",
       " nan,\n",
       " nan,\n",
       " nan,\n",
       " nan,\n",
       " nan,\n",
       " nan,\n",
       " nan,\n",
       " nan,\n",
       " nan,\n",
       " nan,\n",
       " nan,\n",
       " nan,\n",
       " nan,\n",
       " nan,\n",
       " nan,\n",
       " nan,\n",
       " nan,\n",
       " nan,\n",
       " nan,\n",
       " nan,\n",
       " nan,\n",
       " nan,\n",
       " nan,\n",
       " nan,\n",
       " nan,\n",
       " nan,\n",
       " nan,\n",
       " nan,\n",
       " nan,\n",
       " nan,\n",
       " nan,\n",
       " nan,\n",
       " nan,\n",
       " nan,\n",
       " nan,\n",
       " nan,\n",
       " nan,\n",
       " nan,\n",
       " nan,\n",
       " nan,\n",
       " nan,\n",
       " nan,\n",
       " nan,\n",
       " nan,\n",
       " nan,\n",
       " nan,\n",
       " nan,\n",
       " nan,\n",
       " nan,\n",
       " nan,\n",
       " nan,\n",
       " nan,\n",
       " nan,\n",
       " nan,\n",
       " nan,\n",
       " nan,\n",
       " nan,\n",
       " nan,\n",
       " nan,\n",
       " nan,\n",
       " nan,\n",
       " nan,\n",
       " nan,\n",
       " nan,\n",
       " nan,\n",
       " nan,\n",
       " ...}"
      ]
     },
     "execution_count": 33,
     "metadata": {},
     "output_type": "execute_result"
    }
   ],
   "source": [
    "set(df_tracks[\"artists\"].explode()) ^ set(df_catalog.loc[df_catalog[\"type\"]==\"artist\", \"id\"])"
   ]
  },
  {
   "cell_type": "code",
   "execution_count": null,
   "id": "70444f41",
   "metadata": {},
   "outputs": [
    {
     "data": {
      "text/plain": [
       "15369"
      ]
     },
     "execution_count": 34,
     "metadata": {},
     "output_type": "execute_result"
    }
   ],
   "source": [
    "(df_tracks[\"artists\"].apply(len) == 0).sum()"
   ]
  },
  {
   "cell_type": "code",
   "execution_count": null,
   "id": "fe882865",
   "metadata": {},
   "outputs": [
    {
     "data": {
      "text/plain": [
       "{1,\n",
       " 2,\n",
       " 3,\n",
       " 4,\n",
       " 5,\n",
       " 6,\n",
       " 7,\n",
       " 8,\n",
       " 9,\n",
       " 10,\n",
       " 11,\n",
       " 12,\n",
       " 13,\n",
       " 14,\n",
       " 15,\n",
       " 16,\n",
       " 17,\n",
       " 18,\n",
       " 19,\n",
       " 20,\n",
       " 21,\n",
       " 22,\n",
       " 23,\n",
       " 24,\n",
       " 25,\n",
       " 26,\n",
       " 27,\n",
       " 28,\n",
       " 29,\n",
       " 30,\n",
       " 31,\n",
       " 32,\n",
       " 33,\n",
       " nan,\n",
       " 35,\n",
       " nan,\n",
       " 37,\n",
       " 38,\n",
       " 39,\n",
       " 40,\n",
       " 41,\n",
       " nan,\n",
       " 43,\n",
       " 44,\n",
       " 45,\n",
       " nan,\n",
       " 47,\n",
       " 48,\n",
       " 49,\n",
       " 50,\n",
       " 51,\n",
       " 52,\n",
       " 53,\n",
       " 54,\n",
       " 55,\n",
       " 56,\n",
       " 57,\n",
       " 58,\n",
       " 59,\n",
       " 60,\n",
       " 61,\n",
       " nan,\n",
       " 63,\n",
       " 64,\n",
       " 65,\n",
       " 66,\n",
       " 67,\n",
       " 68,\n",
       " 69,\n",
       " 70,\n",
       " nan,\n",
       " nan,\n",
       " 73,\n",
       " 74,\n",
       " 75,\n",
       " 76,\n",
       " 77,\n",
       " nan,\n",
       " 71,\n",
       " 80,\n",
       " 72,\n",
       " 79,\n",
       " nan,\n",
       " nan,\n",
       " 85,\n",
       " 86,\n",
       " nan,\n",
       " 88,\n",
       " 89,\n",
       " nan,\n",
       " 90,\n",
       " 92,\n",
       " nan,\n",
       " 94,\n",
       " 95,\n",
       " nan,\n",
       " 97,\n",
       " 98,\n",
       " 99,\n",
       " nan,\n",
       " 101,\n",
       " 102,\n",
       " nan,\n",
       " 104,\n",
       " nan,\n",
       " nan,\n",
       " 105,\n",
       " 108,\n",
       " 109,\n",
       " 110,\n",
       " 111,\n",
       " 112,\n",
       " 113,\n",
       " 114,\n",
       " 115,\n",
       " 116,\n",
       " 117,\n",
       " 118,\n",
       " nan,\n",
       " 120,\n",
       " 121,\n",
       " 122,\n",
       " 123,\n",
       " 124,\n",
       " nan,\n",
       " 126,\n",
       " 127,\n",
       " 128,\n",
       " nan,\n",
       " 130,\n",
       " nan,\n",
       " 132,\n",
       " 133,\n",
       " 134,\n",
       " nan,\n",
       " nan,\n",
       " 131,\n",
       " 138,\n",
       " nan,\n",
       " 135,\n",
       " nan,\n",
       " nan,\n",
       " nan,\n",
       " nan,\n",
       " 146,\n",
       " nan,\n",
       " 148,\n",
       " nan,\n",
       " 150,\n",
       " 151,\n",
       " 152,\n",
       " 153,\n",
       " 154,\n",
       " 155,\n",
       " 156,\n",
       " 157,\n",
       " 158,\n",
       " 159,\n",
       " 160,\n",
       " 161,\n",
       " 162,\n",
       " 163,\n",
       " 164,\n",
       " 165,\n",
       " nan,\n",
       " 167,\n",
       " 168,\n",
       " 169,\n",
       " nan,\n",
       " nan,\n",
       " 166,\n",
       " nan,\n",
       " nan,\n",
       " nan,\n",
       " nan,\n",
       " nan,\n",
       " nan,\n",
       " nan,\n",
       " nan,\n",
       " nan,\n",
       " nan,\n",
       " nan,\n",
       " nan,\n",
       " nan,\n",
       " nan,\n",
       " 190,\n",
       " nan,\n",
       " nan,\n",
       " nan,\n",
       " nan,\n",
       " nan,\n",
       " nan,\n",
       " nan,\n",
       " nan,\n",
       " nan,\n",
       " 227,\n",
       " nan,\n",
       " nan,\n",
       " nan,\n",
       " nan,\n",
       " nan,\n",
       " nan,\n",
       " nan,\n",
       " 246,\n",
       " nan,\n",
       " nan,\n",
       " nan,\n",
       " nan,\n",
       " nan,\n",
       " nan,\n",
       " nan,\n",
       " nan,\n",
       " nan,\n",
       " nan,\n",
       " nan,\n",
       " nan,\n",
       " nan,\n",
       " nan,\n",
       " nan,\n",
       " nan,\n",
       " nan,\n",
       " nan,\n",
       " nan,\n",
       " nan,\n",
       " nan,\n",
       " nan,\n",
       " nan,\n",
       " nan,\n",
       " nan,\n",
       " nan,\n",
       " nan,\n",
       " nan,\n",
       " 300,\n",
       " nan,\n",
       " 308,\n",
       " nan,\n",
       " nan,\n",
       " nan,\n",
       " 62,\n",
       " nan,\n",
       " nan,\n",
       " nan,\n",
       " 319,\n",
       " 325,\n",
       " nan,\n",
       " nan,\n",
       " nan,\n",
       " 332,\n",
       " nan,\n",
       " 335,\n",
       " nan,\n",
       " nan,\n",
       " nan,\n",
       " nan,\n",
       " nan,\n",
       " nan,\n",
       " nan,\n",
       " nan,\n",
       " nan,\n",
       " nan,\n",
       " nan,\n",
       " nan,\n",
       " nan,\n",
       " nan,\n",
       " nan,\n",
       " 383,\n",
       " nan,\n",
       " nan,\n",
       " nan,\n",
       " 78,\n",
       " nan,\n",
       " nan,\n",
       " nan,\n",
       " nan,\n",
       " nan,\n",
       " nan,\n",
       " nan,\n",
       " nan,\n",
       " nan,\n",
       " nan,\n",
       " nan,\n",
       " nan,\n",
       " nan,\n",
       " 81,\n",
       " nan,\n",
       " 82,\n",
       " 415,\n",
       " 83,\n",
       " nan,\n",
       " 84,\n",
       " nan,\n",
       " nan,\n",
       " 432,\n",
       " 87,\n",
       " nan,\n",
       " nan,\n",
       " nan,\n",
       " nan,\n",
       " nan,\n",
       " 91,\n",
       " nan,\n",
       " nan,\n",
       " 93,\n",
       " nan,\n",
       " nan,\n",
       " nan,\n",
       " nan,\n",
       " nan,\n",
       " nan,\n",
       " nan,\n",
       " nan,\n",
       " nan,\n",
       " nan,\n",
       " nan,\n",
       " nan,\n",
       " nan,\n",
       " 489,\n",
       " nan,\n",
       " nan,\n",
       " nan,\n",
       " nan,\n",
       " nan,\n",
       " nan,\n",
       " nan,\n",
       " nan,\n",
       " nan,\n",
       " nan,\n",
       " nan,\n",
       " nan,\n",
       " nan,\n",
       " nan,\n",
       " nan,\n",
       " nan,\n",
       " nan,\n",
       " nan,\n",
       " nan,\n",
       " nan,\n",
       " nan,\n",
       " nan,\n",
       " nan,\n",
       " nan,\n",
       " 106,\n",
       " nan,\n",
       " nan,\n",
       " nan,\n",
       " nan,\n",
       " 107,\n",
       " nan,\n",
       " nan,\n",
       " nan,\n",
       " nan,\n",
       " nan,\n",
       " nan,\n",
       " nan,\n",
       " nan,\n",
       " nan,\n",
       " nan,\n",
       " nan,\n",
       " nan,\n",
       " nan,\n",
       " nan,\n",
       " nan,\n",
       " nan,\n",
       " nan,\n",
       " nan,\n",
       " nan,\n",
       " nan,\n",
       " nan,\n",
       " nan,\n",
       " nan,\n",
       " nan,\n",
       " nan,\n",
       " nan,\n",
       " nan,\n",
       " nan,\n",
       " nan,\n",
       " nan,\n",
       " nan,\n",
       " nan,\n",
       " nan,\n",
       " nan,\n",
       " nan,\n",
       " nan,\n",
       " nan,\n",
       " nan,\n",
       " nan,\n",
       " nan,\n",
       " nan,\n",
       " nan,\n",
       " nan,\n",
       " nan,\n",
       " nan,\n",
       " nan,\n",
       " nan,\n",
       " 610,\n",
       " nan,\n",
       " nan,\n",
       " nan,\n",
       " nan,\n",
       " nan,\n",
       " nan,\n",
       " nan,\n",
       " nan,\n",
       " nan,\n",
       " nan,\n",
       " nan,\n",
       " nan,\n",
       " nan,\n",
       " nan,\n",
       " nan,\n",
       " nan,\n",
       " nan,\n",
       " nan,\n",
       " nan,\n",
       " nan,\n",
       " nan,\n",
       " nan,\n",
       " nan,\n",
       " nan,\n",
       " nan,\n",
       " nan,\n",
       " nan,\n",
       " nan,\n",
       " nan,\n",
       " nan,\n",
       " nan,\n",
       " nan,\n",
       " nan,\n",
       " 702,\n",
       " 703,\n",
       " nan,\n",
       " nan,\n",
       " nan,\n",
       " nan,\n",
       " nan,\n",
       " nan,\n",
       " nan,\n",
       " 743,\n",
       " nan,\n",
       " nan,\n",
       " nan,\n",
       " 762,\n",
       " nan,\n",
       " nan,\n",
       " nan,\n",
       " nan,\n",
       " nan,\n",
       " nan,\n",
       " nan,\n",
       " nan,\n",
       " nan,\n",
       " nan,\n",
       " nan,\n",
       " nan,\n",
       " nan,\n",
       " nan,\n",
       " nan,\n",
       " nan,\n",
       " nan,\n",
       " nan,\n",
       " nan,\n",
       " nan,\n",
       " nan,\n",
       " nan,\n",
       " nan,\n",
       " nan,\n",
       " nan,\n",
       " nan,\n",
       " nan,\n",
       " nan,\n",
       " nan,\n",
       " nan,\n",
       " nan,\n",
       " nan,\n",
       " nan,\n",
       " nan,\n",
       " 849,\n",
       " nan,\n",
       " nan,\n",
       " nan,\n",
       " nan,\n",
       " nan,\n",
       " nan,\n",
       " nan,\n",
       " nan,\n",
       " nan,\n",
       " nan,\n",
       " nan,\n",
       " nan,\n",
       " nan,\n",
       " nan,\n",
       " nan,\n",
       " nan,\n",
       " nan,\n",
       " nan,\n",
       " nan,\n",
       " nan,\n",
       " nan,\n",
       " nan,\n",
       " nan,\n",
       " nan,\n",
       " nan,\n",
       " nan,\n",
       " nan,\n",
       " nan,\n",
       " nan,\n",
       " nan,\n",
       " 923,\n",
       " nan,\n",
       " nan,\n",
       " nan,\n",
       " nan,\n",
       " nan,\n",
       " nan,\n",
       " nan,\n",
       " nan,\n",
       " nan,\n",
       " nan,\n",
       " nan,\n",
       " nan,\n",
       " nan,\n",
       " nan,\n",
       " nan,\n",
       " nan,\n",
       " nan,\n",
       " nan,\n",
       " nan,\n",
       " nan,\n",
       " nan,\n",
       " nan,\n",
       " nan,\n",
       " nan,\n",
       " nan,\n",
       " nan,\n",
       " nan,\n",
       " nan,\n",
       " nan,\n",
       " nan,\n",
       " nan,\n",
       " nan,\n",
       " nan,\n",
       " nan,\n",
       " nan,\n",
       " nan,\n",
       " nan,\n",
       " nan,\n",
       " nan,\n",
       " nan,\n",
       " 1016,\n",
       " nan,\n",
       " nan,\n",
       " nan,\n",
       " nan,\n",
       " nan,\n",
       " nan,\n",
       " nan,\n",
       " nan,\n",
       " nan,\n",
       " nan,\n",
       " nan,\n",
       " nan,\n",
       " nan,\n",
       " nan,\n",
       " nan,\n",
       " nan,\n",
       " nan,\n",
       " nan,\n",
       " nan,\n",
       " nan,\n",
       " nan,\n",
       " nan,\n",
       " nan,\n",
       " nan,\n",
       " nan,\n",
       " nan,\n",
       " nan,\n",
       " nan,\n",
       " nan,\n",
       " nan,\n",
       " nan,\n",
       " nan,\n",
       " nan,\n",
       " nan,\n",
       " nan,\n",
       " nan,\n",
       " nan,\n",
       " nan,\n",
       " nan,\n",
       " nan,\n",
       " nan,\n",
       " nan,\n",
       " nan,\n",
       " nan,\n",
       " nan,\n",
       " nan,\n",
       " nan,\n",
       " nan,\n",
       " nan,\n",
       " nan,\n",
       " nan,\n",
       " nan,\n",
       " nan,\n",
       " nan,\n",
       " nan,\n",
       " nan,\n",
       " nan,\n",
       " nan,\n",
       " nan,\n",
       " nan,\n",
       " nan,\n",
       " nan,\n",
       " nan,\n",
       " nan,\n",
       " nan,\n",
       " nan,\n",
       " nan,\n",
       " nan,\n",
       " nan,\n",
       " nan,\n",
       " nan,\n",
       " nan,\n",
       " nan,\n",
       " nan,\n",
       " nan,\n",
       " nan,\n",
       " nan,\n",
       " nan,\n",
       " nan,\n",
       " nan,\n",
       " nan,\n",
       " nan,\n",
       " nan,\n",
       " nan,\n",
       " nan,\n",
       " nan,\n",
       " nan,\n",
       " nan,\n",
       " nan,\n",
       " 1182,\n",
       " nan,\n",
       " nan,\n",
       " nan,\n",
       " nan,\n",
       " nan,\n",
       " nan,\n",
       " nan,\n",
       " nan,\n",
       " nan,\n",
       " nan,\n",
       " 1197,\n",
       " nan,\n",
       " nan,\n",
       " nan,\n",
       " nan,\n",
       " nan,\n",
       " nan,\n",
       " nan,\n",
       " nan,\n",
       " nan,\n",
       " nan,\n",
       " nan,\n",
       " nan,\n",
       " nan,\n",
       " nan,\n",
       " nan,\n",
       " nan,\n",
       " nan,\n",
       " nan,\n",
       " nan,\n",
       " nan,\n",
       " nan,\n",
       " nan,\n",
       " nan,\n",
       " nan,\n",
       " nan,\n",
       " nan,\n",
       " nan,\n",
       " nan,\n",
       " nan,\n",
       " nan,\n",
       " nan,\n",
       " nan,\n",
       " nan,\n",
       " nan,\n",
       " nan,\n",
       " nan,\n",
       " nan,\n",
       " nan,\n",
       " nan,\n",
       " nan,\n",
       " nan,\n",
       " nan,\n",
       " nan,\n",
       " nan,\n",
       " nan,\n",
       " nan,\n",
       " nan,\n",
       " nan,\n",
       " nan,\n",
       " nan,\n",
       " nan,\n",
       " nan,\n",
       " nan,\n",
       " nan,\n",
       " nan,\n",
       " nan,\n",
       " nan,\n",
       " nan,\n",
       " nan,\n",
       " nan,\n",
       " nan,\n",
       " nan,\n",
       " nan,\n",
       " nan,\n",
       " nan,\n",
       " nan,\n",
       " nan,\n",
       " nan,\n",
       " nan,\n",
       " nan,\n",
       " nan,\n",
       " nan,\n",
       " nan,\n",
       " nan,\n",
       " nan,\n",
       " nan,\n",
       " nan,\n",
       " nan,\n",
       " nan,\n",
       " nan,\n",
       " nan,\n",
       " nan,\n",
       " nan,\n",
       " nan,\n",
       " nan,\n",
       " nan,\n",
       " nan,\n",
       " nan,\n",
       " nan,\n",
       " nan,\n",
       " nan,\n",
       " nan,\n",
       " nan,\n",
       " nan,\n",
       " nan,\n",
       " nan,\n",
       " nan,\n",
       " nan,\n",
       " nan,\n",
       " nan,\n",
       " nan,\n",
       " nan,\n",
       " nan,\n",
       " nan,\n",
       " nan,\n",
       " nan,\n",
       " nan,\n",
       " nan,\n",
       " nan,\n",
       " nan,\n",
       " nan,\n",
       " nan,\n",
       " nan,\n",
       " nan,\n",
       " nan,\n",
       " nan,\n",
       " nan,\n",
       " nan,\n",
       " nan,\n",
       " nan,\n",
       " nan,\n",
       " nan,\n",
       " 1484,\n",
       " nan,\n",
       " nan,\n",
       " nan,\n",
       " nan,\n",
       " nan,\n",
       " nan,\n",
       " nan,\n",
       " nan,\n",
       " nan,\n",
       " nan,\n",
       " nan,\n",
       " nan,\n",
       " nan,\n",
       " nan,\n",
       " nan,\n",
       " nan,\n",
       " nan,\n",
       " nan,\n",
       " 1542,\n",
       " nan,\n",
       " nan,\n",
       " nan,\n",
       " nan,\n",
       " nan,\n",
       " nan,\n",
       " nan,\n",
       " nan,\n",
       " nan,\n",
       " nan,\n",
       " nan,\n",
       " nan,\n",
       " nan,\n",
       " nan,\n",
       " nan,\n",
       " nan,\n",
       " nan,\n",
       " nan,\n",
       " nan,\n",
       " nan,\n",
       " nan,\n",
       " nan,\n",
       " nan,\n",
       " nan,\n",
       " nan,\n",
       " nan,\n",
       " nan,\n",
       " nan,\n",
       " nan,\n",
       " nan,\n",
       " nan,\n",
       " nan,\n",
       " nan,\n",
       " nan,\n",
       " nan,\n",
       " nan,\n",
       " nan,\n",
       " nan,\n",
       " nan,\n",
       " nan,\n",
       " nan,\n",
       " nan,\n",
       " nan,\n",
       " nan,\n",
       " nan,\n",
       " nan,\n",
       " nan,\n",
       " nan,\n",
       " nan,\n",
       " nan,\n",
       " nan,\n",
       " nan,\n",
       " nan,\n",
       " nan,\n",
       " nan,\n",
       " nan,\n",
       " nan,\n",
       " nan,\n",
       " nan,\n",
       " nan,\n",
       " nan,\n",
       " nan,\n",
       " nan,\n",
       " nan,\n",
       " nan,\n",
       " nan,\n",
       " nan,\n",
       " nan,\n",
       " nan,\n",
       " nan,\n",
       " nan,\n",
       " nan,\n",
       " nan,\n",
       " nan,\n",
       " nan,\n",
       " nan,\n",
       " nan,\n",
       " nan,\n",
       " nan,\n",
       " nan,\n",
       " nan,\n",
       " nan,\n",
       " nan,\n",
       " nan,\n",
       " nan,\n",
       " nan,\n",
       " nan,\n",
       " nan,\n",
       " nan,\n",
       " nan,\n",
       " nan,\n",
       " nan,\n",
       " nan,\n",
       " nan,\n",
       " nan,\n",
       " nan,\n",
       " nan,\n",
       " nan,\n",
       " nan,\n",
       " nan,\n",
       " nan,\n",
       " nan,\n",
       " nan,\n",
       " nan,\n",
       " nan,\n",
       " nan,\n",
       " nan,\n",
       " nan,\n",
       " nan,\n",
       " nan,\n",
       " nan,\n",
       " nan,\n",
       " nan,\n",
       " nan,\n",
       " nan,\n",
       " nan,\n",
       " nan,\n",
       " nan,\n",
       " nan,\n",
       " nan,\n",
       " nan,\n",
       " nan,\n",
       " nan,\n",
       " nan,\n",
       " nan,\n",
       " nan,\n",
       " nan,\n",
       " nan,\n",
       " nan,\n",
       " nan,\n",
       " nan,\n",
       " nan,\n",
       " nan,\n",
       " nan,\n",
       " nan,\n",
       " nan,\n",
       " nan,\n",
       " nan,\n",
       " nan,\n",
       " nan,\n",
       " nan,\n",
       " nan,\n",
       " nan,\n",
       " nan,\n",
       " nan,\n",
       " nan,\n",
       " nan,\n",
       " nan,\n",
       " nan,\n",
       " nan,\n",
       " nan,\n",
       " nan,\n",
       " nan,\n",
       " nan,\n",
       " nan,\n",
       " nan,\n",
       " nan,\n",
       " nan,\n",
       " nan,\n",
       " nan,\n",
       " nan,\n",
       " nan,\n",
       " nan,\n",
       " nan,\n",
       " nan,\n",
       " nan,\n",
       " nan,\n",
       " nan,\n",
       " nan,\n",
       " nan,\n",
       " nan,\n",
       " nan,\n",
       " nan,\n",
       " nan,\n",
       " nan,\n",
       " nan,\n",
       " nan,\n",
       " nan,\n",
       " nan,\n",
       " nan,\n",
       " nan,\n",
       " nan,\n",
       " nan,\n",
       " nan,\n",
       " nan,\n",
       " nan,\n",
       " nan,\n",
       " nan,\n",
       " nan,\n",
       " nan,\n",
       " nan,\n",
       " nan,\n",
       " nan,\n",
       " nan,\n",
       " nan,\n",
       " nan,\n",
       " nan,\n",
       " nan,\n",
       " nan,\n",
       " nan,\n",
       " nan,\n",
       " nan,\n",
       " nan,\n",
       " nan,\n",
       " nan,\n",
       " nan,\n",
       " nan,\n",
       " nan,\n",
       " ...}"
      ]
     },
     "execution_count": 35,
     "metadata": {},
     "output_type": "execute_result"
    }
   ],
   "source": [
    "set(df_tracks[\"genres\"].explode()) ^ set(df_catalog.loc[df_catalog[\"type\"]==\"getnre\", \"id\"])"
   ]
  },
  {
   "cell_type": "code",
   "execution_count": null,
   "id": "8b7dcbc6",
   "metadata": {},
   "outputs": [
    {
     "data": {
      "text/plain": [
       "3687"
      ]
     },
     "execution_count": 36,
     "metadata": {},
     "output_type": "execute_result"
    }
   ],
   "source": [
    "(df_tracks[\"genres\"].apply(len) == 0).sum()"
   ]
  },
  {
   "cell_type": "markdown",
   "id": "9ede4282",
   "metadata": {},
   "source": [
    "**Выводы:**\n",
    "- Кол-во треков в каталоге соответствует кол-ву треков в данных\n",
    "- Альбомы в каталоге соответствует альбомам в данных по трекам\n",
    "- Испольнители в каталоге соответствует исполнителям в данных по трекам\n",
    "- ***Жанров в данных по трекам больше, чем в каталоге***\n",
    "- В данных по треакам имеется ***18 треков без альбома***\n",
    "- В данных по треакам имеется ***15369 треков без исполнителя***\n",
    "- В данных по треакам имеется ***3687 треков без жанра***\n"
   ]
  },
  {
   "cell_type": "markdown",
   "id": "3eb1e849",
   "metadata": {},
   "source": [
    "**Выводы 2:**\n",
    "- При построении персональных рекомендации моделью ALS на ВМ умирает ядро. После 10 часов тщетных попыток построить рекомендации решение сократить матрицу:\n",
    "  - Удаляме треки без альбомов\n",
    "  - Удаляем треки без исполнителя\n",
    "  - Удаляме треки без жанра"
   ]
  },
  {
   "cell_type": "markdown",
   "id": "22668d97",
   "metadata": {},
   "source": [
    "### Временной период в данных"
   ]
  },
  {
   "cell_type": "code",
   "execution_count": null,
   "id": "4815b91b",
   "metadata": {},
   "outputs": [
    {
     "data": {
      "text/plain": [
       "(Timestamp('2022-01-01 00:00:00'), Timestamp('2022-12-31 00:00:00'))"
      ]
     },
     "execution_count": 37,
     "metadata": {},
     "output_type": "execute_result"
    }
   ],
   "source": [
    "# (Timestamp('2022-01-01 00:00:00'), Timestamp('2022-12-31 00:00:00'))\n",
    "\n",
    "df_events[\"started_at\"].min(), df_events[\"started_at\"].max()"
   ]
  },
  {
   "cell_type": "markdown",
   "id": "398bbc5f",
   "metadata": {},
   "source": [
    "#### События по дням"
   ]
  },
  {
   "cell_type": "code",
   "execution_count": null,
   "id": "23607d14",
   "metadata": {},
   "outputs": [],
   "source": [
    "# 2 min !\n",
    "\n",
    "interactions_by_day = df_events.groupby(\"started_at\", as_index=False).agg(\n",
    "    n_events=(\"started_at\", \"count\"),\n",
    "    n_users=(\"user_id\", \"nunique\"),\n",
    "    n_items=(\"track_id\", \"nunique\"),\n",
    ")"
   ]
  },
  {
   "cell_type": "code",
   "execution_count": null,
   "id": "c8baa0d9",
   "metadata": {},
   "outputs": [
    {
     "data": {
      "image/png": "[encoded data removed]",
      "text/plain": [
       "<Figure size 1200x1200 with 3 Axes>"
      ]
     },
     "metadata": {},
     "output_type": "display_data"
    }
   ],
   "source": [
    "# распределение взаимодействий по дням\n",
    "\n",
    "fig, axs = plt.subplots(3, 1, figsize=(12, 12))\n",
    "\n",
    "axs[0].plot(interactions_by_day[\"started_at\"], interactions_by_day[\"n_events\"], linewidth=2)\n",
    "axs[0].fill_between(interactions_by_day[\"started_at\"], [0]*interactions_by_day.shape[0], interactions_by_day[\"n_events\"], alpha=0.25)\n",
    "axs[0].set_title(\"Кол-во событий в течение года\")\n",
    "axs[0].set_ylabel(\"Кол-во событий в день\")\n",
    "axs[0].set_xlabel(\"Дни\")\n",
    "\n",
    "axs[1].plot(interactions_by_day[\"started_at\"], interactions_by_day[\"n_users\"], linewidth=2)\n",
    "axs[1].fill_between(interactions_by_day[\"started_at\"], [0]*interactions_by_day.shape[0], interactions_by_day[\"n_users\"], alpha=0.25)\n",
    "axs[1].set_title(\"Кол-во пользователей в течение года\")\n",
    "axs[1].set_ylabel(\"Кол-во уникальных пользователей в день\")\n",
    "axs[1].set_xlabel(\"Дни\")\n",
    "\n",
    "axs[2].plot(interactions_by_day[\"started_at\"], interactions_by_day[\"n_items\"], linewidth=2)\n",
    "axs[2].fill_between(interactions_by_day[\"started_at\"], [0]*interactions_by_day.shape[0], interactions_by_day[\"n_items\"], alpha=0.25)\n",
    "axs[2].set_title(\"Кол-во треков в течение года\")\n",
    "axs[2].set_ylabel(\"Кол-во уникальных треков в день\")\n",
    "axs[2].set_xlabel(\"Дни\")\n",
    "\n",
    "for ax in axs:\n",
    "    ax.grid(\"both\")\n",
    "\n",
    "fig.tight_layout()"
   ]
  },
  {
   "cell_type": "code",
   "execution_count": null,
   "id": "60f9f6b4",
   "metadata": {},
   "outputs": [
    {
     "name": "stdout",
     "output_type": "stream",
     "text": [
      "Кол-во клиентов в тесте:\n",
      "995485\n",
      "Доля клиентов в тесте, которая есть в трейне:\n",
      "92.14%\n"
     ]
    }
   ],
   "source": [
    "# Если взять в тест декабрь\n",
    "\n",
    "df_test_temp = df_events[df_events[\"started_at\"]>=\"2022-12-01\"]\n",
    "print(\"Кол-во клиентов в тесте:\")\n",
    "print(df_test_temp[\"user_id\"].nunique())\n",
    "print(\"Доля клиентов в тесте, которая есть в трейне:\")\n",
    "print(f'{df_events.loc[df_events[\"started_at\"]<\"2022-12-01\", \"user_id\"].drop_duplicates().isin(df_test_temp[\"user_id\"]).sum() / df_test_temp[\"user_id\"].nunique():.2%}')"
   ]
  },
  {
   "cell_type": "code",
   "execution_count": null,
   "id": "9439e9c3",
   "metadata": {},
   "outputs": [
    {
     "name": "stdout",
     "output_type": "stream",
     "text": [
      "Кол-во клиентов в тесте:\n",
      "1081320\n",
      "Доля клиентов в тесте, которая есть в трейне:\n",
      "90.16%\n"
     ]
    }
   ],
   "source": [
    "# Если взять в тест ноябрь\n",
    "\n",
    "df_test_temp = df_events[(df_events[\"started_at\"]>=\"2022-11-01\") & (df_events[\"started_at\"]<\"2022-12-01\")]\n",
    "print(\"Кол-во клиентов в тесте:\")\n",
    "print(df_test_temp[\"user_id\"].nunique())\n",
    "print(\"Доля клиентов в тесте, которая есть в трейне:\")\n",
    "print(f'{df_events.loc[df_events[\"started_at\"]<\"2022-11-01\", \"user_id\"].drop_duplicates().isin(df_test_temp[\"user_id\"]).sum() / df_test_temp[\"user_id\"].nunique():.2%}')"
   ]
  },
  {
   "cell_type": "code",
   "execution_count": null,
   "id": "b7db3ffa",
   "metadata": {},
   "outputs": [
    {
     "data": {
      "text/plain": [
       "0"
      ]
     },
     "execution_count": 42,
     "metadata": {},
     "output_type": "execute_result"
    }
   ],
   "source": [
    "del interactions_by_day, df_test_temp\n",
    "gc.collect()"
   ]
  },
  {
   "cell_type": "code",
   "execution_count": null,
   "id": "53d51192",
   "metadata": {},
   "outputs": [
    {
     "data": {
      "text/plain": [
       "1.062882386952999"
      ]
     },
     "execution_count": 43,
     "metadata": {},
     "output_type": "execute_result"
    }
   ],
   "source": [
    "# 1.062882386952999\n",
    "\n",
    "(1081320 * 0.9016) / (995485 * 0.9214)"
   ]
  },
  {
   "cell_type": "markdown",
   "id": "747ab465",
   "metadata": {},
   "source": [
    "**Выводы:**\n",
    "- Имеем данные о взаимодйствиях пользоватлей за период всего 2022 года (365 дней)\n",
    "- До декабря наблюдается линейный рост кол-ва уникальных клиентов, а с конца ноября - начала декабря наблюдается спад кол-ва уникальных пользователей и соответственно уникальных треков и событий взаимодействия пользователей с треками\n",
    "- Если взять в тест ноябрь, то кол-во оцениваемых клиентов на тесте больше на 6%, при этом потеряем ценную историю взаимодействий в 1 месяц. Поэтому в тест лучше брать период декабря"
   ]
  },
  {
   "cell_type": "markdown",
   "id": "a30e823e-8e0f-4a76-a02e-8d1ba8bf0f8a",
   "metadata": {},
   "source": [
    "### Распределение количества прослушанных треков."
   ]
  },
  {
   "cell_type": "code",
   "execution_count": null,
   "id": "76850aa8",
   "metadata": {},
   "outputs": [],
   "source": [
    "# 2 min\n",
    "\n",
    "users_tracks = (\n",
    "    df_events.groupby(\"user_id\")\n",
    "    .agg(\n",
    "        n_tracks = (\"track_id\", \"nunique\"),\n",
    "        max_seq = (\"track_seq\", \"max\"),\n",
    "        min_date = (\"started_at\", \"min\"),\n",
    "        max_date = (\"started_at\", \"max\"),\n",
    "    )\n",
    ")"
   ]
  },
  {
   "cell_type": "code",
   "execution_count": null,
   "id": "659a2926",
   "metadata": {},
   "outputs": [
    {
     "ename": "NameError",
     "evalue": "name 'users_tracks' is not defined",
     "output_type": "error",
     "traceback": [
      "\u001b[0;31m---------------------------------------------------------------------------\u001b[0m",
      "\u001b[0;31mNameError\u001b[0m                                 Traceback (most recent call last)",
      "Cell \u001b[0;32mIn[1], line 1\u001b[0m\n\u001b[0;32m----> 1\u001b[0m \u001b[43musers_tracks\u001b[49m\u001b[38;5;241m.\u001b[39mhead()\n",
      "\u001b[0;31mNameError\u001b[0m: name 'users_tracks' is not defined"
     ]
    }
   ],
   "source": [
    "users_tracks.head()"
   ]
  },
  {
   "cell_type": "code",
   "execution_count": null,
   "id": "c92f5afd",
   "metadata": {},
   "outputs": [],
   "source": [
    "# Проверка: соответствует ли последовательность прослушивания треков кол-ву прслушанных треков\n",
    "\n",
    "assert all(users_tracks[\"n_tracks\"] == users_tracks[\"max_seq\"])"
   ]
  },
  {
   "cell_type": "code",
   "execution_count": null,
   "id": "347c1589",
   "metadata": {},
   "outputs": [],
   "source": []
  },
  {
   "cell_type": "code",
   "execution_count": null,
   "id": "b452e4e4",
   "metadata": {},
   "outputs": [],
   "source": []
  },
  {
   "cell_type": "code",
   "execution_count": 47,
   "id": "35a84df5",
   "metadata": {},
   "outputs": [
    {
     "data": {
      "text/html": [
       "<style type=\"text/css\">\n",
       "</style>\n",
       "<table id=\"T_c9582\">\n",
       "  <thead>\n",
       "    <tr>\n",
       "      <th class=\"blank level0\" >&nbsp;</th>\n",
       "      <th id=\"T_c9582_level0_col0\" class=\"col_heading level0 col0\" >n_tracks</th>\n",
       "    </tr>\n",
       "  </thead>\n",
       "  <tbody>\n",
       "    <tr>\n",
       "      <th id=\"T_c9582_level0_row0\" class=\"row_heading level0 row0\" >count</th>\n",
       "      <td id=\"T_c9582_row0_col0\" class=\"data row0 col0\" >1373221.0</td>\n",
       "    </tr>\n",
       "    <tr>\n",
       "      <th id=\"T_c9582_level0_row1\" class=\"row_heading level0 row1\" >mean</th>\n",
       "      <td id=\"T_c9582_row1_col0\" class=\"data row1 col0\" >162.1</td>\n",
       "    </tr>\n",
       "    <tr>\n",
       "      <th id=\"T_c9582_level0_row2\" class=\"row_heading level0 row2\" >std</th>\n",
       "      <td id=\"T_c9582_row2_col0\" class=\"data row2 col0\" >351.3</td>\n",
       "    </tr>\n",
       "    <tr>\n",
       "      <th id=\"T_c9582_level0_row3\" class=\"row_heading level0 row3\" >min</th>\n",
       "      <td id=\"T_c9582_row3_col0\" class=\"data row3 col0\" >1.0</td>\n",
       "    </tr>\n",
       "    <tr>\n",
       "      <th id=\"T_c9582_level0_row4\" class=\"row_heading level0 row4\" >25%</th>\n",
       "      <td id=\"T_c9582_row4_col0\" class=\"data row4 col0\" >23.0</td>\n",
       "    </tr>\n",
       "    <tr>\n",
       "      <th id=\"T_c9582_level0_row5\" class=\"row_heading level0 row5\" >50%</th>\n",
       "      <td id=\"T_c9582_row5_col0\" class=\"data row5 col0\" >55.0</td>\n",
       "    </tr>\n",
       "    <tr>\n",
       "      <th id=\"T_c9582_level0_row6\" class=\"row_heading level0 row6\" >75%</th>\n",
       "      <td id=\"T_c9582_row6_col0\" class=\"data row6 col0\" >154.0</td>\n",
       "    </tr>\n",
       "    <tr>\n",
       "      <th id=\"T_c9582_level0_row7\" class=\"row_heading level0 row7\" >max</th>\n",
       "      <td id=\"T_c9582_row7_col0\" class=\"data row7 col0\" >16637.0</td>\n",
       "    </tr>\n",
       "  </tbody>\n",
       "</table>\n"
      ],
      "text/plain": [
       "<pandas.io.formats.style.Styler at 0x7fccc4d77b50>"
      ]
     },
     "execution_count": 47,
     "metadata": {},
     "output_type": "execute_result"
    }
   ],
   "source": [
    "users_tracks[\"n_tracks\"].describe().to_frame().style.format('{:.1f}')"
   ]
  },
  {
   "cell_type": "code",
   "execution_count": 48,
   "id": "048cf603",
   "metadata": {},
   "outputs": [
    {
     "data": {
      "image/png": "[encoded data removed]",
      "text/plain": [
       "<Figure size 640x480 with 1 Axes>"
      ]
     },
     "metadata": {},
     "output_type": "display_data"
    }
   ],
   "source": [
    "users_tracks[\"n_tracks\"].hist(bins=100)\n",
    "\n",
    "plt.title(\"Распределение кол-ва прослушанных треков\", pad=20)\n",
    "plt.xlabel(\"Кол-во прослушанных треков\")\n",
    "plt.ylabel(\"Кол-во клиентов\\nс данным кол-вом прослушанных треков\")\n",
    "plt.show()"
   ]
  },
  {
   "cell_type": "code",
   "execution_count": 49,
   "id": "9072752e",
   "metadata": {},
   "outputs": [
    {
     "data": {
      "image/png": "[encoded data removed]",
      "text/plain": [
       "<Figure size 640x480 with 1 Axes>"
      ]
     },
     "metadata": {},
     "output_type": "display_data"
    }
   ],
   "source": [
    "users_tracks.loc[users_tracks[\"n_tracks\"] < users_tracks[\"n_tracks\"].quantile(0.95), \"n_tracks\"].hist(bins=100)\n",
    "\n",
    "plt.title(\"Распределение кол-ва прослушанных треков\\n(95% значений)\", pad=20)\n",
    "plt.xlabel(\"Кол-во прослушанных треков\")\n",
    "plt.ylabel(\"Кол-во клиентов\\nс данным кол-вом прослушанных треков\")\n",
    "plt.show()"
   ]
  },
  {
   "cell_type": "code",
   "execution_count": 50,
   "id": "012d94c6",
   "metadata": {},
   "outputs": [
    {
     "data": {
      "text/html": [
       "<div>\n",
       "<style scoped>\n",
       "    .dataframe tbody tr th:only-of-type {\n",
       "        vertical-align: middle;\n",
       "    }\n",
       "\n",
       "    .dataframe tbody tr th {\n",
       "        vertical-align: top;\n",
       "    }\n",
       "\n",
       "    .dataframe thead th {\n",
       "        text-align: right;\n",
       "    }\n",
       "</style>\n",
       "<table border=\"1\" class=\"dataframe\">\n",
       "  <thead>\n",
       "    <tr style=\"text-align: right;\">\n",
       "      <th></th>\n",
       "      <th>proportion</th>\n",
       "      <th>proportion</th>\n",
       "    </tr>\n",
       "    <tr>\n",
       "      <th>n_tracks</th>\n",
       "      <th></th>\n",
       "      <th></th>\n",
       "    </tr>\n",
       "  </thead>\n",
       "  <tbody>\n",
       "    <tr>\n",
       "      <th>1</th>\n",
       "      <td>0.000618</td>\n",
       "      <td>0.000618</td>\n",
       "    </tr>\n",
       "    <tr>\n",
       "      <th>2</th>\n",
       "      <td>0.000531</td>\n",
       "      <td>0.001149</td>\n",
       "    </tr>\n",
       "    <tr>\n",
       "      <th>3</th>\n",
       "      <td>0.000484</td>\n",
       "      <td>0.001633</td>\n",
       "    </tr>\n",
       "    <tr>\n",
       "      <th>4</th>\n",
       "      <td>0.000509</td>\n",
       "      <td>0.002142</td>\n",
       "    </tr>\n",
       "    <tr>\n",
       "      <th>5</th>\n",
       "      <td>0.000492</td>\n",
       "      <td>0.002634</td>\n",
       "    </tr>\n",
       "    <tr>\n",
       "      <th>6</th>\n",
       "      <td>0.000610</td>\n",
       "      <td>0.003243</td>\n",
       "    </tr>\n",
       "    <tr>\n",
       "      <th>7</th>\n",
       "      <td>0.000695</td>\n",
       "      <td>0.003939</td>\n",
       "    </tr>\n",
       "    <tr>\n",
       "      <th>8</th>\n",
       "      <td>0.000936</td>\n",
       "      <td>0.004875</td>\n",
       "    </tr>\n",
       "    <tr>\n",
       "      <th>9</th>\n",
       "      <td>0.001462</td>\n",
       "      <td>0.006337</td>\n",
       "    </tr>\n",
       "    <tr>\n",
       "      <th>10</th>\n",
       "      <td>0.003501</td>\n",
       "      <td>0.009837</td>\n",
       "    </tr>\n",
       "    <tr>\n",
       "      <th>11</th>\n",
       "      <td>0.029204</td>\n",
       "      <td>0.039042</td>\n",
       "    </tr>\n",
       "    <tr>\n",
       "      <th>12</th>\n",
       "      <td>0.026819</td>\n",
       "      <td>0.065860</td>\n",
       "    </tr>\n",
       "    <tr>\n",
       "      <th>13</th>\n",
       "      <td>0.024585</td>\n",
       "      <td>0.090446</td>\n",
       "    </tr>\n",
       "    <tr>\n",
       "      <th>14</th>\n",
       "      <td>0.022635</td>\n",
       "      <td>0.113081</td>\n",
       "    </tr>\n",
       "    <tr>\n",
       "      <th>15</th>\n",
       "      <td>0.020854</td>\n",
       "      <td>0.133935</td>\n",
       "    </tr>\n",
       "    <tr>\n",
       "      <th>16</th>\n",
       "      <td>0.019591</td>\n",
       "      <td>0.153526</td>\n",
       "    </tr>\n",
       "    <tr>\n",
       "      <th>17</th>\n",
       "      <td>0.017960</td>\n",
       "      <td>0.171486</td>\n",
       "    </tr>\n",
       "    <tr>\n",
       "      <th>18</th>\n",
       "      <td>0.017251</td>\n",
       "      <td>0.188737</td>\n",
       "    </tr>\n",
       "    <tr>\n",
       "      <th>19</th>\n",
       "      <td>0.016011</td>\n",
       "      <td>0.204747</td>\n",
       "    </tr>\n",
       "    <tr>\n",
       "      <th>20</th>\n",
       "      <td>0.015894</td>\n",
       "      <td>0.220641</td>\n",
       "    </tr>\n",
       "  </tbody>\n",
       "</table>\n",
       "</div>"
      ],
      "text/plain": [
       "          proportion  proportion\n",
       "n_tracks                        \n",
       "1           0.000618    0.000618\n",
       "2           0.000531    0.001149\n",
       "3           0.000484    0.001633\n",
       "4           0.000509    0.002142\n",
       "5           0.000492    0.002634\n",
       "6           0.000610    0.003243\n",
       "7           0.000695    0.003939\n",
       "8           0.000936    0.004875\n",
       "9           0.001462    0.006337\n",
       "10          0.003501    0.009837\n",
       "11          0.029204    0.039042\n",
       "12          0.026819    0.065860\n",
       "13          0.024585    0.090446\n",
       "14          0.022635    0.113081\n",
       "15          0.020854    0.133935\n",
       "16          0.019591    0.153526\n",
       "17          0.017960    0.171486\n",
       "18          0.017251    0.188737\n",
       "19          0.016011    0.204747\n",
       "20          0.015894    0.220641"
      ]
     },
     "execution_count": 50,
     "metadata": {},
     "output_type": "execute_result"
    }
   ],
   "source": [
    "pd.concat([\n",
    "    users_tracks[\"n_tracks\"].value_counts(normalize=True).sort_index().head(20),\n",
    "    users_tracks[\"n_tracks\"].value_counts(normalize=True).sort_index().head(20).cumsum(),\n",
    "], axis=1)"
   ]
  },
  {
   "cell_type": "code",
   "execution_count": null,
   "id": "e2506ffd",
   "metadata": {},
   "outputs": [
    {
     "data": {
      "text/html": [
       "<div>\n",
       "<style scoped>\n",
       "    .dataframe tbody tr th:only-of-type {\n",
       "        vertical-align: middle;\n",
       "    }\n",
       "\n",
       "    .dataframe tbody tr th {\n",
       "        vertical-align: top;\n",
       "    }\n",
       "\n",
       "    .dataframe thead th {\n",
       "        text-align: right;\n",
       "    }\n",
       "</style>\n",
       "<table border=\"1\" class=\"dataframe\">\n",
       "  <thead>\n",
       "    <tr style=\"text-align: right;\">\n",
       "      <th></th>\n",
       "      <th>proportion</th>\n",
       "      <th>proportion</th>\n",
       "    </tr>\n",
       "    <tr>\n",
       "      <th>n_tracks</th>\n",
       "      <th></th>\n",
       "      <th></th>\n",
       "    </tr>\n",
       "  </thead>\n",
       "  <tbody>\n",
       "    <tr>\n",
       "      <th>1</th>\n",
       "      <td>0.000618</td>\n",
       "      <td>0.000618</td>\n",
       "    </tr>\n",
       "    <tr>\n",
       "      <th>2</th>\n",
       "      <td>0.000531</td>\n",
       "      <td>0.001149</td>\n",
       "    </tr>\n",
       "    <tr>\n",
       "      <th>3</th>\n",
       "      <td>0.000484</td>\n",
       "      <td>0.001633</td>\n",
       "    </tr>\n",
       "    <tr>\n",
       "      <th>4</th>\n",
       "      <td>0.000509</td>\n",
       "      <td>0.002142</td>\n",
       "    </tr>\n",
       "    <tr>\n",
       "      <th>5</th>\n",
       "      <td>0.000492</td>\n",
       "      <td>0.002634</td>\n",
       "    </tr>\n",
       "    <tr>\n",
       "      <th>6</th>\n",
       "      <td>0.000610</td>\n",
       "      <td>0.003243</td>\n",
       "    </tr>\n",
       "    <tr>\n",
       "      <th>7</th>\n",
       "      <td>0.000695</td>\n",
       "      <td>0.003939</td>\n",
       "    </tr>\n",
       "    <tr>\n",
       "      <th>8</th>\n",
       "      <td>0.000936</td>\n",
       "      <td>0.004875</td>\n",
       "    </tr>\n",
       "    <tr>\n",
       "      <th>9</th>\n",
       "      <td>0.001462</td>\n",
       "      <td>0.006337</td>\n",
       "    </tr>\n",
       "    <tr>\n",
       "      <th>10</th>\n",
       "      <td>0.003501</td>\n",
       "      <td>0.009837</td>\n",
       "    </tr>\n",
       "    <tr>\n",
       "      <th>11</th>\n",
       "      <td>0.029204</td>\n",
       "      <td>0.039042</td>\n",
       "    </tr>\n",
       "    <tr>\n",
       "      <th>12</th>\n",
       "      <td>0.026819</td>\n",
       "      <td>0.065860</td>\n",
       "    </tr>\n",
       "    <tr>\n",
       "      <th>13</th>\n",
       "      <td>0.024585</td>\n",
       "      <td>0.090446</td>\n",
       "    </tr>\n",
       "    <tr>\n",
       "      <th>14</th>\n",
       "      <td>0.022635</td>\n",
       "      <td>0.113081</td>\n",
       "    </tr>\n",
       "    <tr>\n",
       "      <th>15</th>\n",
       "      <td>0.020854</td>\n",
       "      <td>0.133935</td>\n",
       "    </tr>\n",
       "    <tr>\n",
       "      <th>16</th>\n",
       "      <td>0.019591</td>\n",
       "      <td>0.153526</td>\n",
       "    </tr>\n",
       "    <tr>\n",
       "      <th>17</th>\n",
       "      <td>0.017960</td>\n",
       "      <td>0.171486</td>\n",
       "    </tr>\n",
       "    <tr>\n",
       "      <th>18</th>\n",
       "      <td>0.017251</td>\n",
       "      <td>0.188737</td>\n",
       "    </tr>\n",
       "    <tr>\n",
       "      <th>19</th>\n",
       "      <td>0.016011</td>\n",
       "      <td>0.204747</td>\n",
       "    </tr>\n",
       "    <tr>\n",
       "      <th>20</th>\n",
       "      <td>0.015894</td>\n",
       "      <td>0.220641</td>\n",
       "    </tr>\n",
       "  </tbody>\n",
       "</table>\n",
       "</div>"
      ],
      "text/plain": [
       "          proportion  proportion\n",
       "n_tracks                        \n",
       "1           0.000618    0.000618\n",
       "2           0.000531    0.001149\n",
       "3           0.000484    0.001633\n",
       "4           0.000509    0.002142\n",
       "5           0.000492    0.002634\n",
       "6           0.000610    0.003243\n",
       "7           0.000695    0.003939\n",
       "8           0.000936    0.004875\n",
       "9           0.001462    0.006337\n",
       "10          0.003501    0.009837\n",
       "11          0.029204    0.039042\n",
       "12          0.026819    0.065860\n",
       "13          0.024585    0.090446\n",
       "14          0.022635    0.113081\n",
       "15          0.020854    0.133935\n",
       "16          0.019591    0.153526\n",
       "17          0.017960    0.171486\n",
       "18          0.017251    0.188737\n",
       "19          0.016011    0.204747\n",
       "20          0.015894    0.220641"
      ]
     },
     "metadata": {},
     "output_type": "display_data"
    }
   ],
   "source": [
    "pd.concat([\n",
    "    users_tracks[\"n_tracks\"].value_counts(normalize=True, ascending=False).sort_index().head(20),\n",
    "    users_tracks[\"n_tracks\"].value_counts(normalize=True, ascending=False).sort_index().head(20).cumsum(),\n",
    "], axis=1)"
   ]
  },
  {
   "cell_type": "code",
   "execution_count": 51,
   "id": "562557c0",
   "metadata": {},
   "outputs": [
    {
     "data": {
      "image/png": "[encoded data removed]",
      "text/plain": [
       "<Figure size 640x480 with 1 Axes>"
      ]
     },
     "metadata": {},
     "output_type": "display_data"
    }
   ],
   "source": [
    "df_plot = users_tracks[\"min_date\"].value_counts().sort_index()\n",
    "df_plot.plot()\n",
    "plt.fill_between(df_plot.index, [0]*df_plot.shape[0], df_plot, alpha=0.25)\n",
    "\n",
    "plt.grid(\"both\")\n",
    "plt.title(\"Распределение Дат начала прослушиваний\")\n",
    "plt.ylabel(\"Кол-во пользователей,\\nначавших прослушивание в этот день\")\n",
    "plt.xlabel(\"Дни\")\n",
    "plt.show()"
   ]
  },
  {
   "cell_type": "code",
   "execution_count": 52,
   "id": "6dd00471",
   "metadata": {},
   "outputs": [
    {
     "data": {
      "image/png": "[encoded data removed]",
      "text/plain": [
       "<Figure size 640x480 with 1 Axes>"
      ]
     },
     "metadata": {},
     "output_type": "display_data"
    }
   ],
   "source": [
    "df_plot = users_tracks[\"max_date\"].value_counts().sort_index()\n",
    "df_plot.plot()\n",
    "plt.fill_between(df_plot.index, [0]*df_plot.shape[0], df_plot, alpha=0.25)\n",
    "\n",
    "plt.grid(\"both\")\n",
    "plt.title(\"Распределение последних Дат прослушиваний\")\n",
    "plt.ylabel(\"Кол-во пользователей,\\nс последним прослушивание в этот день\")\n",
    "plt.xlabel(\"Дни\")\n",
    "plt.show()"
   ]
  },
  {
   "cell_type": "code",
   "execution_count": 53,
   "id": "de11b685",
   "metadata": {},
   "outputs": [
    {
     "data": {
      "image/png": "[encoded data removed]",
      "text/plain": [
       "<Figure size 640x480 with 1 Axes>"
      ]
     },
     "metadata": {},
     "output_type": "display_data"
    }
   ],
   "source": [
    "df_plot = users_tracks.loc[users_tracks[\"max_date\"] < '2022-08-01', \"max_date\"].value_counts().sort_index()\n",
    "df_plot.plot()\n",
    "plt.fill_between(df_plot.index, [0]*df_plot.shape[0], df_plot, alpha=0.25)\n",
    "\n",
    "plt.grid(\"both\")\n",
    "plt.title(\"Распределение последних Дат прослушиваний\")\n",
    "plt.ylabel(\"Кол-во пользователей,\\nс последним прослушивание в этот день\")\n",
    "plt.xlabel(\"Дни\")\n",
    "plt.show()"
   ]
  },
  {
   "cell_type": "code",
   "execution_count": 54,
   "id": "fb7d4257",
   "metadata": {},
   "outputs": [
    {
     "data": {
      "text/plain": [
       "43962"
      ]
     },
     "execution_count": 54,
     "metadata": {},
     "output_type": "execute_result"
    }
   ],
   "source": [
    "del df_plot, users_tracks\n",
    "gc.collect()"
   ]
  },
  {
   "cell_type": "markdown",
   "id": "0e05a82e",
   "metadata": {},
   "source": [
    "**Выводы:**\n",
    "- Пользователи не слушают треки повторно (оценки по кол-ву прослушиваний одного трека не построить)\n",
    "- В среднем пользователи прослушивают 162 трека за год\n",
    "- Медиана прослушиваний за год = 55 треков\n",
    "- Минимум прослешиваний за год = 1 трек\n",
    "- Максимум прослушиваний за год = 16 637 треков\n",
    "- 10 и менее прослушанных треков имеют менее 1% пользователей - можно отбросить этих пользователей\n",
    "- до ноября стабильно ежедневно присоединяются к сервису поярдка 4000 новых пользователей, затем идет резкое снижение новых пользователей"
   ]
  },
  {
   "cell_type": "markdown",
   "id": "320b2749",
   "metadata": {},
   "source": [
    "**Выводы 2:**\n",
    "- При построении персональных рекомендации моделью ALS на ВМ умирает ядро. После 10 часов тщетных попыток построить рекомендации решение сократить матрицу:\n",
    "  - Оставляем клиентов с количеством прослушанных треков не менее 10 и не более 500. Т.е. обрежем выбросы."
   ]
  },
  {
   "cell_type": "markdown",
   "id": "d765519a-18dd-4d30-9e29-cc2d84cacd79",
   "metadata": {},
   "source": [
    "### Наиболее популярные треки"
   ]
  },
  {
   "cell_type": "code",
   "execution_count": 55,
   "id": "668de1c0",
   "metadata": {},
   "outputs": [],
   "source": [
    "# 2 min\n",
    "\n",
    "pop_tracks = df_events.groupby(\"track_id\", as_index=False).agg(n_users=(\"user_id\", \"nunique\"))"
   ]
  },
  {
   "cell_type": "code",
   "execution_count": 56,
   "id": "9fee6d5c",
   "metadata": {},
   "outputs": [],
   "source": [
    "pop_tracks[\"pop_rating\"] = pop_tracks[\"n_users\"] / df_events[\"user_id\"].nunique()"
   ]
  },
  {
   "cell_type": "code",
   "execution_count": 57,
   "id": "c71946c0",
   "metadata": {},
   "outputs": [
    {
     "data": {
      "text/plain": [
       "(1000000, 3)"
      ]
     },
     "execution_count": 57,
     "metadata": {},
     "output_type": "execute_result"
    }
   ],
   "source": [
    "# (1000000, 3)\n",
    "\n",
    "pop_tracks.shape"
   ]
  },
  {
   "cell_type": "code",
   "execution_count": 58,
   "id": "aa6c3fa3",
   "metadata": {},
   "outputs": [
    {
     "data": {
      "text/html": [
       "<div>\n",
       "<style scoped>\n",
       "    .dataframe tbody tr th:only-of-type {\n",
       "        vertical-align: middle;\n",
       "    }\n",
       "\n",
       "    .dataframe tbody tr th {\n",
       "        vertical-align: top;\n",
       "    }\n",
       "\n",
       "    .dataframe thead th {\n",
       "        text-align: right;\n",
       "    }\n",
       "</style>\n",
       "<table border=\"1\" class=\"dataframe\">\n",
       "  <thead>\n",
       "    <tr style=\"text-align: right;\">\n",
       "      <th></th>\n",
       "      <th>track_id</th>\n",
       "      <th>n_users</th>\n",
       "      <th>pop_rating</th>\n",
       "    </tr>\n",
       "  </thead>\n",
       "  <tbody>\n",
       "    <tr>\n",
       "      <th>0</th>\n",
       "      <td>26</td>\n",
       "      <td>5</td>\n",
       "      <td>0.000004</td>\n",
       "    </tr>\n",
       "    <tr>\n",
       "      <th>1</th>\n",
       "      <td>38</td>\n",
       "      <td>8</td>\n",
       "      <td>0.000006</td>\n",
       "    </tr>\n",
       "    <tr>\n",
       "      <th>2</th>\n",
       "      <td>135</td>\n",
       "      <td>16</td>\n",
       "      <td>0.000012</td>\n",
       "    </tr>\n",
       "    <tr>\n",
       "      <th>3</th>\n",
       "      <td>136</td>\n",
       "      <td>7</td>\n",
       "      <td>0.000005</td>\n",
       "    </tr>\n",
       "    <tr>\n",
       "      <th>4</th>\n",
       "      <td>138</td>\n",
       "      <td>17</td>\n",
       "      <td>0.000012</td>\n",
       "    </tr>\n",
       "  </tbody>\n",
       "</table>\n",
       "</div>"
      ],
      "text/plain": [
       "   track_id  n_users  pop_rating\n",
       "0        26        5    0.000004\n",
       "1        38        8    0.000006\n",
       "2       135       16    0.000012\n",
       "3       136        7    0.000005\n",
       "4       138       17    0.000012"
      ]
     },
     "execution_count": 58,
     "metadata": {},
     "output_type": "execute_result"
    }
   ],
   "source": [
    "pop_tracks.head()"
   ]
  },
  {
   "cell_type": "markdown",
   "id": "920ded40",
   "metadata": {},
   "source": [
    "Рассмотрим 20 наиболее популярных треков"
   ]
  },
  {
   "cell_type": "code",
   "execution_count": 59,
   "id": "b08c073f",
   "metadata": {},
   "outputs": [
    {
     "data": {
      "text/html": [
       "<div>\n",
       "<style scoped>\n",
       "    .dataframe tbody tr th:only-of-type {\n",
       "        vertical-align: middle;\n",
       "    }\n",
       "\n",
       "    .dataframe tbody tr th {\n",
       "        vertical-align: top;\n",
       "    }\n",
       "\n",
       "    .dataframe thead th {\n",
       "        text-align: right;\n",
       "    }\n",
       "</style>\n",
       "<table border=\"1\" class=\"dataframe\">\n",
       "  <thead>\n",
       "    <tr style=\"text-align: right;\">\n",
       "      <th></th>\n",
       "      <th>track_id</th>\n",
       "      <th>n_users</th>\n",
       "      <th>pop_rating</th>\n",
       "      <th>track_name</th>\n",
       "      <th>artist_names</th>\n",
       "    </tr>\n",
       "  </thead>\n",
       "  <tbody>\n",
       "    <tr>\n",
       "      <th>0</th>\n",
       "      <td>53404</td>\n",
       "      <td>111062</td>\n",
       "      <td>0.080877</td>\n",
       "      <td>Smells Like Teen Spirit</td>\n",
       "      <td>Nirvana</td>\n",
       "    </tr>\n",
       "    <tr>\n",
       "      <th>1</th>\n",
       "      <td>33311009</td>\n",
       "      <td>106921</td>\n",
       "      <td>0.077861</td>\n",
       "      <td>Believer</td>\n",
       "      <td>Imagine Dragons</td>\n",
       "    </tr>\n",
       "    <tr>\n",
       "      <th>2</th>\n",
       "      <td>178529</td>\n",
       "      <td>101924</td>\n",
       "      <td>0.074223</td>\n",
       "      <td>Numb</td>\n",
       "      <td>Linkin Park</td>\n",
       "    </tr>\n",
       "    <tr>\n",
       "      <th>3</th>\n",
       "      <td>35505245</td>\n",
       "      <td>99490</td>\n",
       "      <td>0.072450</td>\n",
       "      <td>I Got Love</td>\n",
       "      <td>Miyagi &amp; Эндшпиль; Рем Дигга</td>\n",
       "    </tr>\n",
       "    <tr>\n",
       "      <th>4</th>\n",
       "      <td>65851540</td>\n",
       "      <td>86670</td>\n",
       "      <td>0.063114</td>\n",
       "      <td>Юность</td>\n",
       "      <td>Dabro</td>\n",
       "    </tr>\n",
       "    <tr>\n",
       "      <th>5</th>\n",
       "      <td>24692821</td>\n",
       "      <td>86246</td>\n",
       "      <td>0.062806</td>\n",
       "      <td>Way Down We Go</td>\n",
       "      <td>KALEO</td>\n",
       "    </tr>\n",
       "    <tr>\n",
       "      <th>6</th>\n",
       "      <td>32947997</td>\n",
       "      <td>85886</td>\n",
       "      <td>0.062543</td>\n",
       "      <td>Shape of You</td>\n",
       "      <td>Ed Sheeran</td>\n",
       "    </tr>\n",
       "    <tr>\n",
       "      <th>7</th>\n",
       "      <td>51241318</td>\n",
       "      <td>85244</td>\n",
       "      <td>0.062076</td>\n",
       "      <td>In The End</td>\n",
       "      <td>Tommee Profitt; Fleurie; Mellen Gi</td>\n",
       "    </tr>\n",
       "    <tr>\n",
       "      <th>8</th>\n",
       "      <td>795836</td>\n",
       "      <td>85042</td>\n",
       "      <td>0.061929</td>\n",
       "      <td>Shape Of My Heart</td>\n",
       "      <td>Sting</td>\n",
       "    </tr>\n",
       "    <tr>\n",
       "      <th>9</th>\n",
       "      <td>45499814</td>\n",
       "      <td>84748</td>\n",
       "      <td>0.061715</td>\n",
       "      <td>Life</td>\n",
       "      <td>Zivert</td>\n",
       "    </tr>\n",
       "    <tr>\n",
       "      <th>10</th>\n",
       "      <td>60292250</td>\n",
       "      <td>84471</td>\n",
       "      <td>0.061513</td>\n",
       "      <td>Blinding Lights</td>\n",
       "      <td>The Weeknd</td>\n",
       "    </tr>\n",
       "    <tr>\n",
       "      <th>11</th>\n",
       "      <td>6705392</td>\n",
       "      <td>82483</td>\n",
       "      <td>0.060065</td>\n",
       "      <td>Seven Nation Army</td>\n",
       "      <td>The White Stripes</td>\n",
       "    </tr>\n",
       "    <tr>\n",
       "      <th>12</th>\n",
       "      <td>39257277</td>\n",
       "      <td>81978</td>\n",
       "      <td>0.059698</td>\n",
       "      <td>In My Mind</td>\n",
       "      <td>Dynoro; Gigi D'Agostino</td>\n",
       "    </tr>\n",
       "    <tr>\n",
       "      <th>13</th>\n",
       "      <td>29544272</td>\n",
       "      <td>81057</td>\n",
       "      <td>0.059027</td>\n",
       "      <td>Human</td>\n",
       "      <td>Rag'n'Bone Man</td>\n",
       "    </tr>\n",
       "    <tr>\n",
       "      <th>14</th>\n",
       "      <td>37384</td>\n",
       "      <td>80153</td>\n",
       "      <td>0.058369</td>\n",
       "      <td>Zombie</td>\n",
       "      <td>The Cranberries</td>\n",
       "    </tr>\n",
       "    <tr>\n",
       "      <th>15</th>\n",
       "      <td>51516485</td>\n",
       "      <td>78370</td>\n",
       "      <td>0.057070</td>\n",
       "      <td>bad guy</td>\n",
       "      <td>Billie Eilish</td>\n",
       "    </tr>\n",
       "    <tr>\n",
       "      <th>16</th>\n",
       "      <td>2758009</td>\n",
       "      <td>78181</td>\n",
       "      <td>0.056933</td>\n",
       "      <td>The Show Must Go On</td>\n",
       "      <td>Queen</td>\n",
       "    </tr>\n",
       "    <tr>\n",
       "      <th>17</th>\n",
       "      <td>47627256</td>\n",
       "      <td>76052</td>\n",
       "      <td>0.055382</td>\n",
       "      <td>Cradles</td>\n",
       "      <td>Sub Urban</td>\n",
       "    </tr>\n",
       "    <tr>\n",
       "      <th>18</th>\n",
       "      <td>328683</td>\n",
       "      <td>75686</td>\n",
       "      <td>0.055116</td>\n",
       "      <td>Bring Me To Life</td>\n",
       "      <td>Evanescence</td>\n",
       "    </tr>\n",
       "    <tr>\n",
       "      <th>19</th>\n",
       "      <td>57921154</td>\n",
       "      <td>74733</td>\n",
       "      <td>0.054422</td>\n",
       "      <td>Комета</td>\n",
       "      <td>JONY</td>\n",
       "    </tr>\n",
       "  </tbody>\n",
       "</table>\n",
       "</div>"
      ],
      "text/plain": [
       "    track_id  n_users  pop_rating               track_name  \\\n",
       "0      53404   111062    0.080877  Smells Like Teen Spirit   \n",
       "1   33311009   106921    0.077861                 Believer   \n",
       "2     178529   101924    0.074223                     Numb   \n",
       "3   35505245    99490    0.072450               I Got Love   \n",
       "4   65851540    86670    0.063114                   Юность   \n",
       "5   24692821    86246    0.062806           Way Down We Go   \n",
       "6   32947997    85886    0.062543             Shape of You   \n",
       "7   51241318    85244    0.062076               In The End   \n",
       "8     795836    85042    0.061929        Shape Of My Heart   \n",
       "9   45499814    84748    0.061715                     Life   \n",
       "10  60292250    84471    0.061513          Blinding Lights   \n",
       "11   6705392    82483    0.060065        Seven Nation Army   \n",
       "12  39257277    81978    0.059698               In My Mind   \n",
       "13  29544272    81057    0.059027                    Human   \n",
       "14     37384    80153    0.058369                   Zombie   \n",
       "15  51516485    78370    0.057070                  bad guy   \n",
       "16   2758009    78181    0.056933      The Show Must Go On   \n",
       "17  47627256    76052    0.055382                  Cradles   \n",
       "18    328683    75686    0.055116         Bring Me To Life   \n",
       "19  57921154    74733    0.054422                   Комета   \n",
       "\n",
       "                          artist_names  \n",
       "0                              Nirvana  \n",
       "1                      Imagine Dragons  \n",
       "2                          Linkin Park  \n",
       "3         Miyagi & Эндшпиль; Рем Дигга  \n",
       "4                                Dabro  \n",
       "5                                KALEO  \n",
       "6                           Ed Sheeran  \n",
       "7   Tommee Profitt; Fleurie; Mellen Gi  \n",
       "8                                Sting  \n",
       "9                               Zivert  \n",
       "10                          The Weeknd  \n",
       "11                   The White Stripes  \n",
       "12             Dynoro; Gigi D'Agostino  \n",
       "13                      Rag'n'Bone Man  \n",
       "14                     The Cranberries  \n",
       "15                       Billie Eilish  \n",
       "16                               Queen  \n",
       "17                           Sub Urban  \n",
       "18                         Evanescence  \n",
       "19                                JONY  "
      ]
     },
     "execution_count": 59,
     "metadata": {},
     "output_type": "execute_result"
    }
   ],
   "source": [
    "pop_tracks.sort_values(\"n_users\", ascending=False).head(20).merge(df_track_info)"
   ]
  },
  {
   "cell_type": "code",
   "execution_count": 65,
   "id": "e7310e71",
   "metadata": {},
   "outputs": [
    {
     "data": {
      "text/html": [
       "<div>\n",
       "<style scoped>\n",
       "    .dataframe tbody tr th:only-of-type {\n",
       "        vertical-align: middle;\n",
       "    }\n",
       "\n",
       "    .dataframe tbody tr th {\n",
       "        vertical-align: top;\n",
       "    }\n",
       "\n",
       "    .dataframe thead th {\n",
       "        text-align: right;\n",
       "    }\n",
       "</style>\n",
       "<table border=\"1\" class=\"dataframe\">\n",
       "  <thead>\n",
       "    <tr style=\"text-align: right;\">\n",
       "      <th></th>\n",
       "      <th>proportion</th>\n",
       "      <th>proportion</th>\n",
       "    </tr>\n",
       "    <tr>\n",
       "      <th>n_users</th>\n",
       "      <th></th>\n",
       "      <th></th>\n",
       "    </tr>\n",
       "  </thead>\n",
       "  <tbody>\n",
       "    <tr>\n",
       "      <th>5</th>\n",
       "      <td>0.053790</td>\n",
       "      <td>0.053790</td>\n",
       "    </tr>\n",
       "    <tr>\n",
       "      <th>6</th>\n",
       "      <td>0.078428</td>\n",
       "      <td>0.132218</td>\n",
       "    </tr>\n",
       "    <tr>\n",
       "      <th>7</th>\n",
       "      <td>0.061507</td>\n",
       "      <td>0.193725</td>\n",
       "    </tr>\n",
       "    <tr>\n",
       "      <th>8</th>\n",
       "      <td>0.050066</td>\n",
       "      <td>0.243791</td>\n",
       "    </tr>\n",
       "    <tr>\n",
       "      <th>9</th>\n",
       "      <td>0.041822</td>\n",
       "      <td>0.285613</td>\n",
       "    </tr>\n",
       "    <tr>\n",
       "      <th>10</th>\n",
       "      <td>0.035885</td>\n",
       "      <td>0.321498</td>\n",
       "    </tr>\n",
       "    <tr>\n",
       "      <th>11</th>\n",
       "      <td>0.031282</td>\n",
       "      <td>0.352780</td>\n",
       "    </tr>\n",
       "    <tr>\n",
       "      <th>12</th>\n",
       "      <td>0.027301</td>\n",
       "      <td>0.380081</td>\n",
       "    </tr>\n",
       "    <tr>\n",
       "      <th>13</th>\n",
       "      <td>0.024535</td>\n",
       "      <td>0.404616</td>\n",
       "    </tr>\n",
       "    <tr>\n",
       "      <th>14</th>\n",
       "      <td>0.021958</td>\n",
       "      <td>0.426574</td>\n",
       "    </tr>\n",
       "    <tr>\n",
       "      <th>15</th>\n",
       "      <td>0.019686</td>\n",
       "      <td>0.446260</td>\n",
       "    </tr>\n",
       "    <tr>\n",
       "      <th>16</th>\n",
       "      <td>0.017999</td>\n",
       "      <td>0.464259</td>\n",
       "    </tr>\n",
       "    <tr>\n",
       "      <th>17</th>\n",
       "      <td>0.016313</td>\n",
       "      <td>0.480572</td>\n",
       "    </tr>\n",
       "    <tr>\n",
       "      <th>18</th>\n",
       "      <td>0.015083</td>\n",
       "      <td>0.495655</td>\n",
       "    </tr>\n",
       "    <tr>\n",
       "      <th>19</th>\n",
       "      <td>0.013955</td>\n",
       "      <td>0.509610</td>\n",
       "    </tr>\n",
       "    <tr>\n",
       "      <th>20</th>\n",
       "      <td>0.013106</td>\n",
       "      <td>0.522716</td>\n",
       "    </tr>\n",
       "    <tr>\n",
       "      <th>21</th>\n",
       "      <td>0.012072</td>\n",
       "      <td>0.534788</td>\n",
       "    </tr>\n",
       "    <tr>\n",
       "      <th>22</th>\n",
       "      <td>0.011098</td>\n",
       "      <td>0.545886</td>\n",
       "    </tr>\n",
       "    <tr>\n",
       "      <th>23</th>\n",
       "      <td>0.010286</td>\n",
       "      <td>0.556172</td>\n",
       "    </tr>\n",
       "    <tr>\n",
       "      <th>24</th>\n",
       "      <td>0.009790</td>\n",
       "      <td>0.565962</td>\n",
       "    </tr>\n",
       "  </tbody>\n",
       "</table>\n",
       "</div>"
      ],
      "text/plain": [
       "         proportion  proportion\n",
       "n_users                        \n",
       "5          0.053790    0.053790\n",
       "6          0.078428    0.132218\n",
       "7          0.061507    0.193725\n",
       "8          0.050066    0.243791\n",
       "9          0.041822    0.285613\n",
       "10         0.035885    0.321498\n",
       "11         0.031282    0.352780\n",
       "12         0.027301    0.380081\n",
       "13         0.024535    0.404616\n",
       "14         0.021958    0.426574\n",
       "15         0.019686    0.446260\n",
       "16         0.017999    0.464259\n",
       "17         0.016313    0.480572\n",
       "18         0.015083    0.495655\n",
       "19         0.013955    0.509610\n",
       "20         0.013106    0.522716\n",
       "21         0.012072    0.534788\n",
       "22         0.011098    0.545886\n",
       "23         0.010286    0.556172\n",
       "24         0.009790    0.565962"
      ]
     },
     "execution_count": 65,
     "metadata": {},
     "output_type": "execute_result"
    }
   ],
   "source": [
    "pd.concat([\n",
    "    pop_tracks[\"n_users\"].value_counts(normalize=True).sort_index().head(20),\n",
    "    pop_tracks[\"n_users\"].value_counts(normalize=True).sort_index().head(20).cumsum(),\n",
    "], axis=1)"
   ]
  },
  {
   "cell_type": "code",
   "execution_count": 63,
   "id": "462ab884",
   "metadata": {},
   "outputs": [
    {
     "data": {
      "text/plain": [
       "5"
      ]
     },
     "execution_count": 63,
     "metadata": {},
     "output_type": "execute_result"
    }
   ],
   "source": [
    "pop_tracks[\"n_users\"].min()"
   ]
  },
  {
   "cell_type": "code",
   "execution_count": 58,
   "id": "e45e5ca6",
   "metadata": {},
   "outputs": [],
   "source": [
    "# del pop_tracks  # пригодится на поиске наиболее популярных жанров и исполнителей\n",
    "# gc.collect()"
   ]
  },
  {
   "cell_type": "markdown",
   "id": "08ca8ca8",
   "metadata": {},
   "source": [
    "**Вывод:**\n",
    "- Наиболее популярные треки:\n",
    "  - Nirvana \"Smells Like Teen Spirit\"\n",
    "  - Imagine Dragons \"Believer\"\n",
    "  - Linkin Park \"Numb\""
   ]
  },
  {
   "cell_type": "markdown",
   "id": "5bd17ae9",
   "metadata": {},
   "source": [
    "**Выводы 2:**\n",
    "- При построении персональных рекомендации моделью ALS на ВМ умирает ядро. После 10 часов тщетных попыток построить рекомендации решение сократить матрицу:\n",
    "  - Удаляем треки, которые прослушивали менее 10 раз"
   ]
  },
  {
   "cell_type": "markdown",
   "id": "b1c32a5a-d3be-4f96-8dd9-f7860951020c",
   "metadata": {},
   "source": [
    "### Наиболее популярные жанры"
   ]
  },
  {
   "cell_type": "code",
   "execution_count": 66,
   "id": "04237826",
   "metadata": {},
   "outputs": [],
   "source": [
    "# Ядро падает:\n",
    "\n",
    "# pop_genres = (\n",
    "#     df_events[[\"track_id\"]]\n",
    "#     .merge(\n",
    "#         df_tracks[[\"track_id\", \"genres\"]].explode(\"genres\"),\n",
    "#         on=\"track_id\",\n",
    "#         how=\"left\",\n",
    "#     )\n",
    "#     [\"genres\"].value_counts()\n",
    "# )"
   ]
  },
  {
   "cell_type": "code",
   "execution_count": 67,
   "id": "3dbf23b6",
   "metadata": {},
   "outputs": [],
   "source": [
    "pop_genres = (\n",
    "    pop_tracks[[\"track_id\", \"n_users\"]]\n",
    "    .merge(\n",
    "        df_tracks[[\"track_id\", \"genres\"]].explode(\"genres\"),\n",
    "        on=\"track_id\",\n",
    "        how=\"left\",\n",
    "    )\n",
    "    .groupby(\"genres\", as_index=False)[\"n_users\"].sum()\n",
    ")"
   ]
  },
  {
   "cell_type": "code",
   "execution_count": 68,
   "id": "c874a401",
   "metadata": {},
   "outputs": [],
   "source": [
    "pop_genres[\"pop_rating\"] = pop_genres[\"n_users\"] / pop_genres[\"n_users\"].sum()"
   ]
  },
  {
   "cell_type": "code",
   "execution_count": 69,
   "id": "778eb0f2",
   "metadata": {},
   "outputs": [
    {
     "data": {
      "text/plain": [
       "(173, 3)"
      ]
     },
     "execution_count": 69,
     "metadata": {},
     "output_type": "execute_result"
    }
   ],
   "source": [
    "# (173, 3)\n",
    "\n",
    "pop_genres.shape"
   ]
  },
  {
   "cell_type": "code",
   "execution_count": 70,
   "id": "3c450a13",
   "metadata": {},
   "outputs": [
    {
     "data": {
      "text/html": [
       "<div>\n",
       "<style scoped>\n",
       "    .dataframe tbody tr th:only-of-type {\n",
       "        vertical-align: middle;\n",
       "    }\n",
       "\n",
       "    .dataframe tbody tr th {\n",
       "        vertical-align: top;\n",
       "    }\n",
       "\n",
       "    .dataframe thead th {\n",
       "        text-align: right;\n",
       "    }\n",
       "</style>\n",
       "<table border=\"1\" class=\"dataframe\">\n",
       "  <thead>\n",
       "    <tr style=\"text-align: right;\">\n",
       "      <th></th>\n",
       "      <th>genres</th>\n",
       "      <th>n_users</th>\n",
       "      <th>pop_rating</th>\n",
       "    </tr>\n",
       "  </thead>\n",
       "  <tbody>\n",
       "    <tr>\n",
       "      <th>0</th>\n",
       "      <td>1</td>\n",
       "      <td>103086</td>\n",
       "      <td>0.000274</td>\n",
       "    </tr>\n",
       "    <tr>\n",
       "      <th>1</th>\n",
       "      <td>2</td>\n",
       "      <td>13166147</td>\n",
       "      <td>0.034965</td>\n",
       "    </tr>\n",
       "    <tr>\n",
       "      <th>2</th>\n",
       "      <td>3</td>\n",
       "      <td>25303695</td>\n",
       "      <td>0.067198</td>\n",
       "    </tr>\n",
       "    <tr>\n",
       "      <th>3</th>\n",
       "      <td>4</td>\n",
       "      <td>213528</td>\n",
       "      <td>0.000567</td>\n",
       "    </tr>\n",
       "    <tr>\n",
       "      <th>4</th>\n",
       "      <td>5</td>\n",
       "      <td>774668</td>\n",
       "      <td>0.002057</td>\n",
       "    </tr>\n",
       "  </tbody>\n",
       "</table>\n",
       "</div>"
      ],
      "text/plain": [
       "  genres   n_users  pop_rating\n",
       "0      1    103086    0.000274\n",
       "1      2  13166147    0.034965\n",
       "2      3  25303695    0.067198\n",
       "3      4    213528    0.000567\n",
       "4      5    774668    0.002057"
      ]
     },
     "execution_count": 70,
     "metadata": {},
     "output_type": "execute_result"
    }
   ],
   "source": [
    "pop_genres.head()"
   ]
  },
  {
   "cell_type": "code",
   "execution_count": 71,
   "id": "7ed716ed",
   "metadata": {},
   "outputs": [
    {
     "data": {
      "text/html": [
       "<div>\n",
       "<style scoped>\n",
       "    .dataframe tbody tr th:only-of-type {\n",
       "        vertical-align: middle;\n",
       "    }\n",
       "\n",
       "    .dataframe tbody tr th {\n",
       "        vertical-align: top;\n",
       "    }\n",
       "\n",
       "    .dataframe thead th {\n",
       "        text-align: right;\n",
       "    }\n",
       "</style>\n",
       "<table border=\"1\" class=\"dataframe\">\n",
       "  <thead>\n",
       "    <tr style=\"text-align: right;\">\n",
       "      <th></th>\n",
       "      <th>genres</th>\n",
       "      <th>n_users</th>\n",
       "      <th>pop_rating</th>\n",
       "    </tr>\n",
       "  </thead>\n",
       "  <tbody>\n",
       "    <tr>\n",
       "      <th>168</th>\n",
       "      <td>1016</td>\n",
       "      <td>228315</td>\n",
       "      <td>0.000606</td>\n",
       "    </tr>\n",
       "    <tr>\n",
       "      <th>169</th>\n",
       "      <td>1182</td>\n",
       "      <td>35013</td>\n",
       "      <td>0.000093</td>\n",
       "    </tr>\n",
       "    <tr>\n",
       "      <th>170</th>\n",
       "      <td>1197</td>\n",
       "      <td>137301</td>\n",
       "      <td>0.000365</td>\n",
       "    </tr>\n",
       "    <tr>\n",
       "      <th>171</th>\n",
       "      <td>1484</td>\n",
       "      <td>57787</td>\n",
       "      <td>0.000153</td>\n",
       "    </tr>\n",
       "    <tr>\n",
       "      <th>172</th>\n",
       "      <td>1542</td>\n",
       "      <td>9881</td>\n",
       "      <td>0.000026</td>\n",
       "    </tr>\n",
       "  </tbody>\n",
       "</table>\n",
       "</div>"
      ],
      "text/plain": [
       "    genres  n_users  pop_rating\n",
       "168   1016   228315    0.000606\n",
       "169   1182    35013    0.000093\n",
       "170   1197   137301    0.000365\n",
       "171   1484    57787    0.000153\n",
       "172   1542     9881    0.000026"
      ]
     },
     "execution_count": 71,
     "metadata": {},
     "output_type": "execute_result"
    }
   ],
   "source": [
    "pop_genres.tail()"
   ]
  },
  {
   "cell_type": "markdown",
   "id": "0ca0121d",
   "metadata": {},
   "source": [
    "Рассмотрим 20 наиболее популярных жанров"
   ]
  },
  {
   "cell_type": "code",
   "execution_count": 72,
   "id": "1269f57e",
   "metadata": {},
   "outputs": [
    {
     "data": {
      "text/html": [
       "<div>\n",
       "<style scoped>\n",
       "    .dataframe tbody tr th:only-of-type {\n",
       "        vertical-align: middle;\n",
       "    }\n",
       "\n",
       "    .dataframe tbody tr th {\n",
       "        vertical-align: top;\n",
       "    }\n",
       "\n",
       "    .dataframe thead th {\n",
       "        text-align: right;\n",
       "    }\n",
       "</style>\n",
       "<table border=\"1\" class=\"dataframe\">\n",
       "  <thead>\n",
       "    <tr style=\"text-align: right;\">\n",
       "      <th></th>\n",
       "      <th>genres</th>\n",
       "      <th>n_users</th>\n",
       "      <th>pop_rating</th>\n",
       "      <th>genre_name</th>\n",
       "    </tr>\n",
       "  </thead>\n",
       "  <tbody>\n",
       "    <tr>\n",
       "      <th>0</th>\n",
       "      <td>11</td>\n",
       "      <td>55578312</td>\n",
       "      <td>0.147597</td>\n",
       "      <td>pop</td>\n",
       "    </tr>\n",
       "    <tr>\n",
       "      <th>1</th>\n",
       "      <td>75</td>\n",
       "      <td>37799821</td>\n",
       "      <td>0.100383</td>\n",
       "      <td>rap</td>\n",
       "    </tr>\n",
       "    <tr>\n",
       "      <th>2</th>\n",
       "      <td>102</td>\n",
       "      <td>31092013</td>\n",
       "      <td>0.082570</td>\n",
       "      <td>allrock</td>\n",
       "    </tr>\n",
       "    <tr>\n",
       "      <th>3</th>\n",
       "      <td>20</td>\n",
       "      <td>26626241</td>\n",
       "      <td>0.070710</td>\n",
       "      <td>ruspop</td>\n",
       "    </tr>\n",
       "    <tr>\n",
       "      <th>4</th>\n",
       "      <td>3</td>\n",
       "      <td>25303695</td>\n",
       "      <td>0.067198</td>\n",
       "      <td>rusrap</td>\n",
       "    </tr>\n",
       "    <tr>\n",
       "      <th>5</th>\n",
       "      <td>68</td>\n",
       "      <td>20120981</td>\n",
       "      <td>0.053434</td>\n",
       "      <td>electronics</td>\n",
       "    </tr>\n",
       "    <tr>\n",
       "      <th>6</th>\n",
       "      <td>16</td>\n",
       "      <td>16291557</td>\n",
       "      <td>0.043265</td>\n",
       "      <td>dance</td>\n",
       "    </tr>\n",
       "    <tr>\n",
       "      <th>7</th>\n",
       "      <td>2</td>\n",
       "      <td>13166147</td>\n",
       "      <td>0.034965</td>\n",
       "      <td>rusrock</td>\n",
       "    </tr>\n",
       "    <tr>\n",
       "      <th>8</th>\n",
       "      <td>14</td>\n",
       "      <td>12772644</td>\n",
       "      <td>0.033920</td>\n",
       "      <td>rock</td>\n",
       "    </tr>\n",
       "    <tr>\n",
       "      <th>9</th>\n",
       "      <td>47</td>\n",
       "      <td>12437375</td>\n",
       "      <td>0.033029</td>\n",
       "      <td>metal</td>\n",
       "    </tr>\n",
       "    <tr>\n",
       "      <th>10</th>\n",
       "      <td>44</td>\n",
       "      <td>12194657</td>\n",
       "      <td>0.032385</td>\n",
       "      <td>foreignrap</td>\n",
       "    </tr>\n",
       "    <tr>\n",
       "      <th>11</th>\n",
       "      <td>13</td>\n",
       "      <td>10111562</td>\n",
       "      <td>0.026853</td>\n",
       "      <td>alternative</td>\n",
       "    </tr>\n",
       "    <tr>\n",
       "      <th>12</th>\n",
       "      <td>70</td>\n",
       "      <td>9993671</td>\n",
       "      <td>0.026540</td>\n",
       "      <td>indie</td>\n",
       "    </tr>\n",
       "    <tr>\n",
       "      <th>13</th>\n",
       "      <td>325</td>\n",
       "      <td>6896593</td>\n",
       "      <td>0.018315</td>\n",
       "      <td>estrada</td>\n",
       "    </tr>\n",
       "    <tr>\n",
       "      <th>14</th>\n",
       "      <td>25</td>\n",
       "      <td>5910628</td>\n",
       "      <td>0.015697</td>\n",
       "      <td>soundtrack</td>\n",
       "    </tr>\n",
       "    <tr>\n",
       "      <th>15</th>\n",
       "      <td>19</td>\n",
       "      <td>4960458</td>\n",
       "      <td>0.013173</td>\n",
       "      <td>rusestrada</td>\n",
       "    </tr>\n",
       "    <tr>\n",
       "      <th>16</th>\n",
       "      <td>6</td>\n",
       "      <td>4068270</td>\n",
       "      <td>0.010804</td>\n",
       "      <td>local-indie</td>\n",
       "    </tr>\n",
       "    <tr>\n",
       "      <th>17</th>\n",
       "      <td>21</td>\n",
       "      <td>3969678</td>\n",
       "      <td>0.010542</td>\n",
       "      <td>folk</td>\n",
       "    </tr>\n",
       "    <tr>\n",
       "      <th>18</th>\n",
       "      <td>50</td>\n",
       "      <td>3768826</td>\n",
       "      <td>0.010009</td>\n",
       "      <td>punk</td>\n",
       "    </tr>\n",
       "    <tr>\n",
       "      <th>19</th>\n",
       "      <td>74</td>\n",
       "      <td>3287311</td>\n",
       "      <td>0.008730</td>\n",
       "      <td>rnb</td>\n",
       "    </tr>\n",
       "  </tbody>\n",
       "</table>\n",
       "</div>"
      ],
      "text/plain": [
       "   genres   n_users  pop_rating   genre_name\n",
       "0      11  55578312    0.147597          pop\n",
       "1      75  37799821    0.100383          rap\n",
       "2     102  31092013    0.082570      allrock\n",
       "3      20  26626241    0.070710       ruspop\n",
       "4       3  25303695    0.067198       rusrap\n",
       "5      68  20120981    0.053434  electronics\n",
       "6      16  16291557    0.043265        dance\n",
       "7       2  13166147    0.034965      rusrock\n",
       "8      14  12772644    0.033920         rock\n",
       "9      47  12437375    0.033029        metal\n",
       "10     44  12194657    0.032385   foreignrap\n",
       "11     13  10111562    0.026853  alternative\n",
       "12     70   9993671    0.026540        indie\n",
       "13    325   6896593    0.018315      estrada\n",
       "14     25   5910628    0.015697   soundtrack\n",
       "15     19   4960458    0.013173   rusestrada\n",
       "16      6   4068270    0.010804  local-indie\n",
       "17     21   3969678    0.010542         folk\n",
       "18     50   3768826    0.010009         punk\n",
       "19     74   3287311    0.008730          rnb"
      ]
     },
     "execution_count": 72,
     "metadata": {},
     "output_type": "execute_result"
    }
   ],
   "source": [
    "(\n",
    "    pop_genres\n",
    "    .sort_values(\"n_users\", ascending=False)\n",
    "    .head(20)\n",
    "    .merge(\n",
    "        df_catalog.loc[df_catalog[\"type\"]==\"genre\", [\"id\", \"name\"]].rename(columns={\"id\": \"genres\", \"name\": \"genre_name\"}),\n",
    "        on=\"genres\",\n",
    "        how=\"left\",\n",
    "    )\n",
    ")"
   ]
  },
  {
   "cell_type": "code",
   "execution_count": 73,
   "id": "a635afdd",
   "metadata": {},
   "outputs": [
    {
     "data": {
      "text/plain": [
       "0"
      ]
     },
     "execution_count": 73,
     "metadata": {},
     "output_type": "execute_result"
    }
   ],
   "source": [
    "del pop_genres\n",
    "gc.collect()"
   ]
  },
  {
   "cell_type": "markdown",
   "id": "63b12d9f",
   "metadata": {},
   "source": [
    "**Вывод:**\n",
    "- Наиболее популярные жарны:\n",
    "  - Поп\n",
    "  - Рэп\n",
    "  - allrock"
   ]
  },
  {
   "cell_type": "markdown",
   "id": "bb6a2315",
   "metadata": {},
   "source": [
    "### Наиболее популярные исполнители"
   ]
  },
  {
   "cell_type": "code",
   "execution_count": 74,
   "id": "2a8a8f31",
   "metadata": {},
   "outputs": [],
   "source": [
    "pop_artists = (\n",
    "    pop_tracks[[\"track_id\", \"n_users\"]]\n",
    "    .merge(\n",
    "        df_tracks[[\"track_id\", \"artists\"]].explode(\"artists\"),\n",
    "        on=\"track_id\",\n",
    "        how=\"left\",\n",
    "    )\n",
    "    .groupby(\"artists\", as_index=False)[\"n_users\"].sum()\n",
    ")"
   ]
  },
  {
   "cell_type": "code",
   "execution_count": 75,
   "id": "5174eca4",
   "metadata": {},
   "outputs": [],
   "source": [
    "pop_artists[\"pop_rating\"] = pop_artists[\"n_users\"] / pop_artists[\"n_users\"].sum()"
   ]
  },
  {
   "cell_type": "code",
   "execution_count": 76,
   "id": "f7b9fe7b",
   "metadata": {},
   "outputs": [
    {
     "data": {
      "text/plain": [
       "(153581, 3)"
      ]
     },
     "execution_count": 76,
     "metadata": {},
     "output_type": "execute_result"
    }
   ],
   "source": [
    "# (153581, 3)\n",
    "\n",
    "pop_artists.shape"
   ]
  },
  {
   "cell_type": "code",
   "execution_count": 77,
   "id": "1d2aa521",
   "metadata": {},
   "outputs": [
    {
     "data": {
      "text/html": [
       "<div>\n",
       "<style scoped>\n",
       "    .dataframe tbody tr th:only-of-type {\n",
       "        vertical-align: middle;\n",
       "    }\n",
       "\n",
       "    .dataframe tbody tr th {\n",
       "        vertical-align: top;\n",
       "    }\n",
       "\n",
       "    .dataframe thead th {\n",
       "        text-align: right;\n",
       "    }\n",
       "</style>\n",
       "<table border=\"1\" class=\"dataframe\">\n",
       "  <thead>\n",
       "    <tr style=\"text-align: right;\">\n",
       "      <th></th>\n",
       "      <th>artists</th>\n",
       "      <th>n_users</th>\n",
       "      <th>pop_rating</th>\n",
       "    </tr>\n",
       "  </thead>\n",
       "  <tbody>\n",
       "    <tr>\n",
       "      <th>0</th>\n",
       "      <td>4</td>\n",
       "      <td>39</td>\n",
       "      <td>1.366340e-07</td>\n",
       "    </tr>\n",
       "    <tr>\n",
       "      <th>1</th>\n",
       "      <td>5</td>\n",
       "      <td>164</td>\n",
       "      <td>5.745633e-07</td>\n",
       "    </tr>\n",
       "    <tr>\n",
       "      <th>2</th>\n",
       "      <td>7</td>\n",
       "      <td>7</td>\n",
       "      <td>2.452404e-08</td>\n",
       "    </tr>\n",
       "    <tr>\n",
       "      <th>3</th>\n",
       "      <td>9</td>\n",
       "      <td>73794</td>\n",
       "      <td>2.585325e-04</td>\n",
       "    </tr>\n",
       "    <tr>\n",
       "      <th>4</th>\n",
       "      <td>12</td>\n",
       "      <td>5</td>\n",
       "      <td>1.751717e-08</td>\n",
       "    </tr>\n",
       "  </tbody>\n",
       "</table>\n",
       "</div>"
      ],
      "text/plain": [
       "  artists  n_users    pop_rating\n",
       "0       4       39  1.366340e-07\n",
       "1       5      164  5.745633e-07\n",
       "2       7        7  2.452404e-08\n",
       "3       9    73794  2.585325e-04\n",
       "4      12        5  1.751717e-08"
      ]
     },
     "execution_count": 77,
     "metadata": {},
     "output_type": "execute_result"
    }
   ],
   "source": [
    "pop_artists.head()"
   ]
  },
  {
   "cell_type": "markdown",
   "id": "a4cc12d1",
   "metadata": {},
   "source": [
    "Рассмотрим 20 наиболее популярных исполнителей"
   ]
  },
  {
   "cell_type": "code",
   "execution_count": 78,
   "id": "af70b784",
   "metadata": {},
   "outputs": [
    {
     "data": {
      "text/html": [
       "<div>\n",
       "<style scoped>\n",
       "    .dataframe tbody tr th:only-of-type {\n",
       "        vertical-align: middle;\n",
       "    }\n",
       "\n",
       "    .dataframe tbody tr th {\n",
       "        vertical-align: top;\n",
       "    }\n",
       "\n",
       "    .dataframe thead th {\n",
       "        text-align: right;\n",
       "    }\n",
       "</style>\n",
       "<table border=\"1\" class=\"dataframe\">\n",
       "  <thead>\n",
       "    <tr style=\"text-align: right;\">\n",
       "      <th></th>\n",
       "      <th>artists</th>\n",
       "      <th>n_users</th>\n",
       "      <th>pop_rating</th>\n",
       "      <th>artist_name</th>\n",
       "    </tr>\n",
       "  </thead>\n",
       "  <tbody>\n",
       "    <tr>\n",
       "      <th>0</th>\n",
       "      <td>41191</td>\n",
       "      <td>886086</td>\n",
       "      <td>0.003104</td>\n",
       "      <td>Баста</td>\n",
       "    </tr>\n",
       "    <tr>\n",
       "      <th>1</th>\n",
       "      <td>41114</td>\n",
       "      <td>831788</td>\n",
       "      <td>0.002914</td>\n",
       "      <td>Би-2</td>\n",
       "    </tr>\n",
       "    <tr>\n",
       "      <th>2</th>\n",
       "      <td>3246342</td>\n",
       "      <td>828217</td>\n",
       "      <td>0.002902</td>\n",
       "      <td>Скриптонит</td>\n",
       "    </tr>\n",
       "    <tr>\n",
       "      <th>3</th>\n",
       "      <td>675068</td>\n",
       "      <td>804918</td>\n",
       "      <td>0.002820</td>\n",
       "      <td>Imagine Dragons</td>\n",
       "    </tr>\n",
       "    <tr>\n",
       "      <th>4</th>\n",
       "      <td>41075</td>\n",
       "      <td>795072</td>\n",
       "      <td>0.002785</td>\n",
       "      <td>КИНО</td>\n",
       "    </tr>\n",
       "    <tr>\n",
       "      <th>5</th>\n",
       "      <td>41052</td>\n",
       "      <td>748064</td>\n",
       "      <td>0.002621</td>\n",
       "      <td>Король и Шут</td>\n",
       "    </tr>\n",
       "    <tr>\n",
       "      <th>6</th>\n",
       "      <td>975699</td>\n",
       "      <td>717773</td>\n",
       "      <td>0.002515</td>\n",
       "      <td>Макс Корж</td>\n",
       "    </tr>\n",
       "    <tr>\n",
       "      <th>7</th>\n",
       "      <td>4611844</td>\n",
       "      <td>677548</td>\n",
       "      <td>0.002374</td>\n",
       "      <td>Miyagi &amp; Эндшпиль</td>\n",
       "    </tr>\n",
       "    <tr>\n",
       "      <th>8</th>\n",
       "      <td>666984</td>\n",
       "      <td>676222</td>\n",
       "      <td>0.002369</td>\n",
       "      <td>Artik &amp; Asti</td>\n",
       "    </tr>\n",
       "    <tr>\n",
       "      <th>9</th>\n",
       "      <td>36800</td>\n",
       "      <td>675728</td>\n",
       "      <td>0.002367</td>\n",
       "      <td>Linkin Park</td>\n",
       "    </tr>\n",
       "    <tr>\n",
       "      <th>10</th>\n",
       "      <td>1053</td>\n",
       "      <td>674806</td>\n",
       "      <td>0.002364</td>\n",
       "      <td>Eminem</td>\n",
       "    </tr>\n",
       "    <tr>\n",
       "      <th>11</th>\n",
       "      <td>5007577</td>\n",
       "      <td>640574</td>\n",
       "      <td>0.002244</td>\n",
       "      <td>Zivert</td>\n",
       "    </tr>\n",
       "    <tr>\n",
       "      <th>12</th>\n",
       "      <td>79215</td>\n",
       "      <td>621537</td>\n",
       "      <td>0.002178</td>\n",
       "      <td>Queen</td>\n",
       "    </tr>\n",
       "    <tr>\n",
       "      <th>13</th>\n",
       "      <td>161243</td>\n",
       "      <td>612114</td>\n",
       "      <td>0.002145</td>\n",
       "      <td>Сплин</td>\n",
       "    </tr>\n",
       "    <tr>\n",
       "      <th>14</th>\n",
       "      <td>160970</td>\n",
       "      <td>600223</td>\n",
       "      <td>0.002103</td>\n",
       "      <td>Noize MC</td>\n",
       "    </tr>\n",
       "    <tr>\n",
       "      <th>15</th>\n",
       "      <td>5781113</td>\n",
       "      <td>576955</td>\n",
       "      <td>0.002021</td>\n",
       "      <td>MORGENSHTERN</td>\n",
       "    </tr>\n",
       "    <tr>\n",
       "      <th>16</th>\n",
       "      <td>796797</td>\n",
       "      <td>574238</td>\n",
       "      <td>0.002012</td>\n",
       "      <td>ЕГОР КРИД</td>\n",
       "    </tr>\n",
       "    <tr>\n",
       "      <th>17</th>\n",
       "      <td>5129397</td>\n",
       "      <td>554266</td>\n",
       "      <td>0.001942</td>\n",
       "      <td>HammAli &amp; Navai</td>\n",
       "    </tr>\n",
       "    <tr>\n",
       "      <th>18</th>\n",
       "      <td>168851</td>\n",
       "      <td>544491</td>\n",
       "      <td>0.001908</td>\n",
       "      <td>Ленинград</td>\n",
       "    </tr>\n",
       "    <tr>\n",
       "      <th>19</th>\n",
       "      <td>13002</td>\n",
       "      <td>530652</td>\n",
       "      <td>0.001859</td>\n",
       "      <td>Rammstein</td>\n",
       "    </tr>\n",
       "  </tbody>\n",
       "</table>\n",
       "</div>"
      ],
      "text/plain": [
       "    artists  n_users  pop_rating        artist_name\n",
       "0     41191   886086    0.003104              Баста\n",
       "1     41114   831788    0.002914               Би-2\n",
       "2   3246342   828217    0.002902         Скриптонит\n",
       "3    675068   804918    0.002820    Imagine Dragons\n",
       "4     41075   795072    0.002785               КИНО\n",
       "5     41052   748064    0.002621       Король и Шут\n",
       "6    975699   717773    0.002515          Макс Корж\n",
       "7   4611844   677548    0.002374  Miyagi & Эндшпиль\n",
       "8    666984   676222    0.002369       Artik & Asti\n",
       "9     36800   675728    0.002367        Linkin Park\n",
       "10     1053   674806    0.002364             Eminem\n",
       "11  5007577   640574    0.002244             Zivert\n",
       "12    79215   621537    0.002178              Queen\n",
       "13   161243   612114    0.002145              Сплин\n",
       "14   160970   600223    0.002103           Noize MC\n",
       "15  5781113   576955    0.002021       MORGENSHTERN\n",
       "16   796797   574238    0.002012          ЕГОР КРИД\n",
       "17  5129397   554266    0.001942    HammAli & Navai\n",
       "18   168851   544491    0.001908          Ленинград\n",
       "19    13002   530652    0.001859          Rammstein"
      ]
     },
     "execution_count": 78,
     "metadata": {},
     "output_type": "execute_result"
    }
   ],
   "source": [
    "(\n",
    "    pop_artists\n",
    "    .sort_values(\"n_users\", ascending=False)\n",
    "    .head(20)\n",
    "    .merge(\n",
    "        df_catalog.loc[df_catalog[\"type\"]==\"artist\", [\"id\", \"name\"]].rename(columns={\"id\": \"artists\", \"name\": \"artist_name\"}),\n",
    "        on=\"artists\",\n",
    "        how=\"left\",\n",
    "    )\n",
    ")"
   ]
  },
  {
   "cell_type": "code",
   "execution_count": 79,
   "id": "3a97c065",
   "metadata": {},
   "outputs": [
    {
     "data": {
      "text/plain": [
       "0"
      ]
     },
     "execution_count": 79,
     "metadata": {},
     "output_type": "execute_result"
    }
   ],
   "source": [
    "del pop_artists\n",
    "gc.collect()"
   ]
  },
  {
   "cell_type": "markdown",
   "id": "4817a7e5",
   "metadata": {},
   "source": [
    "**Вывод:**\n",
    "- Наиболее популярные исполнители:\n",
    "  - Баста\n",
    "  - Би-2\n",
    "  - Скриптонит"
   ]
  },
  {
   "cell_type": "markdown",
   "id": "15254e66-e80e-473b-ba24-abebea5ccac7",
   "metadata": {},
   "source": [
    "### Треки, которые никто не прослушал"
   ]
  },
  {
   "cell_type": "code",
   "execution_count": 80,
   "id": "3f7d8f5d",
   "metadata": {},
   "outputs": [
    {
     "data": {
      "text/plain": [
       "1000000"
      ]
     },
     "execution_count": 80,
     "metadata": {},
     "output_type": "execute_result"
    }
   ],
   "source": [
    "# 1000000\n",
    "\n",
    "df_events[\"track_id\"].nunique()"
   ]
  },
  {
   "cell_type": "code",
   "execution_count": 81,
   "id": "4ad9387c",
   "metadata": {},
   "outputs": [
    {
     "data": {
      "text/html": [
       "<div>\n",
       "<style scoped>\n",
       "    .dataframe tbody tr th:only-of-type {\n",
       "        vertical-align: middle;\n",
       "    }\n",
       "\n",
       "    .dataframe tbody tr th {\n",
       "        vertical-align: top;\n",
       "    }\n",
       "\n",
       "    .dataframe thead th {\n",
       "        text-align: right;\n",
       "    }\n",
       "</style>\n",
       "<table border=\"1\" class=\"dataframe\">\n",
       "  <thead>\n",
       "    <tr style=\"text-align: right;\">\n",
       "      <th></th>\n",
       "      <th>track_id</th>\n",
       "      <th>albums</th>\n",
       "      <th>artists</th>\n",
       "      <th>genres</th>\n",
       "    </tr>\n",
       "  </thead>\n",
       "  <tbody>\n",
       "  </tbody>\n",
       "</table>\n",
       "</div>"
      ],
      "text/plain": [
       "Empty DataFrame\n",
       "Columns: [track_id, albums, artists, genres]\n",
       "Index: []"
      ]
     },
     "execution_count": 81,
     "metadata": {},
     "output_type": "execute_result"
    }
   ],
   "source": [
    "# empty DataFrame\n",
    "\n",
    "df_tracks.loc[~df_tracks[\"track_id\"].isin(df_events[\"track_id\"].unique())]"
   ]
  },
  {
   "cell_type": "markdown",
   "id": "f28f5c7c",
   "metadata": {},
   "source": [
    "**Вывод:**\n",
    "- Треков, которые никто не прослушал нет в данных"
   ]
  },
  {
   "cell_type": "markdown",
   "id": "0d850a07-ef1e-462f-891a-1cf89f2e24ef",
   "metadata": {},
   "source": [
    "## Преобразование данных"
   ]
  },
  {
   "cell_type": "code",
   "execution_count": 82,
   "id": "87d21807",
   "metadata": {},
   "outputs": [
    {
     "data": {
      "text/plain": [
       "222629898"
      ]
     },
     "execution_count": 82,
     "metadata": {},
     "output_type": "execute_result"
    }
   ],
   "source": [
    "# 222629898\n",
    "\n",
    "shape_origin = df_events.shape[0]\n",
    "shape_origin"
   ]
  },
  {
   "cell_type": "markdown",
   "id": "fabcf8d2-1192-4df5-b20b-fbb84689f57a",
   "metadata": {},
   "source": [
    "Преобразуем данные в формат, более пригодный для дальнейшего использования в расчётах рекомендаций."
   ]
  },
  {
   "cell_type": "code",
   "execution_count": 83,
   "id": "1a625496",
   "metadata": {},
   "outputs": [],
   "source": [
    "# Добавим наименования к данным по трекам\n",
    "\n",
    "df_tracks = df_tracks.merge(\n",
    "    df_track_info,\n",
    "    on=\"track_id\",\n",
    "    how=\"left\",\n",
    ")"
   ]
  },
  {
   "cell_type": "code",
   "execution_count": 85,
   "id": "f3003fcd",
   "metadata": {},
   "outputs": [],
   "source": [
    "# Оставим клиентов с более 15 прослушанными треками\n",
    "\n",
    "# Падает ядро:\n",
    "# df_events.groupby(\"user_id\").filter(lambda x: x[\"track_seq\"].max() > 10)\n",
    "\n",
    "df_events = df_events.loc[df_events[\"user_id\"].isin(\n",
    "    df_events.loc[df_events[\"track_seq\"] > 15, \"user_id\"].unique()\n",
    ")]"
   ]
  },
  {
   "cell_type": "code",
   "execution_count": 89,
   "id": "867ade3a",
   "metadata": {},
   "outputs": [],
   "source": [
    "# Удаляем треки без жанра, исполнителя или альбома\n",
    "\n",
    "df_tracks = df_tracks[df_tracks[\"albums\"].apply(len) > 0]\n",
    "df_tracks = df_tracks[df_tracks[\"artists\"].apply(len) > 0]\n",
    "df_tracks = df_tracks[df_tracks[\"genres\"].apply(len) > 0]"
   ]
  },
  {
   "cell_type": "code",
   "execution_count": 92,
   "id": "27ce681f",
   "metadata": {},
   "outputs": [],
   "source": [
    "# Оставляем треки, которые прослушивали не менее 10 раз\n",
    "\n",
    "df_tracks = df_tracks[df_tracks[\"track_id\"].isin(\n",
    "    pop_tracks.loc[pop_tracks[\"n_users\"] >= 10, \"track_id\"]\n",
    ")]"
   ]
  },
  {
   "cell_type": "code",
   "execution_count": 93,
   "id": "e6129119",
   "metadata": {},
   "outputs": [],
   "source": [
    "df_events = df_events[df_events[\"track_id\"].isin(df_tracks[\"track_id\"])]"
   ]
  },
  {
   "cell_type": "code",
   "execution_count": 94,
   "id": "3eb51ae9",
   "metadata": {},
   "outputs": [],
   "source": [
    "# Переименуем колонки\n",
    "\n",
    "df_events = df_events.rename(columns={\n",
    "    \"track_id\": \"item_id_origin\",\n",
    "    \"track_seq\": \"item_seq\",\n",
    "    \"user_id\": \"user_id_origin\",\n",
    "})\n",
    "df_tracks = df_tracks.rename(columns={\n",
    "    \"track_id\": \"item_id_origin\",\n",
    "})"
   ]
  },
  {
   "cell_type": "code",
   "execution_count": 95,
   "id": "b1de513f",
   "metadata": {},
   "outputs": [],
   "source": [
    "# 2 min !\n",
    "# Преобразуем идентификаторы пользователей и товаров в непрерывную последовательность\n",
    "\n",
    "user_encoder = LabelEncoder()\n",
    "item_encoder = LabelEncoder()\n",
    "\n",
    "df_events[\"user_id\"] = user_encoder.fit_transform(df_events[\"user_id_origin\"])\n",
    "\n",
    "item_encoder.fit(df_tracks[\"item_id_origin\"])\n",
    "df_tracks[\"item_id\"] = item_encoder.transform(df_tracks[\"item_id_origin\"])\n",
    "df_events[\"item_id\"] = item_encoder.transform(df_events[\"item_id_origin\"])"
   ]
  },
  {
   "cell_type": "code",
   "execution_count": 96,
   "id": "cee64052",
   "metadata": {},
   "outputs": [],
   "source": [
    "# Добавим рейтинги\n",
    "# Поскольку пользователи не прослушивали трек дважды, то все оценки = 1 (см. ### Распределение количества прослушанных треков.)\n",
    "\n",
    "df_events[\"ratings\"] = 1"
   ]
  },
  {
   "cell_type": "code",
   "execution_count": 97,
   "id": "033c7d2a",
   "metadata": {},
   "outputs": [
    {
     "data": {
      "text/html": [
       "<div>\n",
       "<style scoped>\n",
       "    .dataframe tbody tr th:only-of-type {\n",
       "        vertical-align: middle;\n",
       "    }\n",
       "\n",
       "    .dataframe tbody tr th {\n",
       "        vertical-align: top;\n",
       "    }\n",
       "\n",
       "    .dataframe thead th {\n",
       "        text-align: right;\n",
       "    }\n",
       "</style>\n",
       "<table border=\"1\" class=\"dataframe\">\n",
       "  <thead>\n",
       "    <tr style=\"text-align: right;\">\n",
       "      <th></th>\n",
       "      <th>item_id_origin</th>\n",
       "      <th>albums</th>\n",
       "      <th>artists</th>\n",
       "      <th>genres</th>\n",
       "      <th>track_name</th>\n",
       "      <th>artist_names</th>\n",
       "      <th>item_id</th>\n",
       "    </tr>\n",
       "  </thead>\n",
       "  <tbody>\n",
       "    <tr>\n",
       "      <th>2</th>\n",
       "      <td>135</td>\n",
       "      <td>[12, 214, 2490809]</td>\n",
       "      <td>[84]</td>\n",
       "      <td>[11]</td>\n",
       "      <td>Atticus</td>\n",
       "      <td>Noisettes</td>\n",
       "      <td>0</td>\n",
       "    </tr>\n",
       "    <tr>\n",
       "      <th>4</th>\n",
       "      <td>138</td>\n",
       "      <td>[12, 214, 322, 72275, 72292, 91199, 213505, 24...</td>\n",
       "      <td>[84]</td>\n",
       "      <td>[11]</td>\n",
       "      <td>Don't Upset The Rhythm (Go Baby Go)</td>\n",
       "      <td>Noisettes</td>\n",
       "      <td>1</td>\n",
       "    </tr>\n",
       "    <tr>\n",
       "      <th>6</th>\n",
       "      <td>140</td>\n",
       "      <td>[12, 214, 2490809]</td>\n",
       "      <td>[84]</td>\n",
       "      <td>[11]</td>\n",
       "      <td>Sometimes</td>\n",
       "      <td>Noisettes</td>\n",
       "      <td>2</td>\n",
       "    </tr>\n",
       "    <tr>\n",
       "      <th>7</th>\n",
       "      <td>141</td>\n",
       "      <td>[12, 214, 60093, 2490809, 10023160, 15635235, ...</td>\n",
       "      <td>[84]</td>\n",
       "      <td>[11]</td>\n",
       "      <td>Never Forget You</td>\n",
       "      <td>Noisettes</td>\n",
       "      <td>3</td>\n",
       "    </tr>\n",
       "    <tr>\n",
       "      <th>8</th>\n",
       "      <td>143</td>\n",
       "      <td>[12, 214, 2490809]</td>\n",
       "      <td>[84]</td>\n",
       "      <td>[11]</td>\n",
       "      <td>Every Now And Then</td>\n",
       "      <td>Noisettes</td>\n",
       "      <td>4</td>\n",
       "    </tr>\n",
       "    <tr>\n",
       "      <th>999993</th>\n",
       "      <td>101458360</td>\n",
       "      <td>[21394533]</td>\n",
       "      <td>[314001, 40324, 7237963]</td>\n",
       "      <td>[13]</td>\n",
       "      <td>KULT</td>\n",
       "      <td>grandson; Steve Aoki; Jasiah</td>\n",
       "      <td>703754</td>\n",
       "    </tr>\n",
       "    <tr>\n",
       "      <th>999994</th>\n",
       "      <td>101476180</td>\n",
       "      <td>[21399110]</td>\n",
       "      <td>[6207325]</td>\n",
       "      <td>[11, 20]</td>\n",
       "      <td>Февраль</td>\n",
       "      <td>Gafur</td>\n",
       "      <td>703755</td>\n",
       "    </tr>\n",
       "    <tr>\n",
       "      <th>999996</th>\n",
       "      <td>101490148</td>\n",
       "      <td>[21403052]</td>\n",
       "      <td>[9078726]</td>\n",
       "      <td>[11, 20]</td>\n",
       "      <td>Без капли мысли</td>\n",
       "      <td>Даня Милохин</td>\n",
       "      <td>703756</td>\n",
       "    </tr>\n",
       "    <tr>\n",
       "      <th>999998</th>\n",
       "      <td>101495927</td>\n",
       "      <td>[21404975]</td>\n",
       "      <td>[4462686]</td>\n",
       "      <td>[3, 75]</td>\n",
       "      <td>Москва</td>\n",
       "      <td>Yanix</td>\n",
       "      <td>703757</td>\n",
       "    </tr>\n",
       "    <tr>\n",
       "      <th>999999</th>\n",
       "      <td>101521819</td>\n",
       "      <td>[21414638]</td>\n",
       "      <td>[5056591]</td>\n",
       "      <td>[3, 75]</td>\n",
       "      <td>Вокзал</td>\n",
       "      <td>Джарахов</td>\n",
       "      <td>703758</td>\n",
       "    </tr>\n",
       "  </tbody>\n",
       "</table>\n",
       "</div>"
      ],
      "text/plain": [
       "        item_id_origin                                             albums  \\\n",
       "2                  135                                 [12, 214, 2490809]   \n",
       "4                  138  [12, 214, 322, 72275, 72292, 91199, 213505, 24...   \n",
       "6                  140                                 [12, 214, 2490809]   \n",
       "7                  141  [12, 214, 60093, 2490809, 10023160, 15635235, ...   \n",
       "8                  143                                 [12, 214, 2490809]   \n",
       "999993       101458360                                         [21394533]   \n",
       "999994       101476180                                         [21399110]   \n",
       "999996       101490148                                         [21403052]   \n",
       "999998       101495927                                         [21404975]   \n",
       "999999       101521819                                         [21414638]   \n",
       "\n",
       "                         artists    genres  \\\n",
       "2                           [84]      [11]   \n",
       "4                           [84]      [11]   \n",
       "6                           [84]      [11]   \n",
       "7                           [84]      [11]   \n",
       "8                           [84]      [11]   \n",
       "999993  [314001, 40324, 7237963]      [13]   \n",
       "999994                 [6207325]  [11, 20]   \n",
       "999996                 [9078726]  [11, 20]   \n",
       "999998                 [4462686]   [3, 75]   \n",
       "999999                 [5056591]   [3, 75]   \n",
       "\n",
       "                                 track_name                  artist_names  \\\n",
       "2                                   Atticus                     Noisettes   \n",
       "4       Don't Upset The Rhythm (Go Baby Go)                     Noisettes   \n",
       "6                                 Sometimes                     Noisettes   \n",
       "7                          Never Forget You                     Noisettes   \n",
       "8                        Every Now And Then                     Noisettes   \n",
       "999993                                 KULT  grandson; Steve Aoki; Jasiah   \n",
       "999994                              Февраль                         Gafur   \n",
       "999996                      Без капли мысли                  Даня Милохин   \n",
       "999998                               Москва                         Yanix   \n",
       "999999                               Вокзал                      Джарахов   \n",
       "\n",
       "        item_id  \n",
       "2             0  \n",
       "4             1  \n",
       "6             2  \n",
       "7             3  \n",
       "8             4  \n",
       "999993   703754  \n",
       "999994   703755  \n",
       "999996   703756  \n",
       "999998   703757  \n",
       "999999   703758  "
      ]
     },
     "execution_count": 97,
     "metadata": {},
     "output_type": "execute_result"
    }
   ],
   "source": [
    "pd.concat([\n",
    "    df_tracks.head(),\n",
    "    df_tracks.tail()\n",
    "])"
   ]
  },
  {
   "cell_type": "code",
   "execution_count": 98,
   "id": "368133cc",
   "metadata": {},
   "outputs": [
    {
     "data": {
      "text/html": [
       "<div>\n",
       "<style scoped>\n",
       "    .dataframe tbody tr th:only-of-type {\n",
       "        vertical-align: middle;\n",
       "    }\n",
       "\n",
       "    .dataframe tbody tr th {\n",
       "        vertical-align: top;\n",
       "    }\n",
       "\n",
       "    .dataframe thead th {\n",
       "        text-align: right;\n",
       "    }\n",
       "</style>\n",
       "<table border=\"1\" class=\"dataframe\">\n",
       "  <thead>\n",
       "    <tr style=\"text-align: right;\">\n",
       "      <th></th>\n",
       "      <th>user_id_origin</th>\n",
       "      <th>item_id_origin</th>\n",
       "      <th>item_seq</th>\n",
       "      <th>started_at</th>\n",
       "      <th>user_id</th>\n",
       "      <th>item_id</th>\n",
       "      <th>ratings</th>\n",
       "    </tr>\n",
       "  </thead>\n",
       "  <tbody>\n",
       "    <tr>\n",
       "      <th>0</th>\n",
       "      <td>0</td>\n",
       "      <td>99262</td>\n",
       "      <td>1</td>\n",
       "      <td>2022-07-17</td>\n",
       "      <td>0</td>\n",
       "      <td>12482</td>\n",
       "      <td>1</td>\n",
       "    </tr>\n",
       "    <tr>\n",
       "      <th>1</th>\n",
       "      <td>0</td>\n",
       "      <td>589498</td>\n",
       "      <td>2</td>\n",
       "      <td>2022-07-19</td>\n",
       "      <td>0</td>\n",
       "      <td>45093</td>\n",
       "      <td>1</td>\n",
       "    </tr>\n",
       "    <tr>\n",
       "      <th>2</th>\n",
       "      <td>0</td>\n",
       "      <td>590262</td>\n",
       "      <td>3</td>\n",
       "      <td>2022-07-21</td>\n",
       "      <td>0</td>\n",
       "      <td>45483</td>\n",
       "      <td>1</td>\n",
       "    </tr>\n",
       "    <tr>\n",
       "      <th>3</th>\n",
       "      <td>0</td>\n",
       "      <td>590303</td>\n",
       "      <td>4</td>\n",
       "      <td>2022-07-22</td>\n",
       "      <td>0</td>\n",
       "      <td>45503</td>\n",
       "      <td>1</td>\n",
       "    </tr>\n",
       "    <tr>\n",
       "      <th>4</th>\n",
       "      <td>0</td>\n",
       "      <td>590692</td>\n",
       "      <td>5</td>\n",
       "      <td>2022-07-22</td>\n",
       "      <td>0</td>\n",
       "      <td>45693</td>\n",
       "      <td>1</td>\n",
       "    </tr>\n",
       "    <tr>\n",
       "      <th>287</th>\n",
       "      <td>1374582</td>\n",
       "      <td>95514767</td>\n",
       "      <td>288</td>\n",
       "      <td>2022-12-29</td>\n",
       "      <td>1189048</td>\n",
       "      <td>695976</td>\n",
       "      <td>1</td>\n",
       "    </tr>\n",
       "    <tr>\n",
       "      <th>288</th>\n",
       "      <td>1374582</td>\n",
       "      <td>97220301</td>\n",
       "      <td>289</td>\n",
       "      <td>2022-12-29</td>\n",
       "      <td>1189048</td>\n",
       "      <td>698975</td>\n",
       "      <td>1</td>\n",
       "    </tr>\n",
       "    <tr>\n",
       "      <th>289</th>\n",
       "      <td>1374582</td>\n",
       "      <td>97241171</td>\n",
       "      <td>290</td>\n",
       "      <td>2022-12-29</td>\n",
       "      <td>1189048</td>\n",
       "      <td>699026</td>\n",
       "      <td>1</td>\n",
       "    </tr>\n",
       "    <tr>\n",
       "      <th>290</th>\n",
       "      <td>1374582</td>\n",
       "      <td>98542641</td>\n",
       "      <td>291</td>\n",
       "      <td>2022-12-29</td>\n",
       "      <td>1189048</td>\n",
       "      <td>700940</td>\n",
       "      <td>1</td>\n",
       "    </tr>\n",
       "    <tr>\n",
       "      <th>291</th>\n",
       "      <td>1374582</td>\n",
       "      <td>100736375</td>\n",
       "      <td>292</td>\n",
       "      <td>2022-12-30</td>\n",
       "      <td>1189048</td>\n",
       "      <td>703430</td>\n",
       "      <td>1</td>\n",
       "    </tr>\n",
       "  </tbody>\n",
       "</table>\n",
       "</div>"
      ],
      "text/plain": [
       "     user_id_origin  item_id_origin  item_seq started_at  user_id  item_id  \\\n",
       "0                 0           99262         1 2022-07-17        0    12482   \n",
       "1                 0          589498         2 2022-07-19        0    45093   \n",
       "2                 0          590262         3 2022-07-21        0    45483   \n",
       "3                 0          590303         4 2022-07-22        0    45503   \n",
       "4                 0          590692         5 2022-07-22        0    45693   \n",
       "287         1374582        95514767       288 2022-12-29  1189048   695976   \n",
       "288         1374582        97220301       289 2022-12-29  1189048   698975   \n",
       "289         1374582        97241171       290 2022-12-29  1189048   699026   \n",
       "290         1374582        98542641       291 2022-12-29  1189048   700940   \n",
       "291         1374582       100736375       292 2022-12-30  1189048   703430   \n",
       "\n",
       "     ratings  \n",
       "0          1  \n",
       "1          1  \n",
       "2          1  \n",
       "3          1  \n",
       "4          1  \n",
       "287        1  \n",
       "288        1  \n",
       "289        1  \n",
       "290        1  \n",
       "291        1  "
      ]
     },
     "execution_count": 98,
     "metadata": {},
     "output_type": "execute_result"
    }
   ],
   "source": [
    "pd.concat([\n",
    "    df_events.head(),\n",
    "    df_events.tail()\n",
    "])"
   ]
  },
  {
   "cell_type": "code",
   "execution_count": 99,
   "id": "945e5de9",
   "metadata": {},
   "outputs": [
    {
     "data": {
      "text/plain": [
       "(703759, 7)"
      ]
     },
     "execution_count": 99,
     "metadata": {},
     "output_type": "execute_result"
    }
   ],
   "source": [
    "df_tracks.shape"
   ]
  },
  {
   "cell_type": "code",
   "execution_count": 100,
   "id": "ff21c7f8",
   "metadata": {},
   "outputs": [
    {
     "data": {
      "text/plain": [
       "0.979454017447378"
      ]
     },
     "execution_count": 100,
     "metadata": {},
     "output_type": "execute_result"
    }
   ],
   "source": [
    "df_events.shape[0] / shape_origin"
   ]
  },
  {
   "cell_type": "markdown",
   "id": "bca6d415",
   "metadata": {},
   "source": [
    "**Вывод:**\n",
    "\n",
    "- Данные преобразованы\n",
    "- Потеря по событиям менее 3%"
   ]
  },
  {
   "cell_type": "markdown",
   "id": "4d1be653-eed8-4fa0-a9c5-3811b080d71d",
   "metadata": {},
   "source": [
    "## Сохранение данных"
   ]
  },
  {
   "cell_type": "markdown",
   "id": "36f1314a-3af3-4faf-a0b1-3045173d1500",
   "metadata": {},
   "source": [
    "Сохраним словари для декодированных идентификаторов"
   ]
  },
  {
   "cell_type": "code",
   "execution_count": 82,
   "id": "933a5f42",
   "metadata": {},
   "outputs": [],
   "source": [
    "df_tracks[[\"item_id_origin\", \"item_id\"]].reset_index(drop=True).to_parquet(\"id_dict_items.parquet\")"
   ]
  },
  {
   "cell_type": "code",
   "execution_count": 83,
   "id": "abcd424a",
   "metadata": {},
   "outputs": [],
   "source": [
    "df_events[[\"user_id_origin\", \"user_id\"]].drop_duplicates().reset_index(drop=True).to_parquet(\"id_dict_users.parquet\")"
   ]
  },
  {
   "cell_type": "markdown",
   "id": "21266a04",
   "metadata": {},
   "source": [
    "Сохраним данные в двух файлах в персональном S3-бакете по пути `recsys/data/`:\n",
    "- `items.parquet` — все данные о музыкальных треках,\n",
    "- `events.parquet` — все данные о взаимодействиях."
   ]
  },
  {
   "cell_type": "code",
   "execution_count": 85,
   "id": "e78c36e4",
   "metadata": {},
   "outputs": [],
   "source": [
    "df_tracks[['item_id', 'albums', 'artists', 'genres', 'track_name', 'artist_names']].to_parquet(\"items.parquet\")"
   ]
  },
  {
   "cell_type": "code",
   "execution_count": 86,
   "id": "cbc6777a",
   "metadata": {},
   "outputs": [],
   "source": [
    "# 1 min !\n",
    "\n",
    "df_events[['user_id', 'item_id', 'item_seq', 'started_at', 'ratings']].to_parquet(\"events.parquet\")"
   ]
  },
  {
   "cell_type": "code",
   "execution_count": 87,
   "id": "9e24ab0f",
   "metadata": {},
   "outputs": [],
   "source": [
    "session = boto3.session.Session()\n",
    "s3 = boto3.client(\n",
    "    service_name = 's3',\n",
    "    endpoint_url='https://storage.yandexcloud.net',\n",
    "    aws_access_key_id=os.getenv(\"AWS_ACCESS_KEY_ID\"),\n",
    "    aws_secret_access_key=os.getenv(\"AWS_SECRET_ACCESS_KEY\"))\n",
    "\n",
    "bucket_name = os.getenv(\"S3_BUCKET_NAME\")"
   ]
  },
  {
   "cell_type": "code",
   "execution_count": 88,
   "id": "6313cf6f",
   "metadata": {},
   "outputs": [],
   "source": [
    "s3.upload_file(\"items.parquet\", bucket_name, \"recsys/data/items.parquet\")"
   ]
  },
  {
   "cell_type": "code",
   "execution_count": 89,
   "id": "f1a779e0",
   "metadata": {},
   "outputs": [],
   "source": [
    "s3.upload_file(\"events.parquet\", bucket_name, \"recsys/data/events.parquet\")"
   ]
  },
  {
   "cell_type": "code",
   "execution_count": 90,
   "id": "433905df",
   "metadata": {},
   "outputs": [],
   "source": [
    "# files = []\n",
    "# sizes = []\n",
    "\n",
    "\n",
    "# if s3.list_objects(Bucket=bucket_name).get('Contents'):\n",
    "#     for key in s3.list_objects(Bucket=bucket_name)['Contents']:\n",
    "#         cur_key = key['Key']\n",
    "#         response = s3.head_object(Bucket = bucket_name, Key = cur_key)\n",
    "#         cur_size = response['ContentLength']\n",
    "#         print(f\"file {cur_key} weights {cur_size} bytes\")\n",
    "#         files.append(cur_key)\n",
    "#         sizes.append(cur_size)\n",
    "\n",
    "# total_weight = sum(sizes)\n",
    "# print(f\"Total weight of all files in bucket = {total_weight}\")"
   ]
  },
  {
   "cell_type": "markdown",
   "id": "72ecbbed-c560-44d9-9c14-86c7dc76f399",
   "metadata": {},
   "source": [
    "## Очистка памяти"
   ]
  },
  {
   "cell_type": "markdown",
   "id": "b5358ede-ba6e-4c4f-bd73-5b9344f0ba79",
   "metadata": {},
   "source": [
    "- Cледует перезапустить kernel\n",
    "- Выполнить раздел \"# Инициализация\" (т.е. все, что до раздела \"# === ЭТАП 1 ===\")"
   ]
  },
  {
   "cell_type": "markdown",
   "id": "bfe3e461",
   "metadata": {},
   "source": [
    "---"
   ]
  },
  {
   "cell_type": "markdown",
   "id": "4d43cfa8",
   "metadata": {},
   "source": [
    "---"
   ]
  },
  {
   "cell_type": "markdown",
   "id": "708503df-ee89-4cf3-8489-093dc478e2a8",
   "metadata": {},
   "source": [
    "# === ЭТАП 3 ==="
   ]
  },
  {
   "cell_type": "markdown",
   "id": "fd77de22-e10f-4b42-85c1-8fb6f805fe68",
   "metadata": {},
   "source": [
    "## Загрузка данных"
   ]
  },
  {
   "cell_type": "markdown",
   "id": "16a82629",
   "metadata": {},
   "source": [
    "Загружаем данные из файлов:\n",
    "- items.parquet\n",
    "- events.parquet\n",
    "- catalog_names.parquet"
   ]
  },
  {
   "cell_type": "code",
   "execution_count": null,
   "id": "30513fcc",
   "metadata": {},
   "outputs": [],
   "source": [
    "df_catalog = pd.read_parquet(\"catalog_names.parquet\")\n",
    "print(\"'catalog_names.parquet' loaded\")"
   ]
  },
  {
   "cell_type": "code",
   "execution_count": null,
   "id": "56f704c1",
   "metadata": {},
   "outputs": [],
   "source": [
    "df_items = pd.read_parquet(\"items.parquet\")\n",
    "print(\"'tracks.parquet' loaded\")"
   ]
  },
  {
   "cell_type": "code",
   "execution_count": 4,
   "id": "00d40fa9",
   "metadata": {},
   "outputs": [
    {
     "name": "stdout",
     "output_type": "stream",
     "text": [
      "'interactions.parquet' loaded\n"
     ]
    }
   ],
   "source": [
    "# 1 min\n",
    "\n",
    "df_events = pd.read_parquet(\"events.parquet\")\n",
    "print(\"'interactions.parquet' loaded\")"
   ]
  },
  {
   "cell_type": "code",
   "execution_count": 7,
   "id": "f19fc8a5-bd2c-40d7-864a-ee75aca6d512",
   "metadata": {},
   "outputs": [
    {
     "data": {
      "text/plain": [
       "(1812471, 3)"
      ]
     },
     "execution_count": 7,
     "metadata": {},
     "output_type": "execute_result"
    }
   ],
   "source": [
    "# (1812471, 3)\n",
    "\n",
    "df_catalog.shape"
   ]
  },
  {
   "cell_type": "code",
   "execution_count": 8,
   "id": "67e737e2",
   "metadata": {},
   "outputs": [
    {
     "data": {
      "text/html": [
       "<div>\n",
       "<style scoped>\n",
       "    .dataframe tbody tr th:only-of-type {\n",
       "        vertical-align: middle;\n",
       "    }\n",
       "\n",
       "    .dataframe tbody tr th {\n",
       "        vertical-align: top;\n",
       "    }\n",
       "\n",
       "    .dataframe thead th {\n",
       "        text-align: right;\n",
       "    }\n",
       "</style>\n",
       "<table border=\"1\" class=\"dataframe\">\n",
       "  <thead>\n",
       "    <tr style=\"text-align: right;\">\n",
       "      <th></th>\n",
       "      <th>id</th>\n",
       "      <th>type</th>\n",
       "      <th>name</th>\n",
       "    </tr>\n",
       "  </thead>\n",
       "  <tbody>\n",
       "    <tr>\n",
       "      <th>0</th>\n",
       "      <td>3</td>\n",
       "      <td>album</td>\n",
       "      <td>Taller Children</td>\n",
       "    </tr>\n",
       "    <tr>\n",
       "      <th>1</th>\n",
       "      <td>12</td>\n",
       "      <td>album</td>\n",
       "      <td>Wild Young Hearts</td>\n",
       "    </tr>\n",
       "    <tr>\n",
       "      <th>2</th>\n",
       "      <td>13</td>\n",
       "      <td>album</td>\n",
       "      <td>Lonesome Crow</td>\n",
       "    </tr>\n",
       "    <tr>\n",
       "      <th>3</th>\n",
       "      <td>17</td>\n",
       "      <td>album</td>\n",
       "      <td>Graffiti Soul</td>\n",
       "    </tr>\n",
       "    <tr>\n",
       "      <th>4</th>\n",
       "      <td>26</td>\n",
       "      <td>album</td>\n",
       "      <td>Blues Six Pack</td>\n",
       "    </tr>\n",
       "  </tbody>\n",
       "</table>\n",
       "</div>"
      ],
      "text/plain": [
       "   id   type               name\n",
       "0   3  album    Taller Children\n",
       "1  12  album  Wild Young Hearts\n",
       "2  13  album      Lonesome Crow\n",
       "3  17  album      Graffiti Soul\n",
       "4  26  album     Blues Six Pack"
      ]
     },
     "execution_count": 8,
     "metadata": {},
     "output_type": "execute_result"
    }
   ],
   "source": [
    "df_catalog.head()"
   ]
  },
  {
   "cell_type": "code",
   "execution_count": 9,
   "id": "a24cd8b1",
   "metadata": {},
   "outputs": [
    {
     "data": {
      "text/plain": [
       "(1000000, 6)"
      ]
     },
     "execution_count": 9,
     "metadata": {},
     "output_type": "execute_result"
    }
   ],
   "source": [
    "# (1000000, 6)\n",
    "\n",
    "df_items.shape"
   ]
  },
  {
   "cell_type": "code",
   "execution_count": 10,
   "id": "658c2d9c",
   "metadata": {},
   "outputs": [
    {
     "data": {
      "text/html": [
       "<div>\n",
       "<style scoped>\n",
       "    .dataframe tbody tr th:only-of-type {\n",
       "        vertical-align: middle;\n",
       "    }\n",
       "\n",
       "    .dataframe tbody tr th {\n",
       "        vertical-align: top;\n",
       "    }\n",
       "\n",
       "    .dataframe thead th {\n",
       "        text-align: right;\n",
       "    }\n",
       "</style>\n",
       "<table border=\"1\" class=\"dataframe\">\n",
       "  <thead>\n",
       "    <tr style=\"text-align: right;\">\n",
       "      <th></th>\n",
       "      <th>item_id</th>\n",
       "      <th>albums</th>\n",
       "      <th>artists</th>\n",
       "      <th>genres</th>\n",
       "      <th>track_name</th>\n",
       "      <th>artist_names</th>\n",
       "    </tr>\n",
       "  </thead>\n",
       "  <tbody>\n",
       "    <tr>\n",
       "      <th>0</th>\n",
       "      <td>0</td>\n",
       "      <td>[3, 2490753]</td>\n",
       "      <td>[16]</td>\n",
       "      <td>[11, 21]</td>\n",
       "      <td>Complimentary Me</td>\n",
       "      <td>Elizabeth &amp; the Catapult</td>\n",
       "    </tr>\n",
       "    <tr>\n",
       "      <th>1</th>\n",
       "      <td>1</td>\n",
       "      <td>[3, 2490753]</td>\n",
       "      <td>[16]</td>\n",
       "      <td>[11, 21]</td>\n",
       "      <td>Momma's Boy</td>\n",
       "      <td>Elizabeth &amp; the Catapult</td>\n",
       "    </tr>\n",
       "    <tr>\n",
       "      <th>2</th>\n",
       "      <td>2</td>\n",
       "      <td>[12, 214, 2490809]</td>\n",
       "      <td>[84]</td>\n",
       "      <td>[11]</td>\n",
       "      <td>Atticus</td>\n",
       "      <td>Noisettes</td>\n",
       "    </tr>\n",
       "    <tr>\n",
       "      <th>3</th>\n",
       "      <td>3</td>\n",
       "      <td>[12, 214, 2490809]</td>\n",
       "      <td>[84]</td>\n",
       "      <td>[11]</td>\n",
       "      <td>24 Hours</td>\n",
       "      <td>Noisettes</td>\n",
       "    </tr>\n",
       "    <tr>\n",
       "      <th>4</th>\n",
       "      <td>4</td>\n",
       "      <td>[12, 214, 322, 72275, 72292, 91199, 213505, 24...</td>\n",
       "      <td>[84]</td>\n",
       "      <td>[11]</td>\n",
       "      <td>Don't Upset The Rhythm (Go Baby Go)</td>\n",
       "      <td>Noisettes</td>\n",
       "    </tr>\n",
       "  </tbody>\n",
       "</table>\n",
       "</div>"
      ],
      "text/plain": [
       "   item_id                                             albums artists  \\\n",
       "0        0                                       [3, 2490753]    [16]   \n",
       "1        1                                       [3, 2490753]    [16]   \n",
       "2        2                                 [12, 214, 2490809]    [84]   \n",
       "3        3                                 [12, 214, 2490809]    [84]   \n",
       "4        4  [12, 214, 322, 72275, 72292, 91199, 213505, 24...    [84]   \n",
       "\n",
       "     genres                           track_name              artist_names  \n",
       "0  [11, 21]                     Complimentary Me  Elizabeth & the Catapult  \n",
       "1  [11, 21]                          Momma's Boy  Elizabeth & the Catapult  \n",
       "2      [11]                              Atticus                 Noisettes  \n",
       "3      [11]                             24 Hours                 Noisettes  \n",
       "4      [11]  Don't Upset The Rhythm (Go Baby Go)                 Noisettes  "
      ]
     },
     "execution_count": 10,
     "metadata": {},
     "output_type": "execute_result"
    }
   ],
   "source": [
    "df_items.head()"
   ]
  },
  {
   "cell_type": "code",
   "execution_count": 11,
   "id": "e63788e0",
   "metadata": {},
   "outputs": [
    {
     "data": {
      "text/plain": [
       "(222531295, 5)"
      ]
     },
     "execution_count": 11,
     "metadata": {},
     "output_type": "execute_result"
    }
   ],
   "source": [
    "# (222531295, 5)\n",
    "\n",
    "df_events.shape"
   ]
  },
  {
   "cell_type": "code",
   "execution_count": 12,
   "id": "5db1e801-5845-4ce3-86f2-c2fa30f68cc5",
   "metadata": {},
   "outputs": [
    {
     "data": {
      "text/html": [
       "<div>\n",
       "<style scoped>\n",
       "    .dataframe tbody tr th:only-of-type {\n",
       "        vertical-align: middle;\n",
       "    }\n",
       "\n",
       "    .dataframe tbody tr th {\n",
       "        vertical-align: top;\n",
       "    }\n",
       "\n",
       "    .dataframe thead th {\n",
       "        text-align: right;\n",
       "    }\n",
       "</style>\n",
       "<table border=\"1\" class=\"dataframe\">\n",
       "  <thead>\n",
       "    <tr style=\"text-align: right;\">\n",
       "      <th></th>\n",
       "      <th>user_id</th>\n",
       "      <th>item_id</th>\n",
       "      <th>item_seq</th>\n",
       "      <th>started_at</th>\n",
       "      <th>ratings</th>\n",
       "    </tr>\n",
       "  </thead>\n",
       "  <tbody>\n",
       "    <tr>\n",
       "      <th>0</th>\n",
       "      <td>0</td>\n",
       "      <td>16078</td>\n",
       "      <td>1</td>\n",
       "      <td>2022-07-17</td>\n",
       "      <td>1</td>\n",
       "    </tr>\n",
       "    <tr>\n",
       "      <th>1</th>\n",
       "      <td>0</td>\n",
       "      <td>60661</td>\n",
       "      <td>2</td>\n",
       "      <td>2022-07-19</td>\n",
       "      <td>1</td>\n",
       "    </tr>\n",
       "    <tr>\n",
       "      <th>2</th>\n",
       "      <td>0</td>\n",
       "      <td>61135</td>\n",
       "      <td>3</td>\n",
       "      <td>2022-07-21</td>\n",
       "      <td>1</td>\n",
       "    </tr>\n",
       "    <tr>\n",
       "      <th>3</th>\n",
       "      <td>0</td>\n",
       "      <td>61158</td>\n",
       "      <td>4</td>\n",
       "      <td>2022-07-22</td>\n",
       "      <td>1</td>\n",
       "    </tr>\n",
       "    <tr>\n",
       "      <th>4</th>\n",
       "      <td>0</td>\n",
       "      <td>61386</td>\n",
       "      <td>5</td>\n",
       "      <td>2022-07-22</td>\n",
       "      <td>1</td>\n",
       "    </tr>\n",
       "  </tbody>\n",
       "</table>\n",
       "</div>"
      ],
      "text/plain": [
       "   user_id  item_id  item_seq started_at  ratings\n",
       "0        0    16078         1 2022-07-17        1\n",
       "1        0    60661         2 2022-07-19        1\n",
       "2        0    61135         3 2022-07-21        1\n",
       "3        0    61158         4 2022-07-22        1\n",
       "4        0    61386         5 2022-07-22        1"
      ]
     },
     "execution_count": 12,
     "metadata": {},
     "output_type": "execute_result"
    }
   ],
   "source": [
    "df_events.head()"
   ]
  },
  {
   "cell_type": "markdown",
   "id": "a694c023-6477-490b-939d-1cfa6f5f1b72",
   "metadata": {},
   "source": [
    "## Разбиение данных"
   ]
  },
  {
   "cell_type": "markdown",
   "id": "fbd5f6e0-54e7-4428-8678-eabce505d82c",
   "metadata": {},
   "source": [
    "Разбиваем данные на тренировочную, тестовую выборки.\n",
    "\n",
    "В тренировочную отнесем все данные до 16 декабря 2022 года (не включительно)."
   ]
  },
  {
   "cell_type": "code",
   "execution_count": 5,
   "id": "3665aec3",
   "metadata": {},
   "outputs": [],
   "source": [
    "SPLIT_POINT_DATE = '2022-12-16'"
   ]
  },
  {
   "cell_type": "code",
   "execution_count": 6,
   "id": "00c2dfa5-d8a2-47d1-922e-6eefee2c62d1",
   "metadata": {},
   "outputs": [],
   "source": [
    "df_events_train = df_events[df_events[\"started_at\"] < SPLIT_POINT_DATE]\n",
    "df_events_test = df_events[df_events[\"started_at\"] >= SPLIT_POINT_DATE]"
   ]
  },
  {
   "cell_type": "code",
   "execution_count": 7,
   "id": "1eaa5ef9",
   "metadata": {},
   "outputs": [
    {
     "data": {
      "text/plain": [
       "0"
      ]
     },
     "execution_count": 7,
     "metadata": {},
     "output_type": "execute_result"
    }
   ],
   "source": [
    "del df_events\n",
    "gc.collect()"
   ]
  },
  {
   "cell_type": "code",
   "execution_count": 11,
   "id": "4bf2de96",
   "metadata": {},
   "outputs": [
    {
     "data": {
      "text/plain": [
       "((208648584, 5), (13882711, 5))"
      ]
     },
     "execution_count": 11,
     "metadata": {},
     "output_type": "execute_result"
    }
   ],
   "source": [
    "# Размеры выборок\n",
    "# ((208 648 584, 5), (13 882 711, 5))\n",
    "\n",
    "df_events_train.shape, df_events_test.shape"
   ]
  },
  {
   "cell_type": "code",
   "execution_count": 12,
   "id": "8c580d4c",
   "metadata": {},
   "outputs": [
    {
     "data": {
      "text/plain": [
       "(1329662, 776356)"
      ]
     },
     "execution_count": 12,
     "metadata": {},
     "output_type": "execute_result"
    }
   ],
   "source": [
    "# Кол-во клиентов в каждой выборке\n",
    "# (1 329 662, 776 356)\n",
    "\n",
    "df_events_train[\"user_id\"].nunique(), df_events_test[\"user_id\"].nunique()"
   ]
  },
  {
   "cell_type": "code",
   "execution_count": 13,
   "id": "4be7144a",
   "metadata": {},
   "outputs": [
    {
     "data": {
      "text/plain": [
       "(746306,)"
      ]
     },
     "execution_count": 13,
     "metadata": {},
     "output_type": "execute_result"
    }
   ],
   "source": [
    "# Клиенты в трейне и тесте\n",
    "# (746306,)\n",
    "\n",
    "common_users = np.intersect1d(df_events_train[\"user_id\"].unique(), df_events_test[\"user_id\"].unique())\n",
    "common_users.shape"
   ]
  },
  {
   "cell_type": "code",
   "execution_count": 14,
   "id": "26fe3e3c-8c5f-4437-bf13-9191adef08bb",
   "metadata": {},
   "outputs": [
    {
     "data": {
      "text/plain": [
       "(30050,)"
      ]
     },
     "execution_count": 14,
     "metadata": {},
     "output_type": "execute_result"
    }
   ],
   "source": [
    "# \"Холодные\" пользователи\n",
    "# (30050,)\n",
    "\n",
    "cold_users = np.setdiff1d(df_events_test[\"user_id\"].unique(), df_events_train[\"user_id\"].unique())\n",
    "cold_users.shape"
   ]
  },
  {
   "cell_type": "markdown",
   "id": "124f7cc8",
   "metadata": {},
   "source": [
    "---"
   ]
  },
  {
   "cell_type": "markdown",
   "id": "9131c7e6-8852-4556-b510-51f7253cc299",
   "metadata": {},
   "source": [
    "## Топ популярных"
   ]
  },
  {
   "cell_type": "markdown",
   "id": "dd70d43a-88cc-4719-b291-feaed7136f30",
   "metadata": {},
   "source": [
    "Рассчитаем рекомендации как топ популярных.\n",
    "\n",
    "Для выбора наиболее популярных примем актуальный период в 100 дней\n",
    "\n",
    "Отберем топ-100 наиболее популярных треков"
   ]
  },
  {
   "cell_type": "code",
   "execution_count": 20,
   "id": "6a84d02c",
   "metadata": {},
   "outputs": [],
   "source": [
    "ACTUAL_N_DAYS = 100"
   ]
  },
  {
   "cell_type": "code",
   "execution_count": 21,
   "id": "ee45e200-b7d6-4f56-9077-aad431689b96",
   "metadata": {},
   "outputs": [],
   "source": [
    "# 30 sec\n",
    "\n",
    "actual_start_date = df_events_train[\"started_at\"].max() - pd.DateOffset(days=ACTUAL_N_DAYS)\n",
    "\n",
    "df_items_popular = (\n",
    "    df_events_train\n",
    "    .loc[df_events_train[\"started_at\"] >= actual_start_date, [\"user_id\", \"item_id\"]]\n",
    "    .groupby(\"item_id\", as_index=False).agg(score=(\"user_id\", \"nunique\"))\n",
    "    .sort_values(\"score\", ascending=False)\n",
    "    .head(100)\n",
    "    .reset_index(drop=True)\n",
    ")\n",
    "df_items_popular[\"score\"] /= df_items_popular[\"score\"].max()"
   ]
  },
  {
   "cell_type": "code",
   "execution_count": 22,
   "id": "64757ee0",
   "metadata": {},
   "outputs": [
    {
     "data": {
      "text/html": [
       "<div>\n",
       "<style scoped>\n",
       "    .dataframe tbody tr th:only-of-type {\n",
       "        vertical-align: middle;\n",
       "    }\n",
       "\n",
       "    .dataframe tbody tr th {\n",
       "        vertical-align: top;\n",
       "    }\n",
       "\n",
       "    .dataframe thead th {\n",
       "        text-align: right;\n",
       "    }\n",
       "</style>\n",
       "<table border=\"1\" class=\"dataframe\">\n",
       "  <thead>\n",
       "    <tr style=\"text-align: right;\">\n",
       "      <th></th>\n",
       "      <th>item_id</th>\n",
       "      <th>score</th>\n",
       "    </tr>\n",
       "  </thead>\n",
       "  <tbody>\n",
       "    <tr>\n",
       "      <th>0</th>\n",
       "      <td>779281</td>\n",
       "      <td>1.000000</td>\n",
       "    </tr>\n",
       "    <tr>\n",
       "      <th>1</th>\n",
       "      <td>829320</td>\n",
       "      <td>0.996666</td>\n",
       "    </tr>\n",
       "    <tr>\n",
       "      <th>2</th>\n",
       "      <td>483876</td>\n",
       "      <td>0.924520</td>\n",
       "    </tr>\n",
       "    <tr>\n",
       "      <th>3</th>\n",
       "      <td>696106</td>\n",
       "      <td>0.897710</td>\n",
       "    </tr>\n",
       "    <tr>\n",
       "      <th>4</th>\n",
       "      <td>699153</td>\n",
       "      <td>0.866444</td>\n",
       "    </tr>\n",
       "  </tbody>\n",
       "</table>\n",
       "</div>"
      ],
      "text/plain": [
       "   item_id     score\n",
       "0   779281  1.000000\n",
       "1   829320  0.996666\n",
       "2   483876  0.924520\n",
       "3   696106  0.897710\n",
       "4   699153  0.866444"
      ]
     },
     "execution_count": 22,
     "metadata": {},
     "output_type": "execute_result"
    }
   ],
   "source": [
    "df_items_popular.head()"
   ]
  },
  {
   "cell_type": "code",
   "execution_count": 23,
   "id": "9e3a3657",
   "metadata": {},
   "outputs": [
    {
     "data": {
      "text/html": [
       "<div>\n",
       "<style scoped>\n",
       "    .dataframe tbody tr th:only-of-type {\n",
       "        vertical-align: middle;\n",
       "    }\n",
       "\n",
       "    .dataframe tbody tr th {\n",
       "        vertical-align: top;\n",
       "    }\n",
       "\n",
       "    .dataframe thead th {\n",
       "        text-align: right;\n",
       "    }\n",
       "</style>\n",
       "<table border=\"1\" class=\"dataframe\">\n",
       "  <thead>\n",
       "    <tr style=\"text-align: right;\">\n",
       "      <th></th>\n",
       "      <th>item_id</th>\n",
       "      <th>score</th>\n",
       "      <th>track_name</th>\n",
       "      <th>artist_names</th>\n",
       "    </tr>\n",
       "  </thead>\n",
       "  <tbody>\n",
       "    <tr>\n",
       "      <th>0</th>\n",
       "      <td>779281</td>\n",
       "      <td>1.000000</td>\n",
       "      <td>Blinding Lights</td>\n",
       "      <td>The Weeknd</td>\n",
       "    </tr>\n",
       "    <tr>\n",
       "      <th>1</th>\n",
       "      <td>829320</td>\n",
       "      <td>0.996666</td>\n",
       "      <td>Юность</td>\n",
       "      <td>Dabro</td>\n",
       "    </tr>\n",
       "    <tr>\n",
       "      <th>2</th>\n",
       "      <td>483876</td>\n",
       "      <td>0.924520</td>\n",
       "      <td>Believer</td>\n",
       "      <td>Imagine Dragons</td>\n",
       "    </tr>\n",
       "    <tr>\n",
       "      <th>3</th>\n",
       "      <td>696106</td>\n",
       "      <td>0.897710</td>\n",
       "      <td>In The End</td>\n",
       "      <td>Tommee Profitt; Fleurie; Mellen Gi</td>\n",
       "    </tr>\n",
       "    <tr>\n",
       "      <th>4</th>\n",
       "      <td>699153</td>\n",
       "      <td>0.866444</td>\n",
       "      <td>bad guy</td>\n",
       "      <td>Billie Eilish</td>\n",
       "    </tr>\n",
       "    <tr>\n",
       "      <th>5</th>\n",
       "      <td>647237</td>\n",
       "      <td>0.829055</td>\n",
       "      <td>Life</td>\n",
       "      <td>Zivert</td>\n",
       "    </tr>\n",
       "    <tr>\n",
       "      <th>6</th>\n",
       "      <td>744014</td>\n",
       "      <td>0.824564</td>\n",
       "      <td>Dance Monkey</td>\n",
       "      <td>Tones And I</td>\n",
       "    </tr>\n",
       "    <tr>\n",
       "      <th>7</th>\n",
       "      <td>917171</td>\n",
       "      <td>0.803316</td>\n",
       "      <td>Rampampam</td>\n",
       "      <td>Minelli</td>\n",
       "    </tr>\n",
       "    <tr>\n",
       "      <th>8</th>\n",
       "      <td>940964</td>\n",
       "      <td>0.795965</td>\n",
       "      <td>Птичка</td>\n",
       "      <td>HammAli &amp; Navai</td>\n",
       "    </tr>\n",
       "    <tr>\n",
       "      <th>9</th>\n",
       "      <td>757669</td>\n",
       "      <td>0.795772</td>\n",
       "      <td>Комета</td>\n",
       "      <td>JONY</td>\n",
       "    </tr>\n",
       "    <tr>\n",
       "      <th>10</th>\n",
       "      <td>690843</td>\n",
       "      <td>0.785508</td>\n",
       "      <td>Кукла колдуна</td>\n",
       "      <td>Король и Шут</td>\n",
       "    </tr>\n",
       "    <tr>\n",
       "      <th>11</th>\n",
       "      <td>731961</td>\n",
       "      <td>0.779981</td>\n",
       "      <td>Прятки</td>\n",
       "      <td>HammAli &amp; Navai</td>\n",
       "    </tr>\n",
       "    <tr>\n",
       "      <th>12</th>\n",
       "      <td>935913</td>\n",
       "      <td>0.774366</td>\n",
       "      <td>Федерико Феллини</td>\n",
       "      <td>Galibri &amp; Mavik</td>\n",
       "    </tr>\n",
       "    <tr>\n",
       "      <th>13</th>\n",
       "      <td>906004</td>\n",
       "      <td>0.762874</td>\n",
       "      <td>Горький вкус</td>\n",
       "      <td>Султан Лагучев</td>\n",
       "    </tr>\n",
       "    <tr>\n",
       "      <th>14</th>\n",
       "      <td>668078</td>\n",
       "      <td>0.751698</td>\n",
       "      <td>Cradles</td>\n",
       "      <td>Sub Urban</td>\n",
       "    </tr>\n",
       "    <tr>\n",
       "      <th>15</th>\n",
       "      <td>571352</td>\n",
       "      <td>0.751364</td>\n",
       "      <td>In My Mind</td>\n",
       "      <td>Dynoro; Gigi D'Agostino</td>\n",
       "    </tr>\n",
       "    <tr>\n",
       "      <th>16</th>\n",
       "      <td>475289</td>\n",
       "      <td>0.748294</td>\n",
       "      <td>Shape of You</td>\n",
       "      <td>Ed Sheeran</td>\n",
       "    </tr>\n",
       "    <tr>\n",
       "      <th>17</th>\n",
       "      <td>512157</td>\n",
       "      <td>0.738609</td>\n",
       "      <td>I Got Love</td>\n",
       "      <td>Miyagi &amp; Эндшпиль; Рем Дигга</td>\n",
       "    </tr>\n",
       "    <tr>\n",
       "      <th>18</th>\n",
       "      <td>682662</td>\n",
       "      <td>0.736766</td>\n",
       "      <td>Грустный дэнс</td>\n",
       "      <td>Artik &amp; Asti; Артём Качер</td>\n",
       "    </tr>\n",
       "    <tr>\n",
       "      <th>19</th>\n",
       "      <td>904055</td>\n",
       "      <td>0.711676</td>\n",
       "      <td>Astronaut In The Ocean</td>\n",
       "      <td>Masked Wolf</td>\n",
       "    </tr>\n",
       "  </tbody>\n",
       "</table>\n",
       "</div>"
      ],
      "text/plain": [
       "    item_id     score              track_name  \\\n",
       "0    779281  1.000000         Blinding Lights   \n",
       "1    829320  0.996666                  Юность   \n",
       "2    483876  0.924520                Believer   \n",
       "3    696106  0.897710              In The End   \n",
       "4    699153  0.866444                 bad guy   \n",
       "5    647237  0.829055                    Life   \n",
       "6    744014  0.824564            Dance Monkey   \n",
       "7    917171  0.803316               Rampampam   \n",
       "8    940964  0.795965                  Птичка   \n",
       "9    757669  0.795772                  Комета   \n",
       "10   690843  0.785508           Кукла колдуна   \n",
       "11   731961  0.779981                  Прятки   \n",
       "12   935913  0.774366        Федерико Феллини   \n",
       "13   906004  0.762874            Горький вкус   \n",
       "14   668078  0.751698                 Cradles   \n",
       "15   571352  0.751364              In My Mind   \n",
       "16   475289  0.748294            Shape of You   \n",
       "17   512157  0.738609              I Got Love   \n",
       "18   682662  0.736766           Грустный дэнс   \n",
       "19   904055  0.711676  Astronaut In The Ocean   \n",
       "\n",
       "                          artist_names  \n",
       "0                           The Weeknd  \n",
       "1                                Dabro  \n",
       "2                      Imagine Dragons  \n",
       "3   Tommee Profitt; Fleurie; Mellen Gi  \n",
       "4                        Billie Eilish  \n",
       "5                               Zivert  \n",
       "6                          Tones And I  \n",
       "7                              Minelli  \n",
       "8                      HammAli & Navai  \n",
       "9                                 JONY  \n",
       "10                        Король и Шут  \n",
       "11                     HammAli & Navai  \n",
       "12                     Galibri & Mavik  \n",
       "13                      Султан Лагучев  \n",
       "14                           Sub Urban  \n",
       "15             Dynoro; Gigi D'Agostino  \n",
       "16                          Ed Sheeran  \n",
       "17        Miyagi & Эндшпиль; Рем Дигга  \n",
       "18           Artik & Asti; Артём Качер  \n",
       "19                         Masked Wolf  "
      ]
     },
     "execution_count": 23,
     "metadata": {},
     "output_type": "execute_result"
    }
   ],
   "source": [
    "# Рассмотрим наименованяи топ-20 треков\n",
    "\n",
    "df_items_popular.merge(\n",
    "    df_items[[\"item_id\", \"track_name\", \"artist_names\"]]\n",
    ").head(20)"
   ]
  },
  {
   "cell_type": "markdown",
   "id": "865bcde0",
   "metadata": {},
   "source": [
    "### Сохранение"
   ]
  },
  {
   "cell_type": "code",
   "execution_count": 24,
   "id": "a603086b",
   "metadata": {},
   "outputs": [],
   "source": [
    "df_items_popular.to_parquet(\"top_popular.parquet\")"
   ]
  },
  {
   "cell_type": "markdown",
   "id": "be4ba2af",
   "metadata": {},
   "source": [
    "---"
   ]
  },
  {
   "cell_type": "markdown",
   "id": "2ad231f2-6158-421a-b7fa-01d8bc3ed572",
   "metadata": {},
   "source": [
    "## Персональные"
   ]
  },
  {
   "cell_type": "markdown",
   "id": "86159460-cd9d-4b63-8248-604ea3c9aebf",
   "metadata": {},
   "source": [
    "Рассчитаем персональные рекомендации."
   ]
  },
  {
   "cell_type": "markdown",
   "id": "7c8d8b10",
   "metadata": {},
   "source": [
    "Ядро на ВМ постоянно умирает, поэтому этот раздел прогоняем отдельно"
   ]
  },
  {
   "cell_type": "markdown",
   "id": "5035c9a5",
   "metadata": {},
   "source": [
    "### Матрица взаимодействий"
   ]
  },
  {
   "cell_type": "code",
   "execution_count": 8,
   "id": "655c324b",
   "metadata": {},
   "outputs": [],
   "source": [
    "# создаём sparse-матрицу формата CSR\n",
    "\n",
    "user_item_matrix_train = scipy.sparse.csr_matrix(\n",
    "    (\n",
    "        df_events_train[\"ratings\"],\n",
    "        (df_events_train['user_id'], df_events_train['item_id'])\n",
    "    ),\n",
    "    dtype=np.int8\n",
    ") "
   ]
  },
  {
   "cell_type": "code",
   "execution_count": 9,
   "id": "0f604685",
   "metadata": {},
   "outputs": [
    {
     "data": {
      "text/plain": [
       "<Compressed Sparse Row sparse matrix of dtype 'int8'\n",
       "\twith 208648584 stored elements and shape (1359712, 1000000)>"
      ]
     },
     "execution_count": 9,
     "metadata": {},
     "output_type": "execute_result"
    }
   ],
   "source": [
    "# <Compressed Sparse Row sparse matrix of dtype 'int8'\n",
    "# \twith 208648584 stored elements and shape (1359712, 1000000)>\n",
    "\n",
    "user_item_matrix_train"
   ]
  },
  {
   "cell_type": "markdown",
   "id": "098986f7",
   "metadata": {},
   "source": [
    "### Обучение модели"
   ]
  },
  {
   "cell_type": "code",
   "execution_count": 10,
   "id": "519e49cf",
   "metadata": {},
   "outputs": [
    {
     "name": "stderr",
     "output_type": "stream",
     "text": [
      "/home/mle-user/mle_projects_final/mle-project-sprint-4-v001/.env_recsys_start/lib/python3.10/site-packages/implicit/cpu/als.py:95: RuntimeWarning: OpenBLAS is configured to use 4 threads. It is highly recommended to disable its internal threadpool by setting the environment variable 'OPENBLAS_NUM_THREADS=1' or by calling 'threadpoolctl.threadpool_limits(1, \"blas\")'. Having OpenBLAS use a threadpool can lead to severe performance issues here.\n",
      "  check_blas_config()\n",
      "100%|██████████| 15/15 [14:33<00:00, 58.25s/it]\n"
     ]
    }
   ],
   "source": [
    "# Создадим и обучим модель\n",
    "# iterations=10 -> 10 min\n",
    "# iterations=15 -> 15 min\n",
    "\n",
    "als_model = AlternatingLeastSquares(factors=50, iterations=15, regularization=0.05, random_state=0)\n",
    "\n",
    "als_model.fit(user_item_matrix_train) "
   ]
  },
  {
   "cell_type": "code",
   "execution_count": 11,
   "id": "ebbbf03e",
   "metadata": {},
   "outputs": [],
   "source": [
    "def get_recommendations_als(ui_matrix, model, user_ids, include_seen=True, n=5):\n",
    "    \"\"\"\n",
    "    Возвращает отранжированные рекомендации для заданного пользователя\n",
    "    \"\"\"\n",
    "    recommendations = model.recommend(\n",
    "         user_ids, \n",
    "         ui_matrix[user_ids], \n",
    "         filter_already_liked_items=not include_seen,\n",
    "         N=n,\n",
    "    )\n",
    "    recommendations = pd.DataFrame({\"item_id\": recommendations[0], \"score\": recommendations[1]})\n",
    "    \n",
    "    return recommendations "
   ]
  },
  {
   "cell_type": "code",
   "execution_count": null,
   "id": "59546aad",
   "metadata": {},
   "outputs": [
    {
     "name": "stdout",
     "output_type": "stream",
     "text": [
      "user_id: 991877\n"
     ]
    }
   ],
   "source": [
    "# выберем произвольного пользователя из тренировочной выборки (\"прошлого\")\n",
    "user_id_temp = df_events_train['user_id'].sample(n=1, random_state=12345).iat[0]\n",
    "\n",
    "print(f\"user_id: {user_id_temp}\")"
   ]
  },
  {
   "cell_type": "code",
   "execution_count": null,
   "id": "bf8e3dba",
   "metadata": {},
   "outputs": [],
   "source": [
    "user_history = (\n",
    "    df_events_train.loc[df_events_train[\"user_id\"]==user_id_temp, [\"item_id\", \"item_seq\"]]\n",
    "    .sort_values(\"item_seq\", ascending=False)\n",
    "    .head(10)\n",
    "    .merge(df_items[[\"item_id\", \"track_name\", \"artist_names\"]], on=\"item_id\")\n",
    ")"
   ]
  },
  {
   "cell_type": "code",
   "execution_count": null,
   "id": "d2944822-569c-4f9b-82dc-70a7fa2d542e",
   "metadata": {},
   "outputs": [
    {
     "data": {
      "text/html": [
       "<div>\n",
       "<style scoped>\n",
       "    .dataframe tbody tr th:only-of-type {\n",
       "        vertical-align: middle;\n",
       "    }\n",
       "\n",
       "    .dataframe tbody tr th {\n",
       "        vertical-align: top;\n",
       "    }\n",
       "\n",
       "    .dataframe thead th {\n",
       "        text-align: right;\n",
       "    }\n",
       "</style>\n",
       "<table border=\"1\" class=\"dataframe\">\n",
       "  <thead>\n",
       "    <tr style=\"text-align: right;\">\n",
       "      <th></th>\n",
       "      <th>item_id</th>\n",
       "      <th>score</th>\n",
       "      <th>track_name</th>\n",
       "      <th>artist_names</th>\n",
       "    </tr>\n",
       "  </thead>\n",
       "  <tbody>\n",
       "    <tr>\n",
       "      <th>0</th>\n",
       "      <td>79121</td>\n",
       "      <td>0.522508</td>\n",
       "      <td>Highway to Hell</td>\n",
       "      <td>AC/DC</td>\n",
       "    </tr>\n",
       "    <tr>\n",
       "      <th>1</th>\n",
       "      <td>9098</td>\n",
       "      <td>0.429456</td>\n",
       "      <td>Smells Like Teen Spirit</td>\n",
       "      <td>Nirvana</td>\n",
       "    </tr>\n",
       "    <tr>\n",
       "      <th>2</th>\n",
       "      <td>26665</td>\n",
       "      <td>0.405905</td>\n",
       "      <td>Numb</td>\n",
       "      <td>Linkin Park</td>\n",
       "    </tr>\n",
       "    <tr>\n",
       "      <th>3</th>\n",
       "      <td>69303</td>\n",
       "      <td>0.386740</td>\n",
       "      <td>Back in Black</td>\n",
       "      <td>AC/DC</td>\n",
       "    </tr>\n",
       "    <tr>\n",
       "      <th>4</th>\n",
       "      <td>8553</td>\n",
       "      <td>0.381243</td>\n",
       "      <td>It's My Life</td>\n",
       "      <td>Bon Jovi</td>\n",
       "    </tr>\n",
       "    <tr>\n",
       "      <th>5</th>\n",
       "      <td>77023</td>\n",
       "      <td>0.379450</td>\n",
       "      <td>Thunderstruck</td>\n",
       "      <td>AC/DC</td>\n",
       "    </tr>\n",
       "    <tr>\n",
       "      <th>6</th>\n",
       "      <td>23706</td>\n",
       "      <td>0.371499</td>\n",
       "      <td>Californication</td>\n",
       "      <td>Red Hot Chili Peppers</td>\n",
       "    </tr>\n",
       "    <tr>\n",
       "      <th>7</th>\n",
       "      <td>197265</td>\n",
       "      <td>0.369458</td>\n",
       "      <td>Seven Nation Army</td>\n",
       "      <td>The White Stripes</td>\n",
       "    </tr>\n",
       "    <tr>\n",
       "      <th>8</th>\n",
       "      <td>293729</td>\n",
       "      <td>0.362905</td>\n",
       "      <td>Come And Get Your Love</td>\n",
       "      <td>Redbone</td>\n",
       "    </tr>\n",
       "    <tr>\n",
       "      <th>9</th>\n",
       "      <td>599686</td>\n",
       "      <td>0.337753</td>\n",
       "      <td>Bad to the Bone</td>\n",
       "      <td>George Thorogood</td>\n",
       "    </tr>\n",
       "  </tbody>\n",
       "</table>\n",
       "</div>"
      ],
      "text/plain": [
       "   item_id     score               track_name           artist_names\n",
       "0    79121  0.522508          Highway to Hell                  AC/DC\n",
       "1     9098  0.429456  Smells Like Teen Spirit                Nirvana\n",
       "2    26665  0.405905                     Numb            Linkin Park\n",
       "3    69303  0.386740            Back in Black                  AC/DC\n",
       "4     8553  0.381243             It's My Life               Bon Jovi\n",
       "5    77023  0.379450            Thunderstruck                  AC/DC\n",
       "6    23706  0.371499          Californication  Red Hot Chili Peppers\n",
       "7   197265  0.369458        Seven Nation Army      The White Stripes\n",
       "8   293729  0.362905   Come And Get Your Love                Redbone\n",
       "9   599686  0.337753          Bad to the Bone       George Thorogood"
      ]
     },
     "execution_count": 31,
     "metadata": {},
     "output_type": "execute_result"
    }
   ],
   "source": [
    "# Пример рекомендаций\n",
    "\n",
    "get_recommendations_als(\n",
    "    user_item_matrix_train,\n",
    "    als_model,\n",
    "    user_id_temp,\n",
    "    include_seen=True,\n",
    "    n=10\n",
    ").merge(df_items[[\"item_id\", \"track_name\", \"artist_names\"]], on=\"item_id\")"
   ]
  },
  {
   "cell_type": "code",
   "execution_count": null,
   "id": "f908d86a",
   "metadata": {},
   "outputs": [
    {
     "data": {
      "text/html": [
       "<div>\n",
       "<style scoped>\n",
       "    .dataframe tbody tr th:only-of-type {\n",
       "        vertical-align: middle;\n",
       "    }\n",
       "\n",
       "    .dataframe tbody tr th {\n",
       "        vertical-align: top;\n",
       "    }\n",
       "\n",
       "    .dataframe thead th {\n",
       "        text-align: right;\n",
       "    }\n",
       "</style>\n",
       "<table border=\"1\" class=\"dataframe\">\n",
       "  <thead>\n",
       "    <tr style=\"text-align: right;\">\n",
       "      <th></th>\n",
       "      <th>item_id</th>\n",
       "      <th>item_seq</th>\n",
       "      <th>track_name</th>\n",
       "      <th>artist_names</th>\n",
       "    </tr>\n",
       "  </thead>\n",
       "  <tbody>\n",
       "    <tr>\n",
       "      <th>0</th>\n",
       "      <td>919608</td>\n",
       "      <td>201</td>\n",
       "      <td>Wonderful Tonight</td>\n",
       "      <td>Boyce Avenue</td>\n",
       "    </tr>\n",
       "    <tr>\n",
       "      <th>1</th>\n",
       "      <td>842384</td>\n",
       "      <td>200</td>\n",
       "      <td>We'll Meet Again</td>\n",
       "      <td>TheFatRat; Laura Brehm</td>\n",
       "    </tr>\n",
       "    <tr>\n",
       "      <th>2</th>\n",
       "      <td>829428</td>\n",
       "      <td>199</td>\n",
       "      <td>Maniac</td>\n",
       "      <td>Carpenter Brut; Yann Ligner</td>\n",
       "    </tr>\n",
       "    <tr>\n",
       "      <th>3</th>\n",
       "      <td>824712</td>\n",
       "      <td>198</td>\n",
       "      <td>Blinding Lights</td>\n",
       "      <td>Fame on Fire</td>\n",
       "    </tr>\n",
       "    <tr>\n",
       "      <th>4</th>\n",
       "      <td>823919</td>\n",
       "      <td>197</td>\n",
       "      <td>Summertime Sadness</td>\n",
       "      <td>Within Temptation</td>\n",
       "    </tr>\n",
       "    <tr>\n",
       "      <th>5</th>\n",
       "      <td>823248</td>\n",
       "      <td>196</td>\n",
       "      <td>Кометы</td>\n",
       "      <td>polnalyubvi</td>\n",
       "    </tr>\n",
       "    <tr>\n",
       "      <th>6</th>\n",
       "      <td>815902</td>\n",
       "      <td>195</td>\n",
       "      <td>Quarantine</td>\n",
       "      <td>Tim Montana; Mat Best</td>\n",
       "    </tr>\n",
       "    <tr>\n",
       "      <th>7</th>\n",
       "      <td>813358</td>\n",
       "      <td>194</td>\n",
       "      <td>Melodie</td>\n",
       "      <td>Florian Christl; The Modern String Quintet</td>\n",
       "    </tr>\n",
       "    <tr>\n",
       "      <th>8</th>\n",
       "      <td>809367</td>\n",
       "      <td>193</td>\n",
       "      <td>Everything They S4Y</td>\n",
       "      <td>Smash Into Pieces</td>\n",
       "    </tr>\n",
       "    <tr>\n",
       "      <th>9</th>\n",
       "      <td>805145</td>\n",
       "      <td>192</td>\n",
       "      <td>Main Theme</td>\n",
       "      <td>Gareth Coker</td>\n",
       "    </tr>\n",
       "  </tbody>\n",
       "</table>\n",
       "</div>"
      ],
      "text/plain": [
       "   item_id  item_seq           track_name  \\\n",
       "0   919608       201    Wonderful Tonight   \n",
       "1   842384       200     We'll Meet Again   \n",
       "2   829428       199               Maniac   \n",
       "3   824712       198      Blinding Lights   \n",
       "4   823919       197   Summertime Sadness   \n",
       "5   823248       196               Кометы   \n",
       "6   815902       195           Quarantine   \n",
       "7   813358       194              Melodie   \n",
       "8   809367       193  Everything They S4Y   \n",
       "9   805145       192           Main Theme   \n",
       "\n",
       "                                 artist_names  \n",
       "0                                Boyce Avenue  \n",
       "1                      TheFatRat; Laura Brehm  \n",
       "2                 Carpenter Brut; Yann Ligner  \n",
       "3                                Fame on Fire  \n",
       "4                           Within Temptation  \n",
       "5                                 polnalyubvi  \n",
       "6                       Tim Montana; Mat Best  \n",
       "7  Florian Christl; The Modern String Quintet  \n",
       "8                           Smash Into Pieces  \n",
       "9                                Gareth Coker  "
      ]
     },
     "execution_count": 32,
     "metadata": {},
     "output_type": "execute_result"
    }
   ],
   "source": [
    "# Последние треки из истории пользователя:\n",
    "\n",
    "user_history"
   ]
  },
  {
   "cell_type": "code",
   "execution_count": null,
   "id": "f1b34d6c",
   "metadata": {},
   "outputs": [],
   "source": [
    "del user_id_temp, user_history\n",
    "gc.collect()"
   ]
  },
  {
   "cell_type": "markdown",
   "id": "5b8a1fed",
   "metadata": {},
   "source": [
    "### Персональные рекомендации для всех пользователей"
   ]
  },
  {
   "cell_type": "code",
   "execution_count": 12,
   "id": "27f717da",
   "metadata": {},
   "outputs": [
    {
     "data": {
      "text/plain": [
       "(1329662,)"
      ]
     },
     "execution_count": 12,
     "metadata": {},
     "output_type": "execute_result"
    }
   ],
   "source": [
    "# получим идентификаторы всех пользователей\n",
    "# (1329662,)\n",
    "\n",
    "user_ids = df_events_train[\"user_id\"].unique()\n",
    "user_ids.shape"
   ]
  },
  {
   "cell_type": "code",
   "execution_count": 13,
   "id": "78b58d1e",
   "metadata": {},
   "outputs": [],
   "source": [
    "# получаем рекомендации для всех пользователей\n",
    "# 50 min\n",
    "\n",
    "item_ids, als_scores = als_model.recommend(\n",
    "    user_ids,\n",
    "    user_item_matrix_train[user_ids],\n",
    "    filter_already_liked_items=False,\n",
    "    N=100\n",
    ")"
   ]
  },
  {
   "cell_type": "code",
   "execution_count": 14,
   "id": "f5d6e44a",
   "metadata": {},
   "outputs": [
    {
     "data": {
      "text/plain": [
       "(1329662, 100)"
      ]
     },
     "execution_count": 14,
     "metadata": {},
     "output_type": "execute_result"
    }
   ],
   "source": [
    "# (1329662, 100)\n",
    "\n",
    "item_ids.shape"
   ]
  },
  {
   "cell_type": "code",
   "execution_count": 15,
   "id": "de9a2888",
   "metadata": {},
   "outputs": [
    {
     "data": {
      "text/plain": [
       "0"
      ]
     },
     "execution_count": 15,
     "metadata": {},
     "output_type": "execute_result"
    },
    {
     "ename": "",
     "evalue": "",
     "output_type": "error",
     "traceback": [
      "\u001b[1;31mThe Kernel crashed while executing code in the current cell or a previous cell. \n",
      "\u001b[1;31mPlease review the code in the cell(s) to identify a possible cause of the failure. \n",
      "\u001b[1;31mClick <a href='https://aka.ms/vscodeJupyterKernelCrash'>here</a> for more info. \n",
      "\u001b[1;31mView Jupyter <a href='command:jupyter.viewOutput'>log</a> for further details."
     ]
    }
   ],
   "source": [
    "del user_item_matrix_train\n",
    "del df_events_test\n",
    "gc.collect()"
   ]
  },
  {
   "cell_type": "code",
   "execution_count": 16,
   "id": "6f599d21",
   "metadata": {},
   "outputs": [],
   "source": [
    "# 2 min\n",
    "# преобразуем полученные рекомендации в табличный формат\n",
    "\n",
    "df_als_recommendations = pd.DataFrame({\n",
    "    \"user_id\": user_ids,\n",
    "    \"item_id\": item_ids.tolist(),\n",
    "    \"score\": als_scores.tolist()\n",
    "}).explode([\"item_id\", \"score\"], ignore_index=True)\n",
    "\n",
    "# приводим типы данных\n",
    "\n",
    "df_als_recommendations[\"item_id\"] = df_als_recommendations[\"item_id\"].astype(\"int\")\n",
    "df_als_recommendations[\"score\"] = df_als_recommendations[\"score\"].astype(\"float\")"
   ]
  },
  {
   "cell_type": "code",
   "execution_count": null,
   "id": "5c4ccc9b",
   "metadata": {},
   "outputs": [],
   "source": [
    "df_als_recommendations.shape"
   ]
  },
  {
   "cell_type": "code",
   "execution_count": null,
   "id": "0f8faf63",
   "metadata": {},
   "outputs": [],
   "source": [
    "df_als_recommendations.head(10)"
   ]
  },
  {
   "cell_type": "code",
   "execution_count": null,
   "id": "1e8cdb58-3a8c-45ad-8e5f-7f950314aa56",
   "metadata": {},
   "outputs": [],
   "source": [
    "df_als_recommendations.dtypes"
   ]
  },
  {
   "cell_type": "markdown",
   "id": "d530d3fd",
   "metadata": {},
   "source": [
    "### Сохранение"
   ]
  },
  {
   "cell_type": "code",
   "execution_count": null,
   "id": "e63a6603",
   "metadata": {},
   "outputs": [],
   "source": [
    "df_als_recommendations.to_parquet(\"personal_als.parquet\")"
   ]
  },
  {
   "cell_type": "code",
   "execution_count": null,
   "id": "67b8087f",
   "metadata": {},
   "outputs": [],
   "source": [
    "print(1)"
   ]
  },
  {
   "cell_type": "code",
   "execution_count": null,
   "id": "799f9bf3",
   "metadata": {},
   "outputs": [],
   "source": []
  },
  {
   "cell_type": "code",
   "execution_count": null,
   "metadata": {},
   "outputs": [],
   "source": []
  },
  {
   "cell_type": "markdown",
   "id": "5f09dc7e-7c91-4355-860a-b9cfb9f33f15",
   "metadata": {},
   "source": [
    "## Похожие"
   ]
  },
  {
   "cell_type": "markdown",
   "id": "1dfcb683-b440-40a8-9975-894156a53872",
   "metadata": {},
   "source": [
    "Рассчитаем похожие, они позже пригодятся для онлайн-рекомендаций."
   ]
  },
  {
   "cell_type": "code",
   "execution_count": null,
   "id": "c40ed7fd",
   "metadata": {},
   "outputs": [],
   "source": [
    "# Ядро на ВМ постоянно умирает, чистим память\n",
    "\n",
    "del df_als_recommendations\n",
    "del user_ids, item_ids, als_scores\n",
    "gc.collect()"
   ]
  },
  {
   "cell_type": "code",
   "execution_count": 38,
   "id": "2c29e452",
   "metadata": {},
   "outputs": [],
   "source": [
    "MAX_SIMILAR_ITEMS = 10"
   ]
  },
  {
   "cell_type": "code",
   "execution_count": 40,
   "id": "a75d07ee-4b12-4ce5-aa85-e45cb7a7a4f0",
   "metadata": {},
   "outputs": [
    {
     "data": {
      "text/plain": [
       "(999688,)"
      ]
     },
     "execution_count": 40,
     "metadata": {},
     "output_type": "execute_result"
    }
   ],
   "source": [
    "# получим идентификаторы всех объектов, известных нам из events_train\n",
    "\n",
    "train_item_ids_enc = df_events_train['item_id'].unique()\n",
    "train_item_ids_enc.shape"
   ]
  },
  {
   "cell_type": "code",
   "execution_count": 41,
   "id": "8e9d0cdd",
   "metadata": {},
   "outputs": [
    {
     "ename": "KeyboardInterrupt",
     "evalue": "",
     "output_type": "error",
     "traceback": [
      "\u001b[0;31m---------------------------------------------------------------------------\u001b[0m",
      "\u001b[0;31mKeyboardInterrupt\u001b[0m                         Traceback (most recent call last)",
      "Cell \u001b[0;32mIn[41], line 5\u001b[0m\n\u001b[1;32m      1\u001b[0m \u001b[38;5;66;03m# получаем списки похожих объектов, используя ранее полученную ALS-модель\u001b[39;00m\n\u001b[1;32m      2\u001b[0m \u001b[38;5;66;03m# метод similar_items возвращает и сам объект, как наиболее похожий\u001b[39;00m\n\u001b[1;32m      3\u001b[0m \u001b[38;5;66;03m# этот объект мы позже отфильтруем, но сейчас запросим на 1 больше\u001b[39;00m\n\u001b[0;32m----> 5\u001b[0m similar_items \u001b[38;5;241m=\u001b[39m \u001b[43mals_model\u001b[49m\u001b[38;5;241;43m.\u001b[39;49m\u001b[43msimilar_items\u001b[49m\u001b[43m(\u001b[49m\u001b[43mtrain_item_ids_enc\u001b[49m\u001b[43m,\u001b[49m\u001b[43m \u001b[49m\u001b[43mN\u001b[49m\u001b[38;5;241;43m=\u001b[39;49m\u001b[43mMAX_SIMILAR_ITEMS\u001b[49m\u001b[38;5;241;43m+\u001b[39;49m\u001b[38;5;241;43m1\u001b[39;49m\u001b[43m)\u001b[49m\n",
      "File \u001b[0;32m~/mle_projects_final/mle-project-sprint-4-v001/.env_recsys_start/lib/python3.10/site-packages/implicit/cpu/matrix_factorization_base.py:207\u001b[0m, in \u001b[0;36mMatrixFactorizationBase.similar_items\u001b[0;34m(self, itemid, N, recalculate_item, item_users, filter_items, items)\u001b[0m\n\u001b[1;32m    204\u001b[0m     \u001b[38;5;28;01mif\u001b[39;00m items\u001b[38;5;241m.\u001b[39mmax() \u001b[38;5;241m>\u001b[39m\u001b[38;5;241m=\u001b[39m \u001b[38;5;28mself\u001b[39m\u001b[38;5;241m.\u001b[39mitem_factors\u001b[38;5;241m.\u001b[39mshape[\u001b[38;5;241m0\u001b[39m] \u001b[38;5;129;01mor\u001b[39;00m items\u001b[38;5;241m.\u001b[39mmin() \u001b[38;5;241m<\u001b[39m \u001b[38;5;241m0\u001b[39m:\n\u001b[1;32m    205\u001b[0m         \u001b[38;5;28;01mraise\u001b[39;00m \u001b[38;5;167;01mIndexError\u001b[39;00m(\u001b[38;5;124m\"\u001b[39m\u001b[38;5;124mSome itemids in the items parameter are not in the model\u001b[39m\u001b[38;5;124m\"\u001b[39m)\n\u001b[0;32m--> 207\u001b[0m ids, scores \u001b[38;5;241m=\u001b[39m \u001b[38;5;28;43mself\u001b[39;49m\u001b[38;5;241;43m.\u001b[39;49m\u001b[43m_get_similarity_score\u001b[49m\u001b[43m(\u001b[49m\n\u001b[1;32m    208\u001b[0m \u001b[43m    \u001b[49m\u001b[43mfactor\u001b[49m\u001b[43m,\u001b[49m\u001b[43m \u001b[49m\u001b[43mnorm\u001b[49m\u001b[43m,\u001b[49m\u001b[43m \u001b[49m\u001b[43mfactors\u001b[49m\u001b[43m,\u001b[49m\u001b[43m \u001b[49m\u001b[43mnorms\u001b[49m\u001b[43m,\u001b[49m\u001b[43m \u001b[49m\u001b[43mN\u001b[49m\u001b[43m,\u001b[49m\u001b[43m \u001b[49m\u001b[43mfilter_items\u001b[49m\u001b[38;5;241;43m=\u001b[39;49m\u001b[43mfilter_items\u001b[49m\n\u001b[1;32m    209\u001b[0m \u001b[43m\u001b[49m\u001b[43m)\u001b[49m\n\u001b[1;32m    210\u001b[0m \u001b[38;5;28;01mif\u001b[39;00m items \u001b[38;5;129;01mis\u001b[39;00m \u001b[38;5;129;01mnot\u001b[39;00m \u001b[38;5;28;01mNone\u001b[39;00m:\n\u001b[1;32m    211\u001b[0m     ids \u001b[38;5;241m=\u001b[39m items[ids]\n",
      "File \u001b[0;32m~/mle_projects_final/mle-project-sprint-4-v001/.env_recsys_start/lib/python3.10/site-packages/implicit/cpu/matrix_factorization_base.py:217\u001b[0m, in \u001b[0;36mMatrixFactorizationBase._get_similarity_score\u001b[0;34m(self, factor, norm, factors, norms, N, filter_items)\u001b[0m\n\u001b[1;32m    216\u001b[0m \u001b[38;5;28;01mdef\u001b[39;00m \u001b[38;5;21m_get_similarity_score\u001b[39m(\u001b[38;5;28mself\u001b[39m, factor, norm, factors, norms, N, filter_items\u001b[38;5;241m=\u001b[39m\u001b[38;5;28;01mNone\u001b[39;00m):\n\u001b[0;32m--> 217\u001b[0m     ids, scores \u001b[38;5;241m=\u001b[39m \u001b[43mtopk\u001b[49m\u001b[43m(\u001b[49m\n\u001b[1;32m    218\u001b[0m \u001b[43m        \u001b[49m\u001b[43mfactors\u001b[49m\u001b[43m,\u001b[49m\n\u001b[1;32m    219\u001b[0m \u001b[43m        \u001b[49m\u001b[43mfactor\u001b[49m\u001b[43m,\u001b[49m\n\u001b[1;32m    220\u001b[0m \u001b[43m        \u001b[49m\u001b[43mN\u001b[49m\u001b[43m,\u001b[49m\n\u001b[1;32m    221\u001b[0m \u001b[43m        \u001b[49m\u001b[43mitem_norms\u001b[49m\u001b[38;5;241;43m=\u001b[39;49m\u001b[43mnorms\u001b[49m\u001b[43m,\u001b[49m\n\u001b[1;32m    222\u001b[0m \u001b[43m        \u001b[49m\u001b[43mfilter_items\u001b[49m\u001b[38;5;241;43m=\u001b[39;49m\u001b[43mfilter_items\u001b[49m\u001b[43m,\u001b[49m\n\u001b[1;32m    223\u001b[0m \u001b[43m        \u001b[49m\u001b[43mnum_threads\u001b[49m\u001b[38;5;241;43m=\u001b[39;49m\u001b[38;5;28;43mself\u001b[39;49m\u001b[38;5;241;43m.\u001b[39;49m\u001b[43mnum_threads\u001b[49m\u001b[43m,\u001b[49m\n\u001b[1;32m    224\u001b[0m \u001b[43m    \u001b[49m\u001b[43m)\u001b[49m\n\u001b[1;32m    225\u001b[0m     \u001b[38;5;28;01mif\u001b[39;00m np\u001b[38;5;241m.\u001b[39misscalar(norm):\n\u001b[1;32m    226\u001b[0m         ids, scores \u001b[38;5;241m=\u001b[39m ids[\u001b[38;5;241m0\u001b[39m], scores[\u001b[38;5;241m0\u001b[39m]\n",
      "File \u001b[0;32mtopk.pyx:41\u001b[0m, in \u001b[0;36mimplicit.cpu.topk.topk\u001b[0;34m()\u001b[0m\n",
      "File \u001b[0;32mtopk.pyx:51\u001b[0m, in \u001b[0;36mimplicit.cpu.topk._topk_batch\u001b[0;34m()\u001b[0m\n",
      "File \u001b[0;32m~/mle_projects_final/mle-project-sprint-4-v001/.env_recsys_start/lib/python3.10/site-packages/numpy/core/getlimits.py:486\u001b[0m, in \u001b[0;36mfinfo.__new__\u001b[0;34m(cls, dtype)\u001b[0m\n\u001b[1;32m    484\u001b[0m \u001b[38;5;28;01mdef\u001b[39;00m \u001b[38;5;21m__new__\u001b[39m(\u001b[38;5;28mcls\u001b[39m, dtype):\n\u001b[1;32m    485\u001b[0m     \u001b[38;5;28;01mtry\u001b[39;00m:\n\u001b[0;32m--> 486\u001b[0m         obj \u001b[38;5;241m=\u001b[39m \u001b[38;5;28;43mcls\u001b[39;49m\u001b[38;5;241;43m.\u001b[39;49m\u001b[43m_finfo_cache\u001b[49m\u001b[38;5;241;43m.\u001b[39;49m\u001b[43mget\u001b[49m\u001b[43m(\u001b[49m\u001b[43mdtype\u001b[49m\u001b[43m)\u001b[49m  \u001b[38;5;66;03m# most common path\u001b[39;00m\n\u001b[1;32m    487\u001b[0m         \u001b[38;5;28;01mif\u001b[39;00m obj \u001b[38;5;129;01mis\u001b[39;00m \u001b[38;5;129;01mnot\u001b[39;00m \u001b[38;5;28;01mNone\u001b[39;00m:\n\u001b[1;32m    488\u001b[0m             \u001b[38;5;28;01mreturn\u001b[39;00m obj\n",
      "\u001b[0;31mKeyboardInterrupt\u001b[0m: "
     ]
    }
   ],
   "source": [
    "# 50 min\n",
    "# получаем списки похожих объектов, используя ранее полученную ALS-модель\n",
    "# метод similar_items возвращает и сам объект, как наиболее похожий\n",
    "# этот объект мы позже отфильтруем, но сейчас запросим на 1 больше\n",
    "\n",
    "similar_items = als_model.similar_items(train_item_ids_enc, N=MAX_SIMILAR_ITEMS+1)"
   ]
  },
  {
   "cell_type": "code",
   "execution_count": null,
   "id": "55adaa22",
   "metadata": {},
   "outputs": [],
   "source": [
    "# преобразуем полученные списки в табличный формат\n",
    "\n",
    "df_similar_items = pd.DataFrame({\n",
    "    \"item_id\": train_item_ids_enc,\n",
    "    \"sim_item_id\": similar_items[0].tolist(), \n",
    "    \"score\": similar_items[1].tolist()\n",
    "}).explode([\"sim_item_id\", \"score\"])\n",
    "\n",
    "# приводим типы данных\n",
    "\n",
    "df_similar_items[\"sim_item_id\"] = df_similar_items[\"sim_item_id\"].astype(\"int\")\n",
    "df_similar_items[\"score\"] = df_similar_items[\"score\"].astype(\"float\")"
   ]
  },
  {
   "cell_type": "code",
   "execution_count": null,
   "id": "533bdc40",
   "metadata": {},
   "outputs": [],
   "source": [
    "# убираем пары с одинаковыми объектами\n",
    "\n",
    "df_similar_items = df_similar_items[df_similar_items[\"item_id\"] != df_similar_items[\"sim_item_id\"]].reset_index(drop=True)"
   ]
  },
  {
   "cell_type": "code",
   "execution_count": null,
   "id": "4facc277",
   "metadata": {},
   "outputs": [],
   "source": [
    "df_similar_items.shape"
   ]
  },
  {
   "cell_type": "code",
   "execution_count": null,
   "id": "14060e3b",
   "metadata": {},
   "outputs": [],
   "source": [
    "df_similar_items.head()"
   ]
  },
  {
   "cell_type": "code",
   "execution_count": null,
   "id": "1b802489",
   "metadata": {},
   "outputs": [],
   "source": [
    "df_similar_items.dtypes"
   ]
  },
  {
   "cell_type": "markdown",
   "id": "6fcb2919",
   "metadata": {},
   "source": [
    "### Сохранение"
   ]
  },
  {
   "cell_type": "code",
   "execution_count": null,
   "id": "ce370904-4c49-4152-8706-416074ea9b9a",
   "metadata": {},
   "outputs": [],
   "source": [
    "df_similar_items.to_parquet(\"similar.parquet\") "
   ]
  },
  {
   "cell_type": "markdown",
   "id": "1036da84",
   "metadata": {},
   "source": [
    "---"
   ]
  },
  {
   "cell_type": "markdown",
   "id": "0087a3e7-ca9f-42cd-944c-944222c1baef",
   "metadata": {},
   "source": [
    "## Двухстадийный подход"
   ]
  },
  {
   "cell_type": "markdown",
   "id": "90efca75",
   "metadata": {},
   "source": [
    "### Разбиение данных"
   ]
  },
  {
   "cell_type": "markdown",
   "id": "c47011d8",
   "metadata": {},
   "source": [
    "Разбиваем данные на тренировочную, тестовую выборки.\n",
    "\n",
    "В тренировочную отнесем все данные до 16 декабря 2022 года (не включительно)."
   ]
  },
  {
   "cell_type": "code",
   "execution_count": 14,
   "id": "515b6f46",
   "metadata": {},
   "outputs": [],
   "source": [
    "SPLIT_POINT_DATE_2 = '2022-12-01'"
   ]
  },
  {
   "cell_type": "code",
   "execution_count": 15,
   "id": "e19ab1fa",
   "metadata": {},
   "outputs": [],
   "source": [
    "df_events_train_2 = df_events_train[df_events_train[\"started_at\"] < SPLIT_POINT_DATE_2]\n",
    "df_events_train_labels = df_events_train[df_events_train[\"started_at\"] >= SPLIT_POINT_DATE_2]"
   ]
  },
  {
   "cell_type": "code",
   "execution_count": 16,
   "id": "25b4c90b",
   "metadata": {},
   "outputs": [
    {
     "data": {
      "text/plain": [
       "((191513206, 5), (17135378, 5))"
      ]
     },
     "execution_count": 16,
     "metadata": {},
     "output_type": "execute_result"
    }
   ],
   "source": [
    "# Размеры выборок\n",
    "# ((191 513 206, 5), (17 135 378, 5))\n",
    "\n",
    "df_events_train_2.shape, df_events_train_labels.shape"
   ]
  },
  {
   "cell_type": "code",
   "execution_count": 17,
   "id": "764555f1",
   "metadata": {},
   "outputs": [
    {
     "data": {
      "text/plain": [
       "(1282609, 903291)"
      ]
     },
     "execution_count": 17,
     "metadata": {},
     "output_type": "execute_result"
    }
   ],
   "source": [
    "# Кол-во клиентов в каждой выборке\n",
    "# (1 282 609, 903 291)\n",
    "\n",
    "df_events_train_2[\"user_id\"].nunique(), df_events_train_labels[\"user_id\"].nunique()"
   ]
  },
  {
   "cell_type": "markdown",
   "id": "b0e5eeb5",
   "metadata": {},
   "source": [
    "### Подготовка кандиатов для обучения"
   ]
  },
  {
   "cell_type": "code",
   "execution_count": 18,
   "id": "eb0d10a5",
   "metadata": {},
   "outputs": [],
   "source": [
    "# создаём sparse-матрицу формата CSR\n",
    "\n",
    "user_item_matrix_train_2 = scipy.sparse.csr_matrix(\n",
    "    (\n",
    "        df_events_train_2[\"ratings\"],\n",
    "        (df_events_train_2['user_id'], df_events_train_2['item_id'])\n",
    "    ),\n",
    "    dtype=np.int8\n",
    ") "
   ]
  },
  {
   "cell_type": "code",
   "execution_count": 19,
   "id": "698b4027",
   "metadata": {},
   "outputs": [
    {
     "data": {
      "text/plain": [
       "<Compressed Sparse Row sparse matrix of dtype 'int8'\n",
       "\twith 191513206 stored elements and shape (1359712, 1000000)>"
      ]
     },
     "execution_count": 19,
     "metadata": {},
     "output_type": "execute_result"
    }
   ],
   "source": [
    "# <Compressed Sparse Row sparse matrix of dtype 'int8'\n",
    "# \twith 191513206 stored elements and shape (1359712, 1000000)>\n",
    "\n",
    "user_item_matrix_train_2"
   ]
  },
  {
   "cell_type": "code",
   "execution_count": 20,
   "id": "7afdafbb",
   "metadata": {},
   "outputs": [
    {
     "name": "stderr",
     "output_type": "stream",
     "text": [
      "/home/mle-user/mle_projects_final/mle-project-sprint-4-v001/.env_recsys_start/lib/python3.10/site-packages/implicit/cpu/als.py:95: RuntimeWarning: OpenBLAS is configured to use 4 threads. It is highly recommended to disable its internal threadpool by setting the environment variable 'OPENBLAS_NUM_THREADS=1' or by calling 'threadpoolctl.threadpool_limits(1, \"blas\")'. Having OpenBLAS use a threadpool can lead to severe performance issues here.\n",
      "  check_blas_config()\n",
      "100%|██████████| 2/2 [01:38<00:00, 49.07s/it]\n"
     ]
    }
   ],
   "source": [
    "# Создадим и обучим модель\n",
    "# iterations=10 -> 10 min\n",
    "\n",
    "als_model_2 = AlternatingLeastSquares(factors=50, iterations=2, regularization=0.05, random_state=0)\n",
    "\n",
    "als_model_2.fit(user_item_matrix_train_2)"
   ]
  },
  {
   "cell_type": "code",
   "execution_count": 21,
   "id": "7dd25520",
   "metadata": {},
   "outputs": [
    {
     "data": {
      "text/plain": [
       "(1282609,)"
      ]
     },
     "execution_count": 21,
     "metadata": {},
     "output_type": "execute_result"
    }
   ],
   "source": [
    "# получим идентификаторы всех пользователей\n",
    "\n",
    "user_ids_2 = df_events_train_2[\"user_id\"].unique()\n",
    "user_ids_2.shape"
   ]
  },
  {
   "cell_type": "code",
   "execution_count": 22,
   "id": "ba4efea7",
   "metadata": {},
   "outputs": [],
   "source": [
    "# получаем рекомендации для всех пользователей\n",
    "# 50 min\n",
    "\n",
    "item_ids, als_scores = als_model_2.recommend(\n",
    "    user_ids_2[:1000],\n",
    "    user_item_matrix_train_2[user_ids_2[:1000]], \n",
    "    filter_already_liked_items=False,\n",
    "    N=100\n",
    ")"
   ]
  },
  {
   "cell_type": "code",
   "execution_count": 23,
   "id": "195903be",
   "metadata": {},
   "outputs": [
    {
     "data": {
      "text/plain": [
       "(1000, 100)"
      ]
     },
     "execution_count": 23,
     "metadata": {},
     "output_type": "execute_result"
    }
   ],
   "source": [
    "item_ids.shape"
   ]
  },
  {
   "cell_type": "code",
   "execution_count": 24,
   "id": "c4753187",
   "metadata": {},
   "outputs": [],
   "source": [
    "# преобразуем полученные рекомендации в табличный формат\n",
    "\n",
    "df_candidates = pd.DataFrame({\n",
    "    \"user_id\": user_ids_2[:1000],\n",
    "    \"item_id\": item_ids.tolist(), \n",
    "    \"score\": als_scores.tolist()\n",
    "}).explode([\"item_id\", \"score\"], ignore_index=True)\n",
    "\n",
    "# приводим типы данных\n",
    "\n",
    "df_candidates[\"item_id\"] = df_candidates[\"item_id\"].astype(\"int\")\n",
    "df_candidates[\"score\"] = df_candidates[\"score\"].astype(\"float\")"
   ]
  },
  {
   "cell_type": "code",
   "execution_count": 25,
   "id": "2df87601",
   "metadata": {},
   "outputs": [
    {
     "data": {
      "text/plain": [
       "(100000, 3)"
      ]
     },
     "execution_count": 25,
     "metadata": {},
     "output_type": "execute_result"
    }
   ],
   "source": [
    "df_candidates.shape"
   ]
  },
  {
   "cell_type": "code",
   "execution_count": 26,
   "id": "4cc444af",
   "metadata": {},
   "outputs": [
    {
     "data": {
      "text/html": [
       "<div>\n",
       "<style scoped>\n",
       "    .dataframe tbody tr th:only-of-type {\n",
       "        vertical-align: middle;\n",
       "    }\n",
       "\n",
       "    .dataframe tbody tr th {\n",
       "        vertical-align: top;\n",
       "    }\n",
       "\n",
       "    .dataframe thead th {\n",
       "        text-align: right;\n",
       "    }\n",
       "</style>\n",
       "<table border=\"1\" class=\"dataframe\">\n",
       "  <thead>\n",
       "    <tr style=\"text-align: right;\">\n",
       "      <th></th>\n",
       "      <th>user_id</th>\n",
       "      <th>item_id</th>\n",
       "      <th>score</th>\n",
       "    </tr>\n",
       "  </thead>\n",
       "  <tbody>\n",
       "    <tr>\n",
       "      <th>0</th>\n",
       "      <td>0</td>\n",
       "      <td>6558</td>\n",
       "      <td>0.035440</td>\n",
       "    </tr>\n",
       "    <tr>\n",
       "      <th>1</th>\n",
       "      <td>0</td>\n",
       "      <td>8910</td>\n",
       "      <td>0.029960</td>\n",
       "    </tr>\n",
       "    <tr>\n",
       "      <th>2</th>\n",
       "      <td>0</td>\n",
       "      <td>8553</td>\n",
       "      <td>0.027953</td>\n",
       "    </tr>\n",
       "    <tr>\n",
       "      <th>3</th>\n",
       "      <td>0</td>\n",
       "      <td>23614</td>\n",
       "      <td>0.027000</td>\n",
       "    </tr>\n",
       "    <tr>\n",
       "      <th>4</th>\n",
       "      <td>0</td>\n",
       "      <td>15643</td>\n",
       "      <td>0.025484</td>\n",
       "    </tr>\n",
       "    <tr>\n",
       "      <th>5</th>\n",
       "      <td>0</td>\n",
       "      <td>9098</td>\n",
       "      <td>0.024942</td>\n",
       "    </tr>\n",
       "    <tr>\n",
       "      <th>6</th>\n",
       "      <td>0</td>\n",
       "      <td>7076</td>\n",
       "      <td>0.020823</td>\n",
       "    </tr>\n",
       "    <tr>\n",
       "      <th>7</th>\n",
       "      <td>0</td>\n",
       "      <td>64267</td>\n",
       "      <td>0.019527</td>\n",
       "    </tr>\n",
       "    <tr>\n",
       "      <th>8</th>\n",
       "      <td>0</td>\n",
       "      <td>58562</td>\n",
       "      <td>0.019001</td>\n",
       "    </tr>\n",
       "    <tr>\n",
       "      <th>9</th>\n",
       "      <td>0</td>\n",
       "      <td>779281</td>\n",
       "      <td>0.018864</td>\n",
       "    </tr>\n",
       "  </tbody>\n",
       "</table>\n",
       "</div>"
      ],
      "text/plain": [
       "   user_id  item_id     score\n",
       "0        0     6558  0.035440\n",
       "1        0     8910  0.029960\n",
       "2        0     8553  0.027953\n",
       "3        0    23614  0.027000\n",
       "4        0    15643  0.025484\n",
       "5        0     9098  0.024942\n",
       "6        0     7076  0.020823\n",
       "7        0    64267  0.019527\n",
       "8        0    58562  0.019001\n",
       "9        0   779281  0.018864"
      ]
     },
     "execution_count": 26,
     "metadata": {},
     "output_type": "execute_result"
    }
   ],
   "source": [
    "df_candidates.head(10)"
   ]
  },
  {
   "cell_type": "code",
   "execution_count": 27,
   "id": "74403df7",
   "metadata": {},
   "outputs": [
    {
     "data": {
      "text/plain": [
       "user_id      int64\n",
       "item_id      int64\n",
       "score      float64\n",
       "dtype: object"
      ]
     },
     "execution_count": 27,
     "metadata": {},
     "output_type": "execute_result"
    }
   ],
   "source": [
    "df_candidates.dtypes"
   ]
  },
  {
   "cell_type": "code",
   "execution_count": 28,
   "id": "d9b9e025",
   "metadata": {},
   "outputs": [],
   "source": [
    "df_candidates.to_parquet(\"candidates_train.parquet\")"
   ]
  },
  {
   "cell_type": "markdown",
   "id": "4ffd4bce",
   "metadata": {},
   "source": [
    "### Таргеты"
   ]
  },
  {
   "cell_type": "code",
   "execution_count": 29,
   "id": "1deb21fe",
   "metadata": {},
   "outputs": [
    {
     "name": "stderr",
     "output_type": "stream",
     "text": [
      "/tmp/ipykernel_4552/5221831.py:5: SettingWithCopyWarning: \n",
      "A value is trying to be set on a copy of a slice from a DataFrame.\n",
      "Try using .loc[row_indexer,col_indexer] = value instead\n",
      "\n",
      "See the caveats in the documentation: https://pandas.pydata.org/pandas-docs/stable/user_guide/indexing.html#returning-a-view-versus-a-copy\n",
      "  df_events_train_labels[\"target\"] = 1\n"
     ]
    }
   ],
   "source": [
    "# добавляем таргет к кандидатам со значением:\n",
    "# — 1 для тех item_id, которые пользователь прослушал\n",
    "# — 0, для всех остальных \n",
    "\n",
    "df_events_train_labels[\"target\"] = 1\n",
    "\n",
    "df_candidates = df_candidates.merge(\n",
    "    df_events_train_labels[[\"user_id\", \"item_id\", \"target\"]],\n",
    "    on=[\"user_id\", \"item_id\"],\n",
    "    how=\"left\"\n",
    ")\n",
    "\n",
    "df_candidates[\"target\"] = df_candidates[\"target\"].fillna(0).astype(\"int\")"
   ]
  },
  {
   "cell_type": "code",
   "execution_count": 30,
   "id": "72b9da72",
   "metadata": {},
   "outputs": [],
   "source": [
    "# в кандидатах оставляем только тех пользователей, у которых есть хотя бы один положительный таргет\n",
    "\n",
    "df_candidates = df_candidates.groupby(\"user_id\").filter(lambda x: x[\"target\"].sum() > 0)"
   ]
  },
  {
   "cell_type": "code",
   "execution_count": 31,
   "id": "a247f982",
   "metadata": {},
   "outputs": [],
   "source": [
    "# для каждого пользователя оставляем только 4 негативных примера\n",
    "\n",
    "negatives_per_user = 4\n",
    "\n",
    "candidates_for_train = pd.concat([\n",
    "    df_candidates[df_candidates[\"target\"]==1],\n",
    "    df_candidates[df_candidates[\"target\"]==0] \\\n",
    "        .groupby(\"user_id\") \\\n",
    "        .apply(lambda x: x.sample(negatives_per_user, random_state=0))\n",
    "])"
   ]
  },
  {
   "cell_type": "code",
   "execution_count": 32,
   "id": "1b177675",
   "metadata": {},
   "outputs": [
    {
     "data": {
      "text/plain": [
       "(1133, 4)"
      ]
     },
     "execution_count": 32,
     "metadata": {},
     "output_type": "execute_result"
    }
   ],
   "source": [
    "candidates_for_train.shape"
   ]
  },
  {
   "cell_type": "code",
   "execution_count": 33,
   "id": "28618a20",
   "metadata": {},
   "outputs": [
    {
     "data": {
      "text/html": [
       "<div>\n",
       "<style scoped>\n",
       "    .dataframe tbody tr th:only-of-type {\n",
       "        vertical-align: middle;\n",
       "    }\n",
       "\n",
       "    .dataframe tbody tr th {\n",
       "        vertical-align: top;\n",
       "    }\n",
       "\n",
       "    .dataframe thead th {\n",
       "        text-align: right;\n",
       "    }\n",
       "</style>\n",
       "<table border=\"1\" class=\"dataframe\">\n",
       "  <thead>\n",
       "    <tr style=\"text-align: right;\">\n",
       "      <th></th>\n",
       "      <th>user_id</th>\n",
       "      <th>item_id</th>\n",
       "      <th>score</th>\n",
       "      <th>target</th>\n",
       "    </tr>\n",
       "  </thead>\n",
       "  <tbody>\n",
       "    <tr>\n",
       "      <th>1012</th>\n",
       "      <td>10</td>\n",
       "      <td>637232</td>\n",
       "      <td>0.104891</td>\n",
       "      <td>1</td>\n",
       "    </tr>\n",
       "    <tr>\n",
       "      <th>1205</th>\n",
       "      <td>12</td>\n",
       "      <td>433408</td>\n",
       "      <td>0.246014</td>\n",
       "      <td>1</td>\n",
       "    </tr>\n",
       "    <tr>\n",
       "      <th>1210</th>\n",
       "      <td>12</td>\n",
       "      <td>447323</td>\n",
       "      <td>0.183841</td>\n",
       "      <td>1</td>\n",
       "    </tr>\n",
       "    <tr>\n",
       "      <th>1216</th>\n",
       "      <td>12</td>\n",
       "      <td>442223</td>\n",
       "      <td>0.170573</td>\n",
       "      <td>1</td>\n",
       "    </tr>\n",
       "    <tr>\n",
       "      <th>1254</th>\n",
       "      <td>12</td>\n",
       "      <td>443211</td>\n",
       "      <td>0.111129</td>\n",
       "      <td>1</td>\n",
       "    </tr>\n",
       "    <tr>\n",
       "      <th>...</th>\n",
       "      <td>...</td>\n",
       "      <td>...</td>\n",
       "      <td>...</td>\n",
       "      <td>...</td>\n",
       "    </tr>\n",
       "    <tr>\n",
       "      <th>(1042, 99256)</th>\n",
       "      <td>1042</td>\n",
       "      <td>37377</td>\n",
       "      <td>0.078407</td>\n",
       "      <td>0</td>\n",
       "    </tr>\n",
       "    <tr>\n",
       "      <th>(1043, 99326)</th>\n",
       "      <td>1043</td>\n",
       "      <td>58562</td>\n",
       "      <td>0.018410</td>\n",
       "      <td>0</td>\n",
       "    </tr>\n",
       "    <tr>\n",
       "      <th>(1043, 99387)</th>\n",
       "      <td>1043</td>\n",
       "      <td>226639</td>\n",
       "      <td>0.012933</td>\n",
       "      <td>0</td>\n",
       "    </tr>\n",
       "    <tr>\n",
       "      <th>(1043, 99302)</th>\n",
       "      <td>1043</td>\n",
       "      <td>58616</td>\n",
       "      <td>0.030983</td>\n",
       "      <td>0</td>\n",
       "    </tr>\n",
       "    <tr>\n",
       "      <th>(1043, 99355)</th>\n",
       "      <td>1043</td>\n",
       "      <td>139206</td>\n",
       "      <td>0.014969</td>\n",
       "      <td>0</td>\n",
       "    </tr>\n",
       "  </tbody>\n",
       "</table>\n",
       "<p>1133 rows × 4 columns</p>\n",
       "</div>"
      ],
      "text/plain": [
       "               user_id  item_id     score  target\n",
       "1012                10   637232  0.104891       1\n",
       "1205                12   433408  0.246014       1\n",
       "1210                12   447323  0.183841       1\n",
       "1216                12   442223  0.170573       1\n",
       "1254                12   443211  0.111129       1\n",
       "...                ...      ...       ...     ...\n",
       "(1042, 99256)     1042    37377  0.078407       0\n",
       "(1043, 99326)     1043    58562  0.018410       0\n",
       "(1043, 99387)     1043   226639  0.012933       0\n",
       "(1043, 99302)     1043    58616  0.030983       0\n",
       "(1043, 99355)     1043   139206  0.014969       0\n",
       "\n",
       "[1133 rows x 4 columns]"
      ]
     },
     "execution_count": 33,
     "metadata": {},
     "output_type": "execute_result"
    }
   ],
   "source": [
    "candidates_for_train"
   ]
  },
  {
   "cell_type": "markdown",
   "id": "3ab1165f",
   "metadata": {},
   "source": [
    "### Подготовка кандидатов для рекомендаций"
   ]
  },
  {
   "cell_type": "code",
   "execution_count": 34,
   "id": "7c3d3f43",
   "metadata": {},
   "outputs": [],
   "source": [
    "# загрузить из \"Персональных\""
   ]
  },
  {
   "cell_type": "code",
   "execution_count": 35,
   "id": "cf3bfe87",
   "metadata": {},
   "outputs": [],
   "source": [
    "candidates_to_rank = candidates_for_train.copy()"
   ]
  },
  {
   "cell_type": "markdown",
   "id": "4866b971",
   "metadata": {},
   "source": [
    "### Построение признаков"
   ]
  },
  {
   "cell_type": "markdown",
   "id": "e82a32e1-b90b-4eaf-9439-fc8deab9f34b",
   "metadata": {},
   "source": [
    "Построим признаки для ранжирующей модели.\n",
    "\n",
    "Признаки объектов:\n",
    "- кол-во альбомов, в которых встречается трек\n",
    "- кол-во исполнителей трека\n",
    "\n",
    "Признаки пользователей:\n",
    "- кол-во прослушанных треков\n",
    "- период прослушивания в днях\n",
    "\n",
    "Признаки \"пользователь-объект\"\n",
    "- доля треков конкретного жанра среди всех прослушанных"
   ]
  },
  {
   "cell_type": "markdown",
   "id": "5b76cd78",
   "metadata": {},
   "source": [
    "#### Признаки объектов"
   ]
  },
  {
   "cell_type": "code",
   "execution_count": 36,
   "id": "8a61c77c",
   "metadata": {},
   "outputs": [],
   "source": [
    "df_items_features = pd.DataFrame({\n",
    "    \"item_id\": df_items[\"item_id\"],\n",
    "    \"n_albums\": df_items[\"albums\"].apply(len),\n",
    "    \"n_artists\": df_items[\"artists\"].apply(len),\n",
    "})"
   ]
  },
  {
   "cell_type": "code",
   "execution_count": 37,
   "id": "71e4f4d0",
   "metadata": {},
   "outputs": [
    {
     "data": {
      "text/plain": [
       "(1000000, 3)"
      ]
     },
     "execution_count": 37,
     "metadata": {},
     "output_type": "execute_result"
    }
   ],
   "source": [
    "df_items_features.shape"
   ]
  },
  {
   "cell_type": "code",
   "execution_count": 38,
   "id": "01235a03",
   "metadata": {},
   "outputs": [
    {
     "data": {
      "text/html": [
       "<div>\n",
       "<style scoped>\n",
       "    .dataframe tbody tr th:only-of-type {\n",
       "        vertical-align: middle;\n",
       "    }\n",
       "\n",
       "    .dataframe tbody tr th {\n",
       "        vertical-align: top;\n",
       "    }\n",
       "\n",
       "    .dataframe thead th {\n",
       "        text-align: right;\n",
       "    }\n",
       "</style>\n",
       "<table border=\"1\" class=\"dataframe\">\n",
       "  <thead>\n",
       "    <tr style=\"text-align: right;\">\n",
       "      <th></th>\n",
       "      <th>item_id</th>\n",
       "      <th>n_albums</th>\n",
       "      <th>n_artists</th>\n",
       "    </tr>\n",
       "  </thead>\n",
       "  <tbody>\n",
       "    <tr>\n",
       "      <th>0</th>\n",
       "      <td>0</td>\n",
       "      <td>2</td>\n",
       "      <td>1</td>\n",
       "    </tr>\n",
       "    <tr>\n",
       "      <th>1</th>\n",
       "      <td>1</td>\n",
       "      <td>2</td>\n",
       "      <td>1</td>\n",
       "    </tr>\n",
       "    <tr>\n",
       "      <th>2</th>\n",
       "      <td>2</td>\n",
       "      <td>3</td>\n",
       "      <td>1</td>\n",
       "    </tr>\n",
       "    <tr>\n",
       "      <th>3</th>\n",
       "      <td>3</td>\n",
       "      <td>3</td>\n",
       "      <td>1</td>\n",
       "    </tr>\n",
       "    <tr>\n",
       "      <th>4</th>\n",
       "      <td>4</td>\n",
       "      <td>10</td>\n",
       "      <td>1</td>\n",
       "    </tr>\n",
       "  </tbody>\n",
       "</table>\n",
       "</div>"
      ],
      "text/plain": [
       "   item_id  n_albums  n_artists\n",
       "0        0         2          1\n",
       "1        1         2          1\n",
       "2        2         3          1\n",
       "3        3         3          1\n",
       "4        4        10          1"
      ]
     },
     "execution_count": 38,
     "metadata": {},
     "output_type": "execute_result"
    }
   ],
   "source": [
    "df_items_features.head()"
   ]
  },
  {
   "cell_type": "code",
   "execution_count": 39,
   "id": "af70f4fc",
   "metadata": {},
   "outputs": [],
   "source": [
    "candidates_for_train = candidates_for_train.merge(\n",
    "    df_items_features,\n",
    "    on=\"item_id\",\n",
    "    how=\"left\"\n",
    ")\n",
    "candidates_to_rank = candidates_to_rank.merge(\n",
    "    df_items_features,\n",
    "    on=\"item_id\",\n",
    "    how=\"left\"\n",
    ")"
   ]
  },
  {
   "cell_type": "code",
   "execution_count": 40,
   "id": "8305b440",
   "metadata": {},
   "outputs": [
    {
     "data": {
      "text/plain": [
       "0"
      ]
     },
     "execution_count": 40,
     "metadata": {},
     "output_type": "execute_result"
    }
   ],
   "source": [
    "del df_items_features\n",
    "gc.collect()"
   ]
  },
  {
   "cell_type": "markdown",
   "id": "e03c338a",
   "metadata": {},
   "source": [
    "#### Признаки пользователей"
   ]
  },
  {
   "cell_type": "code",
   "execution_count": 61,
   "id": "4ee235aa",
   "metadata": {},
   "outputs": [],
   "source": [
    "def get_user_features(events):\n",
    "    \"\"\" считает пользовательские признаки \"\"\"\n",
    "    \n",
    "    df_users_features = (\n",
    "        events.groupby(\"user_id\", as_index=False)\n",
    "        .agg(\n",
    "            n_tracks = (\"item_seq\", \"max\"),\n",
    "            min_date = (\"started_at\", \"min\"),\n",
    "            max_date = (\"started_at\", \"max\"),\n",
    "        )\n",
    "    )\n",
    "    df_users_features[\"user_period\"] = (df_users_features[\"max_date\"] - df_users_features[\"min_date\"]).dt.days\n",
    "    return df_users_features[[\"user_id\", \"n_tracks\", \"user_period\"]]"
   ]
  },
  {
   "cell_type": "code",
   "execution_count": 58,
   "id": "18f4cdf9",
   "metadata": {},
   "outputs": [],
   "source": [
    "candidates_for_train = candidates_for_train.merge(\n",
    "    get_user_features(df_events_train_2),\n",
    "    on=\"user_id\",\n",
    ")"
   ]
  },
  {
   "cell_type": "code",
   "execution_count": 59,
   "id": "40800686",
   "metadata": {},
   "outputs": [],
   "source": [
    "candidates_to_rank = candidates_to_rank.merge(\n",
    "    get_user_features(df_events_train),\n",
    "    on=\"user_id\",\n",
    ")"
   ]
  },
  {
   "cell_type": "markdown",
   "id": "0c3ebea8",
   "metadata": {},
   "source": [
    "#### Парные признаки"
   ]
  },
  {
   "cell_type": "code",
   "execution_count": 75,
   "id": "edd01f40",
   "metadata": {},
   "outputs": [],
   "source": [
    "def get_item2genre_matrix(df_item_genre):\n",
    "\n",
    "    '''Функция строит матрицу вида «книга-жанр».\n",
    "    Индексы строк не соовтетствуют исходным интексам!!! - это новые индексы !!! Поскольку важны жанры\n",
    "    '''\n",
    "    max_genre = 0\n",
    "\n",
    "    # list to build CSR matrix\n",
    "    genres_csr_data = []\n",
    "    genres_csr_row_idx = []\n",
    "    genres_csr_col_idx = []\n",
    "    \n",
    "    for index, row in df_item_genre.iterrows():\n",
    "        row_dict = row.to_dict()\n",
    "        item_id = row_dict[\"item_id\"]\n",
    "        genres = row_dict[\"genres\"]\n",
    "        if len(genres) == 0:\n",
    "            continue\n",
    "        for genre in genres:\n",
    "            genres_csr_data.append(1 / len(genres))\n",
    "            genres_csr_row_idx.append(item_id)\n",
    "            genres_csr_col_idx.append(genre)\n",
    "            max_genre = max(max_genre, genre)\n",
    "\n",
    "    genres_csr = scipy.sparse.csr_matrix(\n",
    "        (genres_csr_data, (genres_csr_row_idx, genres_csr_col_idx)),\n",
    "        shape=(df_item_genre[\"item_id\"].max() + 1, max_genre + 1)\n",
    "    )\n",
    "    \n",
    "    # нормализуем, чтобы сумма оценок принадлежности к жанру была равна 1\n",
    "    genres_csr = normalize(genres_csr, norm='l1', axis=1)\n",
    "    \n",
    "    return genres_csr "
   ]
  },
  {
   "cell_type": "code",
   "execution_count": 76,
   "id": "1e083b6d",
   "metadata": {},
   "outputs": [],
   "source": [
    "# 1 min\n",
    "\n",
    "all_items_genres_csr = get_item2genre_matrix(df_items[[\"item_id\", \"genres\"]])"
   ]
  },
  {
   "cell_type": "code",
   "execution_count": 77,
   "id": "cb291605",
   "metadata": {},
   "outputs": [
    {
     "data": {
      "text/plain": [
       "<Compressed Sparse Row sparse matrix of dtype 'float64'\n",
       "\twith 1652658 stored elements and shape (1000000, 1543)>"
      ]
     },
     "execution_count": 77,
     "metadata": {},
     "output_type": "execute_result"
    }
   ],
   "source": [
    "# <Compressed Sparse Row sparse matrix of dtype 'float64'\n",
    "# \twith 1652658 stored elements and shape (1000000, 1543)>\n",
    "\n",
    "all_items_genres_csr"
   ]
  },
  {
   "cell_type": "code",
   "execution_count": 137,
   "id": "35e6eb79",
   "metadata": {},
   "outputs": [],
   "source": [
    "# определяем индексы топ-10 жанров и всех остальных\n",
    "\n",
    "top_genres_index = (all_items_genres_csr.sum(axis=0) * -1).argsort().tolist()[0][:10]\n",
    "other_genres = list(set(all_items_genres_csr.indices) - set(top_genres_index))"
   ]
  },
  {
   "cell_type": "code",
   "execution_count": null,
   "id": "24f6ba37",
   "metadata": {},
   "outputs": [],
   "source": []
  },
  {
   "cell_type": "code",
   "execution_count": null,
   "id": "8beeabda",
   "metadata": {},
   "outputs": [],
   "source": []
  },
  {
   "cell_type": "code",
   "execution_count": null,
   "id": "b3189281",
   "metadata": {},
   "outputs": [],
   "source": []
  },
  {
   "cell_type": "code",
   "execution_count": null,
   "id": "aa1c0e8a",
   "metadata": {},
   "outputs": [],
   "source": []
  },
  {
   "cell_type": "markdown",
   "id": "47bcf88d-b236-46f0-a6f3-38ddd64895fe",
   "metadata": {},
   "source": [
    "## Ранжирование рекомендаций"
   ]
  },
  {
   "cell_type": "markdown",
   "id": "e8cd8223-3418-4493-8c87-1f76286ebda0",
   "metadata": {},
   "source": [
    "Построим ранжирующую модель, чтобы сделать рекомендации более точными. Отранжируем рекомендации."
   ]
  },
  {
   "cell_type": "code",
   "execution_count": null,
   "id": "79f1dd92-32a9-463d-827e-8bb9ee5bbb54",
   "metadata": {},
   "outputs": [],
   "source": []
  },
  {
   "cell_type": "code",
   "execution_count": null,
   "id": "6dbe4db4-1ac5-44da-a13c-8e7f9768ab73",
   "metadata": {},
   "outputs": [],
   "source": []
  },
  {
   "cell_type": "markdown",
   "id": "b3c84071-45b5-4a15-a683-e0ab034a3128",
   "metadata": {},
   "source": [
    "## Оценка качества"
   ]
  },
  {
   "cell_type": "markdown",
   "id": "1b107fe4-554e-42b1-87d9-c435a52bb77a",
   "metadata": {},
   "source": [
    "Проверим оценку качества трёх типов рекомендаций: \n",
    "\n",
    "- топ популярных,\n",
    "- персональных, полученных при помощи ALS,\n",
    "- итоговых\n",
    "  \n",
    "по четырем метрикам: recall, precision, coverage, novelty."
   ]
  },
  {
   "cell_type": "code",
   "execution_count": null,
   "id": "94d6f388-aecb-443e-8647-14014e932d4d",
   "metadata": {},
   "outputs": [],
   "source": []
  },
  {
   "cell_type": "code",
   "execution_count": null,
   "id": "26df411f-14c1-4848-8797-f37afe449cc6",
   "metadata": {},
   "outputs": [],
   "source": []
  },
  {
   "cell_type": "markdown",
   "id": "f1c8d38c-32b0-46a4-96f0-cd01dac708bc",
   "metadata": {},
   "source": [
    "# === Выводы, метрики ==="
   ]
  },
  {
   "cell_type": "markdown",
   "id": "f7d7d5d8-7d1e-4fdf-a6cd-83e5ce92c684",
   "metadata": {},
   "source": [
    "Основные выводы при работе над расчётом рекомендаций, рассчитанные метрики."
   ]
  },
  {
   "cell_type": "code",
   "execution_count": null,
   "id": "6403097d-db36-46d9-8952-613c9bd51b05",
   "metadata": {},
   "outputs": [],
   "source": []
  },
  {
   "cell_type": "code",
   "execution_count": null,
   "id": "986cfdd5-6f2e-4de6-8666-85804c87d04b",
   "metadata": {},
   "outputs": [],
   "source": []
  }
 ],
 "metadata": {
  "kernelspec": {
   "display_name": "Python 3 (ipykernel)",
   "language": "python",
   "name": "python3"
  },
  "language_info": {
   "codemirror_mode": {
    "name": "ipython",
    "version": 3
   },
   "file_extension": ".py",
   "mimetype": "text/x-python",
   "name": "python",
   "nbconvert_exporter": "python",
   "pygments_lexer": "ipython3",
   "version": "3.10.12"
  }
 },
 "nbformat": 4,
 "nbformat_minor": 5
}
